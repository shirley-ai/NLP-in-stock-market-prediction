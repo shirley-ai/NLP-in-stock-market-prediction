{
 "cells": [
  {
   "cell_type": "markdown",
   "metadata": {},
   "source": [
    "### 本篇代码用于建立deep learning的模型，包含evaluation"
   ]
  },
  {
   "cell_type": "code",
   "execution_count": null,
   "metadata": {
    "scrolled": false
   },
   "outputs": [],
   "source": [
    "import pandas as pd\n",
    "import numpy as np\n",
    "import ast\n",
    "from tqdm import tqdm\n",
    "import re\n",
    "import matplotlib.pyplot as plt\n",
    "import seaborn as sns\n",
    "import gc\n",
    "import pickle\n",
    "import json\n",
    "tqdm.pandas()\n",
    "pd.options.mode.chained_assignment = None\n",
    "import keras\n",
    "pd.set_option('display.max_columns', None)\n",
    "pd.set_option('display.max_rows', None)"
   ]
  },
  {
   "cell_type": "code",
   "execution_count": 18,
   "metadata": {},
   "outputs": [],
   "source": [
    "df = pd.read_pickle(\"Pickles/processed_data.pkl\")\n",
    "#df = pd.read_csv(\"Data/lemmatized_text.csv\")"
   ]
  },
  {
   "cell_type": "code",
   "execution_count": null,
   "metadata": {},
   "outputs": [],
   "source": [
    "df.describe()"
   ]
  },
  {
   "cell_type": "code",
   "execution_count": null,
   "metadata": {},
   "outputs": [],
   "source": [
    "#df = df.reset_index()\n",
    "df.index"
   ]
  },
  {
   "cell_type": "code",
   "execution_count": null,
   "metadata": {},
   "outputs": [],
   "source": [
    "df.head()"
   ]
  },
  {
   "cell_type": "markdown",
   "metadata": {},
   "source": [
    "#### 导入neural network所需package"
   ]
  },
  {
   "cell_type": "code",
   "execution_count": 2,
   "metadata": {},
   "outputs": [],
   "source": [
    "import tensorflow as tf \n",
    "from keras.models import Sequential, Model, load_model \n",
    "from keras.layers import Dense, Dropout, GRU,Input, LSTM, Embedding, Bidirectional,SimpleRNN\n",
    "from keras.layers import Flatten, Conv1D, MaxPooling1D, GlobalMaxPooling1D, TimeDistributed, BatchNormalization\n",
    "from keras.layers import concatenate as lconcat\n",
    "from keras.optimizers import SGD\n",
    "from keras.preprocessing.text import Tokenizer\n",
    "from keras.preprocessing.sequence import pad_sequences\n",
    "from keras import backend as K\n",
    "\n",
    "\n",
    "#sess_config.gpu_options.allow_growth = True\n",
    "from keras.backend.tensorflow_backend import set_session\n",
    "config = tf.ConfigProto()\n",
    "config.gpu_options.allow_growth = True\n",
    "set_session(tf.Session(config=config))\n",
    "from sklearn.metrics import roc_auc_score\n",
    "from keras.utils import np_utils,plot_model, multi_gpu_model\n",
    "from IPython.display import SVG\n",
    "from keras.utils.vis_utils import model_to_dot\n",
    "\n",
    "from sklearn.model_selection import StratifiedShuffleSplit #sklearn是python自带的机器学习库\n",
    "from sklearn.model_selection import train_test_split\n",
    "from sklearn.preprocessing import MultiLabelBinarizer\n",
    "from sklearn.preprocessing import StandardScaler\n"
   ]
  },
  {
   "cell_type": "markdown",
   "metadata": {},
   "source": [
    "检查设备运算能力"
   ]
  },
  {
   "cell_type": "code",
   "execution_count": null,
   "metadata": {},
   "outputs": [],
   "source": [
    "from tensorflow.python.client import device_lib\n",
    "print(device_lib.list_local_devices())\n",
    "#我只有一个CPU"
   ]
  },
  {
   "cell_type": "markdown",
   "metadata": {},
   "source": [
    "#### 定义生成词向量的函数"
   ]
  },
  {
   "cell_type": "markdown",
   "metadata": {},
   "source": [
    "定义函数——embedding, padding, resampling  \n",
    "使用glove训练好的embedding,其中包含50，100，200，300维度。这里是假设该库可以代表当前文本。  \n",
    "注意这些函数都是针对上一步的数据设计的，其中涉及对某些列的引用,容易出错"
   ]
  },
  {
   "cell_type": "code",
   "execution_count": null,
   "metadata": {},
   "outputs": [],
   "source": [
    "df['text_len'].describe()"
   ]
  },
  {
   "cell_type": "code",
   "execution_count": 19,
   "metadata": {},
   "outputs": [],
   "source": [
    "#### Define number of words, and embedding dimensions\n",
    "max_words = 23070\n",
    "embed_dim = 100 \n",
    "#这个函数是将文本转化为embedding\n",
    "def load_embeddings(vec_file):\n",
    "    print(\"Loading Glove Model\")\n",
    "    #f = open(vec_file,'r')\n",
    "    f = open(vec_file,'r',encoding='UTF-8') #加上encoding方式否则读取出错\n",
    "    model = {}\n",
    "    for line in f:\n",
    "        splitLine = line.split()\n",
    "        word = splitLine[0]\n",
    "        embedding = np.array([float(val) for val in splitLine[1:]])\n",
    "        model[word] = embedding\n",
    "    print(\"Done. {} words loaded!\".format(len(model)))\n",
    "    return model\n",
    "#这个函数是padding。\n",
    "def tokenize_and_pad(docs,max_words=max_words):\n",
    "    global t\n",
    "    t = Tokenizer()\n",
    "    t.fit_on_texts(docs)\n",
    "    docs = pad_sequences(sequences = t.texts_to_sequences(docs),maxlen = max_words, padding = 'post')\n",
    "    global vocab_size\n",
    "    vocab_size = len(t.word_index) + 1\n",
    "    \n",
    "    return docs\n",
    "#这个函数是调整样本的代表性\n",
    "def oversample(X,docs,y):\n",
    "    # Get number of rows with imbalanced class\n",
    "    target = y.sum().idxmax()#得到y中数量最多的对象，up\n",
    "    n = y[target].sum()#计数\n",
    "    # identify imbalanced targets\n",
    "    imbalanced = y.drop(target,axis=1) #扔掉up，保留另外两列\n",
    "    #For each target, create a dataframe of randomly sampled rows, append to list\n",
    "    #随机从另外两列中抽取一些数据进行复制\n",
    "    append_list =  [y.loc[y[col]==1].sample(n=n-y[col].sum(),replace=True,random_state=20) for col in imbalanced.columns]\n",
    "    append_list.append(y)\n",
    "    #复制时他们的index也复制了，所以可以用来匹配X\n",
    "    y = pd.concat(append_list,axis=0)\n",
    "    # match y indexes on other inputs\n",
    "    X = X.loc[y.index] #注意这里是根据两个表的索引来匹配的，一旦索引除了问题就会出错\n",
    "    docs = pd.DataFrame(docs_train,index=y_train.index).loc[y.index]\n",
    "    assert (y.index.all() == X.index.all() == docs.index.all())\n",
    "    return X,docs.values,y"
   ]
  },
  {
   "cell_type": "markdown",
   "metadata": {},
   "source": [
    "#### 将项目变量转换成哑变量"
   ]
  },
  {
   "cell_type": "code",
   "execution_count": 20,
   "metadata": {},
   "outputs": [],
   "source": [
    "#这是把项目变量变成n-1个哑变量\n",
    "mlb = MultiLabelBinarizer()\n",
    "df = df.join(pd.DataFrame(mlb.fit_transform(df.pop('items')),columns=mlb.classes_,),sort=False,how=\"left\")"
   ]
  },
  {
   "cell_type": "code",
   "execution_count": 21,
   "metadata": {},
   "outputs": [
    {
     "data": {
      "text/html": [
       "<div>\n",
       "<style scoped>\n",
       "    .dataframe tbody tr th:only-of-type {\n",
       "        vertical-align: middle;\n",
       "    }\n",
       "\n",
       "    .dataframe tbody tr th {\n",
       "        vertical-align: top;\n",
       "    }\n",
       "\n",
       "    .dataframe thead th {\n",
       "        text-align: right;\n",
       "    }\n",
       "</style>\n",
       "<table border=\"1\" class=\"dataframe\">\n",
       "  <thead>\n",
       "    <tr style=\"text-align: right;\">\n",
       "      <th></th>\n",
       "      <th>GICS Sector</th>\n",
       "      <th>GICS Sub Industry</th>\n",
       "      <th>cik</th>\n",
       "      <th>doc_name</th>\n",
       "      <th>release_date</th>\n",
       "      <th>text</th>\n",
       "      <th>ticker</th>\n",
       "      <th>txt_link</th>\n",
       "      <th>rm_week</th>\n",
       "      <th>rm_month</th>\n",
       "      <th>rm_qtr</th>\n",
       "      <th>rm_year</th>\n",
       "      <th>vix</th>\n",
       "      <th>price_change</th>\n",
       "      <th>signal</th>\n",
       "      <th>processed_text</th>\n",
       "      <th>text_len</th>\n",
       "      <th>sentiment</th>\n",
       "      <th>Item 1.01</th>\n",
       "      <th>Item 1.02</th>\n",
       "      <th>Item 2.01</th>\n",
       "      <th>Item 2.02</th>\n",
       "      <th>Item 2.03</th>\n",
       "      <th>Item 2.04</th>\n",
       "      <th>Item 2.05</th>\n",
       "      <th>Item 2.06</th>\n",
       "      <th>Item 3.01</th>\n",
       "      <th>Item 3.02</th>\n",
       "      <th>Item 3.03</th>\n",
       "      <th>Item 4.02</th>\n",
       "      <th>Item 5.01</th>\n",
       "      <th>Item 5.02</th>\n",
       "      <th>Item 5.03</th>\n",
       "      <th>Item 5.04</th>\n",
       "      <th>Item 5.07</th>\n",
       "      <th>Item 5.08</th>\n",
       "      <th>Item 7.01</th>\n",
       "      <th>Item 8.01</th>\n",
       "      <th>Item 9.01</th>\n",
       "    </tr>\n",
       "  </thead>\n",
       "  <tbody>\n",
       "    <tr>\n",
       "      <th>0</th>\n",
       "      <td>Information Technology</td>\n",
       "      <td>Information Technology</td>\n",
       "      <td>789019.0</td>\n",
       "      <td>0001193125-19-022553.txt</td>\n",
       "      <td>2019-01-30 16:03:36</td>\n",
       "      <td>0001193125-19-022553.txt : 20190130 0001193125...</td>\n",
       "      <td>MSFT</td>\n",
       "      <td>https://www.sec.gov/Archives/edgar/data/789019...</td>\n",
       "      <td>-3.80</td>\n",
       "      <td>0.61</td>\n",
       "      <td>2.12</td>\n",
       "      <td>20.47</td>\n",
       "      <td>17.66</td>\n",
       "      <td>-1.82</td>\n",
       "      <td>down</td>\n",
       "      <td>[accession, number, conformed, submission, typ...</td>\n",
       "      <td>980</td>\n",
       "      <td>0.066667</td>\n",
       "      <td>0</td>\n",
       "      <td>0</td>\n",
       "      <td>0</td>\n",
       "      <td>1</td>\n",
       "      <td>0</td>\n",
       "      <td>0</td>\n",
       "      <td>0</td>\n",
       "      <td>0</td>\n",
       "      <td>0</td>\n",
       "      <td>0</td>\n",
       "      <td>0</td>\n",
       "      <td>0</td>\n",
       "      <td>0</td>\n",
       "      <td>0</td>\n",
       "      <td>0</td>\n",
       "      <td>0</td>\n",
       "      <td>0</td>\n",
       "      <td>0</td>\n",
       "      <td>0</td>\n",
       "      <td>0</td>\n",
       "      <td>1</td>\n",
       "    </tr>\n",
       "    <tr>\n",
       "      <th>1</th>\n",
       "      <td>Information Technology</td>\n",
       "      <td>Information Technology</td>\n",
       "      <td>789019.0</td>\n",
       "      <td>0001193125-18-337951.txt</td>\n",
       "      <td>2018-11-29 15:29:57</td>\n",
       "      <td>0001193125-18-337951.txt : 20181129 0001193125...</td>\n",
       "      <td>MSFT</td>\n",
       "      <td>https://www.sec.gov/Archives/edgar/data/789019...</td>\n",
       "      <td>6.77</td>\n",
       "      <td>0.11</td>\n",
       "      <td>-0.01</td>\n",
       "      <td>23.76</td>\n",
       "      <td>18.65</td>\n",
       "      <td>-0.95</td>\n",
       "      <td>stay</td>\n",
       "      <td>[accession, number, conformed, submission, typ...</td>\n",
       "      <td>279</td>\n",
       "      <td>0.000000</td>\n",
       "      <td>0</td>\n",
       "      <td>0</td>\n",
       "      <td>0</td>\n",
       "      <td>0</td>\n",
       "      <td>0</td>\n",
       "      <td>0</td>\n",
       "      <td>0</td>\n",
       "      <td>0</td>\n",
       "      <td>0</td>\n",
       "      <td>0</td>\n",
       "      <td>0</td>\n",
       "      <td>0</td>\n",
       "      <td>0</td>\n",
       "      <td>0</td>\n",
       "      <td>0</td>\n",
       "      <td>0</td>\n",
       "      <td>1</td>\n",
       "      <td>0</td>\n",
       "      <td>0</td>\n",
       "      <td>0</td>\n",
       "      <td>0</td>\n",
       "    </tr>\n",
       "    <tr>\n",
       "      <th>2</th>\n",
       "      <td>Information Technology</td>\n",
       "      <td>Information Technology</td>\n",
       "      <td>789019.0</td>\n",
       "      <td>0001193125-18-306365.txt</td>\n",
       "      <td>2018-10-24 16:03:06</td>\n",
       "      <td>0001193125-18-306365.txt : 20181024 0001193125...</td>\n",
       "      <td>MSFT</td>\n",
       "      <td>https://www.sec.gov/Archives/edgar/data/789019...</td>\n",
       "      <td>-0.91</td>\n",
       "      <td>-1.60</td>\n",
       "      <td>1.60</td>\n",
       "      <td>37.85</td>\n",
       "      <td>25.23</td>\n",
       "      <td>4.71</td>\n",
       "      <td>up</td>\n",
       "      <td>[accession, number, conformed, submission, typ...</td>\n",
       "      <td>838</td>\n",
       "      <td>0.000000</td>\n",
       "      <td>0</td>\n",
       "      <td>0</td>\n",
       "      <td>0</td>\n",
       "      <td>1</td>\n",
       "      <td>0</td>\n",
       "      <td>0</td>\n",
       "      <td>0</td>\n",
       "      <td>0</td>\n",
       "      <td>0</td>\n",
       "      <td>0</td>\n",
       "      <td>0</td>\n",
       "      <td>0</td>\n",
       "      <td>0</td>\n",
       "      <td>0</td>\n",
       "      <td>0</td>\n",
       "      <td>0</td>\n",
       "      <td>0</td>\n",
       "      <td>0</td>\n",
       "      <td>0</td>\n",
       "      <td>0</td>\n",
       "      <td>1</td>\n",
       "    </tr>\n",
       "    <tr>\n",
       "      <th>3</th>\n",
       "      <td>Information Technology</td>\n",
       "      <td>Information Technology</td>\n",
       "      <td>789019.0</td>\n",
       "      <td>0001193125-18-277602.txt</td>\n",
       "      <td>2018-09-19 16:15:58</td>\n",
       "      <td>0001193125-18-277602.txt : 20180919 0001193125...</td>\n",
       "      <td>MSFT</td>\n",
       "      <td>https://www.sec.gov/Archives/edgar/data/789019...</td>\n",
       "      <td>1.02</td>\n",
       "      <td>2.87</td>\n",
       "      <td>9.60</td>\n",
       "      <td>42.83</td>\n",
       "      <td>11.75</td>\n",
       "      <td>1.35</td>\n",
       "      <td>up</td>\n",
       "      <td>[accession, number, conformed, submission, typ...</td>\n",
       "      <td>474</td>\n",
       "      <td>0.000000</td>\n",
       "      <td>0</td>\n",
       "      <td>0</td>\n",
       "      <td>0</td>\n",
       "      <td>0</td>\n",
       "      <td>0</td>\n",
       "      <td>0</td>\n",
       "      <td>0</td>\n",
       "      <td>0</td>\n",
       "      <td>0</td>\n",
       "      <td>0</td>\n",
       "      <td>0</td>\n",
       "      <td>0</td>\n",
       "      <td>0</td>\n",
       "      <td>1</td>\n",
       "      <td>0</td>\n",
       "      <td>0</td>\n",
       "      <td>0</td>\n",
       "      <td>0</td>\n",
       "      <td>0</td>\n",
       "      <td>0</td>\n",
       "      <td>1</td>\n",
       "    </tr>\n",
       "    <tr>\n",
       "      <th>4</th>\n",
       "      <td>Information Technology</td>\n",
       "      <td>Information Technology</td>\n",
       "      <td>789019.0</td>\n",
       "      <td>0001193125-18-221458.txt</td>\n",
       "      <td>2018-07-19 16:02:35</td>\n",
       "      <td>0001193125-18-221458.txt : 20180719 0001193125...</td>\n",
       "      <td>MSFT</td>\n",
       "      <td>https://www.sec.gov/Archives/edgar/data/789019...</td>\n",
       "      <td>0.66</td>\n",
       "      <td>5.09</td>\n",
       "      <td>8.96</td>\n",
       "      <td>38.96</td>\n",
       "      <td>12.87</td>\n",
       "      <td>5.21</td>\n",
       "      <td>up</td>\n",
       "      <td>[accession, number, conformed, submission, typ...</td>\n",
       "      <td>1332</td>\n",
       "      <td>0.333333</td>\n",
       "      <td>0</td>\n",
       "      <td>0</td>\n",
       "      <td>0</td>\n",
       "      <td>1</td>\n",
       "      <td>0</td>\n",
       "      <td>0</td>\n",
       "      <td>0</td>\n",
       "      <td>0</td>\n",
       "      <td>0</td>\n",
       "      <td>0</td>\n",
       "      <td>0</td>\n",
       "      <td>0</td>\n",
       "      <td>0</td>\n",
       "      <td>0</td>\n",
       "      <td>0</td>\n",
       "      <td>0</td>\n",
       "      <td>0</td>\n",
       "      <td>0</td>\n",
       "      <td>0</td>\n",
       "      <td>0</td>\n",
       "      <td>1</td>\n",
       "    </tr>\n",
       "  </tbody>\n",
       "</table>\n",
       "</div>"
      ],
      "text/plain": [
       "              GICS Sector       GICS Sub Industry       cik  \\\n",
       "0  Information Technology  Information Technology  789019.0   \n",
       "1  Information Technology  Information Technology  789019.0   \n",
       "2  Information Technology  Information Technology  789019.0   \n",
       "3  Information Technology  Information Technology  789019.0   \n",
       "4  Information Technology  Information Technology  789019.0   \n",
       "\n",
       "                   doc_name        release_date  \\\n",
       "0  0001193125-19-022553.txt 2019-01-30 16:03:36   \n",
       "1  0001193125-18-337951.txt 2018-11-29 15:29:57   \n",
       "2  0001193125-18-306365.txt 2018-10-24 16:03:06   \n",
       "3  0001193125-18-277602.txt 2018-09-19 16:15:58   \n",
       "4  0001193125-18-221458.txt 2018-07-19 16:02:35   \n",
       "\n",
       "                                                text ticker  \\\n",
       "0  0001193125-19-022553.txt : 20190130 0001193125...   MSFT   \n",
       "1  0001193125-18-337951.txt : 20181129 0001193125...   MSFT   \n",
       "2  0001193125-18-306365.txt : 20181024 0001193125...   MSFT   \n",
       "3  0001193125-18-277602.txt : 20180919 0001193125...   MSFT   \n",
       "4  0001193125-18-221458.txt : 20180719 0001193125...   MSFT   \n",
       "\n",
       "                                            txt_link  rm_week  rm_month  \\\n",
       "0  https://www.sec.gov/Archives/edgar/data/789019...    -3.80      0.61   \n",
       "1  https://www.sec.gov/Archives/edgar/data/789019...     6.77      0.11   \n",
       "2  https://www.sec.gov/Archives/edgar/data/789019...    -0.91     -1.60   \n",
       "3  https://www.sec.gov/Archives/edgar/data/789019...     1.02      2.87   \n",
       "4  https://www.sec.gov/Archives/edgar/data/789019...     0.66      5.09   \n",
       "\n",
       "   rm_qtr  rm_year    vix  price_change signal  \\\n",
       "0    2.12    20.47  17.66         -1.82   down   \n",
       "1   -0.01    23.76  18.65         -0.95   stay   \n",
       "2    1.60    37.85  25.23          4.71     up   \n",
       "3    9.60    42.83  11.75          1.35     up   \n",
       "4    8.96    38.96  12.87          5.21     up   \n",
       "\n",
       "                                      processed_text  text_len  sentiment  \\\n",
       "0  [accession, number, conformed, submission, typ...       980   0.066667   \n",
       "1  [accession, number, conformed, submission, typ...       279   0.000000   \n",
       "2  [accession, number, conformed, submission, typ...       838   0.000000   \n",
       "3  [accession, number, conformed, submission, typ...       474   0.000000   \n",
       "4  [accession, number, conformed, submission, typ...      1332   0.333333   \n",
       "\n",
       "   Item 1.01  Item 1.02  Item 2.01  Item 2.02  Item 2.03  Item 2.04  \\\n",
       "0          0          0          0          1          0          0   \n",
       "1          0          0          0          0          0          0   \n",
       "2          0          0          0          1          0          0   \n",
       "3          0          0          0          0          0          0   \n",
       "4          0          0          0          1          0          0   \n",
       "\n",
       "   Item 2.05  Item 2.06  Item 3.01  Item 3.02  Item 3.03  Item 4.02  \\\n",
       "0          0          0          0          0          0          0   \n",
       "1          0          0          0          0          0          0   \n",
       "2          0          0          0          0          0          0   \n",
       "3          0          0          0          0          0          0   \n",
       "4          0          0          0          0          0          0   \n",
       "\n",
       "   Item 5.01  Item 5.02  Item 5.03  Item 5.04  Item 5.07  Item 5.08  \\\n",
       "0          0          0          0          0          0          0   \n",
       "1          0          0          0          0          1          0   \n",
       "2          0          0          0          0          0          0   \n",
       "3          0          1          0          0          0          0   \n",
       "4          0          0          0          0          0          0   \n",
       "\n",
       "   Item 7.01  Item 8.01  Item 9.01  \n",
       "0          0          0          1  \n",
       "1          0          0          0  \n",
       "2          0          0          1  \n",
       "3          0          0          1  \n",
       "4          0          0          1  "
      ]
     },
     "execution_count": 21,
     "metadata": {},
     "output_type": "execute_result"
    }
   ],
   "source": [
    "df.head()"
   ]
  },
  {
   "cell_type": "markdown",
   "metadata": {},
   "source": [
    "#### 将其他类别变量转换成哑变量"
   ]
  },
  {
   "cell_type": "code",
   "execution_count": 22,
   "metadata": {
    "scrolled": true
   },
   "outputs": [],
   "source": [
    "# 把label和数据分开，所有类别变量都变成哑变量\n",
    "cols = ['GICS Sector','vix','rm_week','rm_month', 'rm_qtr', 'rm_year','sentiment']\n",
    "cols.extend(list(mlb.classes_))\n",
    "X = df[cols]\n",
    "docs = df['processed_text']\n",
    "\n",
    "y = df['signal']\n",
    "\n",
    "# Get Dummies\n",
    "\n",
    "docs = tokenize_and_pad(docs)\n",
    "X = pd.get_dummies(columns = ['GICS Sector'],prefix=\"sector\",data=X)\n",
    "y = pd.get_dummies(columns=['signal'],data=y)\n",
    "\n",
    "aux_shape = len(X.columns)"
   ]
  },
  {
   "cell_type": "markdown",
   "metadata": {},
   "source": [
    "检查有没有出错"
   ]
  },
  {
   "cell_type": "code",
   "execution_count": 23,
   "metadata": {},
   "outputs": [
    {
     "data": {
      "text/plain": [
       "3426"
      ]
     },
     "execution_count": 23,
     "metadata": {},
     "output_type": "execute_result"
    }
   ],
   "source": [
    "len(docs)"
   ]
  },
  {
   "cell_type": "code",
   "execution_count": 24,
   "metadata": {},
   "outputs": [
    {
     "data": {
      "text/plain": [
       "3426"
      ]
     },
     "execution_count": 24,
     "metadata": {},
     "output_type": "execute_result"
    }
   ],
   "source": [
    "len(X)"
   ]
  },
  {
   "cell_type": "code",
   "execution_count": 25,
   "metadata": {},
   "outputs": [
    {
     "data": {
      "text/plain": [
       "3426"
      ]
     },
     "execution_count": 25,
     "metadata": {},
     "output_type": "execute_result"
    }
   ],
   "source": [
    "len(y)"
   ]
  },
  {
   "cell_type": "code",
   "execution_count": 26,
   "metadata": {},
   "outputs": [
    {
     "data": {
      "text/html": [
       "<div>\n",
       "<style scoped>\n",
       "    .dataframe tbody tr th:only-of-type {\n",
       "        vertical-align: middle;\n",
       "    }\n",
       "\n",
       "    .dataframe tbody tr th {\n",
       "        vertical-align: top;\n",
       "    }\n",
       "\n",
       "    .dataframe thead th {\n",
       "        text-align: right;\n",
       "    }\n",
       "</style>\n",
       "<table border=\"1\" class=\"dataframe\">\n",
       "  <thead>\n",
       "    <tr style=\"text-align: right;\">\n",
       "      <th></th>\n",
       "      <th>vix</th>\n",
       "      <th>rm_week</th>\n",
       "      <th>rm_month</th>\n",
       "      <th>rm_qtr</th>\n",
       "      <th>rm_year</th>\n",
       "      <th>sentiment</th>\n",
       "      <th>Item 1.01</th>\n",
       "      <th>Item 1.02</th>\n",
       "      <th>Item 2.01</th>\n",
       "      <th>Item 2.02</th>\n",
       "      <th>Item 2.03</th>\n",
       "      <th>Item 2.04</th>\n",
       "      <th>Item 2.05</th>\n",
       "      <th>Item 2.06</th>\n",
       "      <th>Item 3.01</th>\n",
       "      <th>Item 3.02</th>\n",
       "      <th>Item 3.03</th>\n",
       "      <th>Item 4.02</th>\n",
       "      <th>Item 5.01</th>\n",
       "      <th>Item 5.02</th>\n",
       "      <th>Item 5.03</th>\n",
       "      <th>Item 5.04</th>\n",
       "      <th>Item 5.07</th>\n",
       "      <th>Item 5.08</th>\n",
       "      <th>Item 7.01</th>\n",
       "      <th>Item 8.01</th>\n",
       "      <th>Item 9.01</th>\n",
       "      <th>sector_Communication Services</th>\n",
       "      <th>sector_Consumer Discretionary</th>\n",
       "      <th>sector_Consumer Staples</th>\n",
       "      <th>sector_Energy</th>\n",
       "      <th>sector_Financials</th>\n",
       "      <th>sector_Health Care</th>\n",
       "      <th>sector_Industrials</th>\n",
       "      <th>sector_Information Technology</th>\n",
       "      <th>sector_Materials</th>\n",
       "      <th>sector_Real Estate</th>\n",
       "      <th>sector_Utilities</th>\n",
       "    </tr>\n",
       "  </thead>\n",
       "  <tbody>\n",
       "    <tr>\n",
       "      <th>0</th>\n",
       "      <td>17.66</td>\n",
       "      <td>-3.80</td>\n",
       "      <td>0.61</td>\n",
       "      <td>2.12</td>\n",
       "      <td>20.47</td>\n",
       "      <td>0.066667</td>\n",
       "      <td>0</td>\n",
       "      <td>0</td>\n",
       "      <td>0</td>\n",
       "      <td>1</td>\n",
       "      <td>0</td>\n",
       "      <td>0</td>\n",
       "      <td>0</td>\n",
       "      <td>0</td>\n",
       "      <td>0</td>\n",
       "      <td>0</td>\n",
       "      <td>0</td>\n",
       "      <td>0</td>\n",
       "      <td>0</td>\n",
       "      <td>0</td>\n",
       "      <td>0</td>\n",
       "      <td>0</td>\n",
       "      <td>0</td>\n",
       "      <td>0</td>\n",
       "      <td>0</td>\n",
       "      <td>0</td>\n",
       "      <td>1</td>\n",
       "      <td>0</td>\n",
       "      <td>0</td>\n",
       "      <td>0</td>\n",
       "      <td>0</td>\n",
       "      <td>0</td>\n",
       "      <td>0</td>\n",
       "      <td>0</td>\n",
       "      <td>1</td>\n",
       "      <td>0</td>\n",
       "      <td>0</td>\n",
       "      <td>0</td>\n",
       "    </tr>\n",
       "    <tr>\n",
       "      <th>1</th>\n",
       "      <td>18.65</td>\n",
       "      <td>6.77</td>\n",
       "      <td>0.11</td>\n",
       "      <td>-0.01</td>\n",
       "      <td>23.76</td>\n",
       "      <td>0.000000</td>\n",
       "      <td>0</td>\n",
       "      <td>0</td>\n",
       "      <td>0</td>\n",
       "      <td>0</td>\n",
       "      <td>0</td>\n",
       "      <td>0</td>\n",
       "      <td>0</td>\n",
       "      <td>0</td>\n",
       "      <td>0</td>\n",
       "      <td>0</td>\n",
       "      <td>0</td>\n",
       "      <td>0</td>\n",
       "      <td>0</td>\n",
       "      <td>0</td>\n",
       "      <td>0</td>\n",
       "      <td>0</td>\n",
       "      <td>1</td>\n",
       "      <td>0</td>\n",
       "      <td>0</td>\n",
       "      <td>0</td>\n",
       "      <td>0</td>\n",
       "      <td>0</td>\n",
       "      <td>0</td>\n",
       "      <td>0</td>\n",
       "      <td>0</td>\n",
       "      <td>0</td>\n",
       "      <td>0</td>\n",
       "      <td>0</td>\n",
       "      <td>1</td>\n",
       "      <td>0</td>\n",
       "      <td>0</td>\n",
       "      <td>0</td>\n",
       "    </tr>\n",
       "    <tr>\n",
       "      <th>2</th>\n",
       "      <td>25.23</td>\n",
       "      <td>-0.91</td>\n",
       "      <td>-1.60</td>\n",
       "      <td>1.60</td>\n",
       "      <td>37.85</td>\n",
       "      <td>0.000000</td>\n",
       "      <td>0</td>\n",
       "      <td>0</td>\n",
       "      <td>0</td>\n",
       "      <td>1</td>\n",
       "      <td>0</td>\n",
       "      <td>0</td>\n",
       "      <td>0</td>\n",
       "      <td>0</td>\n",
       "      <td>0</td>\n",
       "      <td>0</td>\n",
       "      <td>0</td>\n",
       "      <td>0</td>\n",
       "      <td>0</td>\n",
       "      <td>0</td>\n",
       "      <td>0</td>\n",
       "      <td>0</td>\n",
       "      <td>0</td>\n",
       "      <td>0</td>\n",
       "      <td>0</td>\n",
       "      <td>0</td>\n",
       "      <td>1</td>\n",
       "      <td>0</td>\n",
       "      <td>0</td>\n",
       "      <td>0</td>\n",
       "      <td>0</td>\n",
       "      <td>0</td>\n",
       "      <td>0</td>\n",
       "      <td>0</td>\n",
       "      <td>1</td>\n",
       "      <td>0</td>\n",
       "      <td>0</td>\n",
       "      <td>0</td>\n",
       "    </tr>\n",
       "    <tr>\n",
       "      <th>3</th>\n",
       "      <td>11.75</td>\n",
       "      <td>1.02</td>\n",
       "      <td>2.87</td>\n",
       "      <td>9.60</td>\n",
       "      <td>42.83</td>\n",
       "      <td>0.000000</td>\n",
       "      <td>0</td>\n",
       "      <td>0</td>\n",
       "      <td>0</td>\n",
       "      <td>0</td>\n",
       "      <td>0</td>\n",
       "      <td>0</td>\n",
       "      <td>0</td>\n",
       "      <td>0</td>\n",
       "      <td>0</td>\n",
       "      <td>0</td>\n",
       "      <td>0</td>\n",
       "      <td>0</td>\n",
       "      <td>0</td>\n",
       "      <td>1</td>\n",
       "      <td>0</td>\n",
       "      <td>0</td>\n",
       "      <td>0</td>\n",
       "      <td>0</td>\n",
       "      <td>0</td>\n",
       "      <td>0</td>\n",
       "      <td>1</td>\n",
       "      <td>0</td>\n",
       "      <td>0</td>\n",
       "      <td>0</td>\n",
       "      <td>0</td>\n",
       "      <td>0</td>\n",
       "      <td>0</td>\n",
       "      <td>0</td>\n",
       "      <td>1</td>\n",
       "      <td>0</td>\n",
       "      <td>0</td>\n",
       "      <td>0</td>\n",
       "    </tr>\n",
       "    <tr>\n",
       "      <th>4</th>\n",
       "      <td>12.87</td>\n",
       "      <td>0.66</td>\n",
       "      <td>5.09</td>\n",
       "      <td>8.96</td>\n",
       "      <td>38.96</td>\n",
       "      <td>0.333333</td>\n",
       "      <td>0</td>\n",
       "      <td>0</td>\n",
       "      <td>0</td>\n",
       "      <td>1</td>\n",
       "      <td>0</td>\n",
       "      <td>0</td>\n",
       "      <td>0</td>\n",
       "      <td>0</td>\n",
       "      <td>0</td>\n",
       "      <td>0</td>\n",
       "      <td>0</td>\n",
       "      <td>0</td>\n",
       "      <td>0</td>\n",
       "      <td>0</td>\n",
       "      <td>0</td>\n",
       "      <td>0</td>\n",
       "      <td>0</td>\n",
       "      <td>0</td>\n",
       "      <td>0</td>\n",
       "      <td>0</td>\n",
       "      <td>1</td>\n",
       "      <td>0</td>\n",
       "      <td>0</td>\n",
       "      <td>0</td>\n",
       "      <td>0</td>\n",
       "      <td>0</td>\n",
       "      <td>0</td>\n",
       "      <td>0</td>\n",
       "      <td>1</td>\n",
       "      <td>0</td>\n",
       "      <td>0</td>\n",
       "      <td>0</td>\n",
       "    </tr>\n",
       "  </tbody>\n",
       "</table>\n",
       "</div>"
      ],
      "text/plain": [
       "     vix  rm_week  rm_month  rm_qtr  rm_year  sentiment  Item 1.01  Item 1.02  \\\n",
       "0  17.66    -3.80      0.61    2.12    20.47   0.066667          0          0   \n",
       "1  18.65     6.77      0.11   -0.01    23.76   0.000000          0          0   \n",
       "2  25.23    -0.91     -1.60    1.60    37.85   0.000000          0          0   \n",
       "3  11.75     1.02      2.87    9.60    42.83   0.000000          0          0   \n",
       "4  12.87     0.66      5.09    8.96    38.96   0.333333          0          0   \n",
       "\n",
       "   Item 2.01  Item 2.02  Item 2.03  Item 2.04  Item 2.05  Item 2.06  \\\n",
       "0          0          1          0          0          0          0   \n",
       "1          0          0          0          0          0          0   \n",
       "2          0          1          0          0          0          0   \n",
       "3          0          0          0          0          0          0   \n",
       "4          0          1          0          0          0          0   \n",
       "\n",
       "   Item 3.01  Item 3.02  Item 3.03  Item 4.02  Item 5.01  Item 5.02  \\\n",
       "0          0          0          0          0          0          0   \n",
       "1          0          0          0          0          0          0   \n",
       "2          0          0          0          0          0          0   \n",
       "3          0          0          0          0          0          1   \n",
       "4          0          0          0          0          0          0   \n",
       "\n",
       "   Item 5.03  Item 5.04  Item 5.07  Item 5.08  Item 7.01  Item 8.01  \\\n",
       "0          0          0          0          0          0          0   \n",
       "1          0          0          1          0          0          0   \n",
       "2          0          0          0          0          0          0   \n",
       "3          0          0          0          0          0          0   \n",
       "4          0          0          0          0          0          0   \n",
       "\n",
       "   Item 9.01  sector_Communication Services  sector_Consumer Discretionary  \\\n",
       "0          1                              0                              0   \n",
       "1          0                              0                              0   \n",
       "2          1                              0                              0   \n",
       "3          1                              0                              0   \n",
       "4          1                              0                              0   \n",
       "\n",
       "   sector_Consumer Staples  sector_Energy  sector_Financials  \\\n",
       "0                        0              0                  0   \n",
       "1                        0              0                  0   \n",
       "2                        0              0                  0   \n",
       "3                        0              0                  0   \n",
       "4                        0              0                  0   \n",
       "\n",
       "   sector_Health Care  sector_Industrials  sector_Information Technology  \\\n",
       "0                   0                   0                              1   \n",
       "1                   0                   0                              1   \n",
       "2                   0                   0                              1   \n",
       "3                   0                   0                              1   \n",
       "4                   0                   0                              1   \n",
       "\n",
       "   sector_Materials  sector_Real Estate  sector_Utilities  \n",
       "0                 0                   0                 0  \n",
       "1                 0                   0                 0  \n",
       "2                 0                   0                 0  \n",
       "3                 0                   0                 0  \n",
       "4                 0                   0                 0  "
      ]
     },
     "execution_count": 26,
     "metadata": {},
     "output_type": "execute_result"
    }
   ],
   "source": [
    "X.head()"
   ]
  },
  {
   "cell_type": "markdown",
   "metadata": {},
   "source": [
    "#### 将数据分成training, validation, testing"
   ]
  },
  {
   "cell_type": "code",
   "execution_count": null,
   "metadata": {},
   "outputs": [],
   "source": [
    "# Split into train and test data for NN models\n",
    "X_train, X_test, y_train, y_test, docs_train, docs_test = train_test_split(X, y,docs,\n",
    "                                                    stratify=y, \n",
    "                                                    test_size=0.2,\n",
    "                                                    random_state = 20)\n",
    "X_validation, X_test, y_validation, y_test, docs_validation, docs_test = train_test_split(X_test_va, y_test_va,docs_test_va,\n",
    "                                                  stratify=y_test_va, \n",
    "                                                   test_size=0.5,\n",
    "                                                    random_state = 20)"
   ]
  },
  {
   "cell_type": "markdown",
   "metadata": {},
   "source": [
    "检查是否正确"
   ]
  },
  {
   "cell_type": "code",
   "execution_count": null,
   "metadata": {},
   "outputs": [],
   "source": [
    "len(X_train)"
   ]
  },
  {
   "cell_type": "code",
   "execution_count": null,
   "metadata": {},
   "outputs": [],
   "source": [
    "len(y_train)"
   ]
  },
  {
   "cell_type": "code",
   "execution_count": null,
   "metadata": {},
   "outputs": [],
   "source": [
    "len(docs_train)"
   ]
  },
  {
   "cell_type": "code",
   "execution_count": null,
   "metadata": {},
   "outputs": [],
   "source": [
    "len(X_test)"
   ]
  },
  {
   "cell_type": "markdown",
   "metadata": {},
   "source": [
    "#### 标准化连续变量，以及重复抽样训练数据，调整样本比例"
   ]
  },
  {
   "cell_type": "code",
   "execution_count": null,
   "metadata": {},
   "outputs": [],
   "source": [
    "cont_features = ['vix','rm_week','rm_month', 'rm_qtr', 'rm_year','sentiment']\n",
    "aux_features = cont_features + [item for item in mlb.classes_]\n",
    "x_scaler = StandardScaler()\n",
    "X_train[cont_features] = x_scaler.fit_transform(X_train[cont_features])\n",
    "X_test[cont_features] = x_scaler.transform(X_test[cont_features])\n",
    "\n",
    "X_train, docs_train, y_train = oversample(X_train, docs_train, y_train)"
   ]
  },
  {
   "cell_type": "markdown",
   "metadata": {},
   "source": [
    "进行resample调整比重后再次检查"
   ]
  },
  {
   "cell_type": "code",
   "execution_count": null,
   "metadata": {},
   "outputs": [],
   "source": [
    "len(X_train)"
   ]
  },
  {
   "cell_type": "code",
   "execution_count": null,
   "metadata": {},
   "outputs": [],
   "source": [
    "len(y_train)"
   ]
  },
  {
   "cell_type": "code",
   "execution_count": null,
   "metadata": {},
   "outputs": [],
   "source": [
    "len(docs_train)"
   ]
  },
  {
   "cell_type": "code",
   "execution_count": null,
   "metadata": {},
   "outputs": [],
   "source": [
    "y_train.sum() #每个label都变得相等"
   ]
  },
  {
   "cell_type": "markdown",
   "metadata": {},
   "source": [
    "#### 用GloVe做embedding"
   ]
  },
  {
   "cell_type": "code",
   "execution_count": null,
   "metadata": {
    "scrolled": false
   },
   "outputs": [],
   "source": [
    "embeddings_index = load_embeddings(\"Data/glove.6B.100d.txt\")"
   ]
  },
  {
   "cell_type": "code",
   "execution_count": null,
   "metadata": {},
   "outputs": [],
   "source": [
    "\n",
    "words_not_found = []\n",
    "\n",
    "embedding_matrix = np.zeros((vocab_size, embed_dim))\n",
    "for word, i in t.word_index.items():\n",
    "    embedding_vector = embeddings_index.get(word)\n",
    "    if embedding_vector is not None:\n",
    "        # words not found in embedding index will be all-zeros.\n",
    "        embedding_matrix[i] = embedding_vector\n",
    "    else:\n",
    "        words_not_found.append(word)\n",
    "print('number of null word embeddings: %d' % np.sum(np.sum(embedding_matrix, axis=1) == 0))"
   ]
  },
  {
   "cell_type": "markdown",
   "metadata": {},
   "source": [
    "#### 定义evaluation 函数"
   ]
  },
  {
   "cell_type": "code",
   "execution_count": 3,
   "metadata": {},
   "outputs": [],
   "source": [
    "from sklearn.metrics import roc_auc_score\n",
    "\n",
    "# 定义一个custom metric用于神经网络的评估\n",
    "def auc_roc(y_true, y_pred):\n",
    "    # any tensorflow metric\n",
    "    value, update_op = tf.metrics.auc(y_true,y_pred)\n",
    "\n",
    "    # find all variables created for this metric\n",
    "    metric_vars = [i for i in tf.local_variables() if 'auc_roc' in i.name.split('/')[1]]\n",
    "\n",
    "    # Add metric variables to GLOBAL_VARIABLES collection.\n",
    "    # They will be initialized for new session.\n",
    "    for v in metric_vars:\n",
    "        tf.add_to_collection(tf.GraphKeys.GLOBAL_VARIABLES, v)\n",
    "\n",
    "    # force to update metric values\n",
    "    with tf.control_dependencies([update_op]):\n",
    "        value = tf.identity(value)\n",
    "        return value"
   ]
  },
  {
   "cell_type": "markdown",
   "metadata": {},
   "source": [
    "#### 保存数据"
   ]
  },
  {
   "cell_type": "code",
   "execution_count": null,
   "metadata": {},
   "outputs": [],
   "source": [
    "# Save data\n",
    "np.save(\"Pickles/docs_train.npy\",docs_train)\n",
    "np.save(\"Pickles/docs_test.npy\",docs_test)\n",
    "np.save(\"Pickles/docs_validation.npy\",docs_validation)\n",
    "\n",
    "X_train.to_pickle(\"Pickles/X_train.pkl\")\n",
    "X_test.to_pickle(\"Pickles/X_test.pkl\")\n",
    "X_validation.to_pickle(\"Pickles/X_validation.pkl\")\n",
    "\n",
    "y_train.to_pickle(\"Pickles/y_train.pkl\")\n",
    "y_test.to_pickle(\"Pickles/y_test.pkl\") \n",
    "y_validation.to_pickle(\"Pickles/y_validation.pkl\") \n",
    "\n",
    "np.save(\"Pickles/embedding_matrix.npy\",embedding_matrix)"
   ]
  },
  {
   "cell_type": "markdown",
   "metadata": {},
   "source": [
    "### 1.Training"
   ]
  },
  {
   "cell_type": "markdown",
   "metadata": {},
   "source": [
    "测试4类神经网络模型：MLP, CNN, RNN, CNN-RNN.  \n",
    "由于时间限制，不可能将每个模型的参数都调到最优。根据文献中设置参数。"
   ]
  },
  {
   "cell_type": "code",
   "execution_count": 4,
   "metadata": {},
   "outputs": [],
   "source": [
    "#若要直接从下面的代码开始执行，需运行这里的系数\n",
    "vocab_size = 119398\n",
    "embedding_matrix = np.load(\"Pickles/embedding_matrix.npy\")\n",
    "max_words = 23070\n",
    "embed_dim = 100 \n",
    "aux_shape = 38"
   ]
  },
  {
   "cell_type": "markdown",
   "metadata": {},
   "source": [
    "#### 定义一个函数生成不同类型的神经网络模型"
   ]
  },
  {
   "cell_type": "code",
   "execution_count": 5,
   "metadata": {
    "scrolled": true
   },
   "outputs": [],
   "source": [
    "def build_model(output_classes,architecture,aux_shape=aux_shape,vocab_size=vocab_size,embed_dim=embed_dim,embedding_matrix=embedding_matrix,max_seq_len=max_words):\n",
    "    \n",
    "    with tf.device('/cpu:0'): #在当前的cpu上运行\n",
    "        main_input= Input(shape=(max_seq_len,),name='doc_input') #主要输入为文本，Input的维度是最长的文件max words\n",
    "        main = Embedding(input_dim = vocab_size,\n",
    "                            output_dim = embed_dim,\n",
    "                            weights=[embedding_matrix], \n",
    "                            input_length=max_seq_len, \n",
    "                            trainable=False)(main_input)\n",
    "#设置不同的模型供选择\n",
    "    if architecture == 'mlp': \n",
    "        # Densely Connected Neural Network (Multi-Layer Perceptron)\n",
    "        main = Dense(32, activation='relu')(main)\n",
    "        main = Dropout(0.2)(main)\n",
    "        main = Flatten()(main)\n",
    "    elif architecture == 'cnn':\n",
    "        # 1-D Convolutional Neural Network\n",
    "        main = Conv1D(64, 3, strides=1, padding='same', activation='relu')(main)\n",
    "        #Cuts the size of the output in half, maxing over every 2 inputs\n",
    "        main = MaxPooling1D(pool_size=3)(main)\n",
    "        main = Dropout(0.2)(main)\n",
    "        main = Conv1D(32, 3, strides=1, padding='same', activation='relu')(main)\n",
    "        main = GlobalMaxPooling1D()(main)\n",
    "        #model.add(Dense(output_classes, activation='softmax'))\n",
    "    elif architecture == 'rnn':\n",
    "        # LSTM network\n",
    "        main = SimpleRNN(32)(main)\n",
    "        #main = GRU(64,activation='tanh')(main)\n",
    "        #main = LSTM(32, return_sequences=False, dropout=0.2, recurrent_dropout=0.1)(main)\n",
    "        #main = Bidirectional(LSTM(64, return_sequences=False, dropout=0.2, recurrent_dropout=0.1))(main)\n",
    "        main = BatchNormalization()(main)\n",
    "    elif architecture ==\"rnn_cnn\":\n",
    "        main = Conv1D(64, 5, padding='same', activation='relu')(main)\n",
    "        main = MaxPooling1D()(main)\n",
    "        main = Dropout(0.2)(main)\n",
    "        #main = Bidirectional(CuDNNGRU(32,return_sequences=False),merge_mode='concat')(main)\n",
    "        main = SimpleRNN(32,return_sequences=False)(main)\n",
    "        main = BatchNormalization()(main)\n",
    "   \n",
    "    else:\n",
    "        print('Error: Model type not found.')\n",
    "      \n",
    "    #辅助输入为其他控制变量，input维度是X的变量数\n",
    "    auxiliary_input = Input(shape=(aux_shape,), name='aux_input')\n",
    "    x = lconcat([main, auxiliary_input])#把两个输入合并\n",
    "    x = Dense(32, activation='relu')(x)\n",
    "    x = Dropout(0.2)(x)\n",
    "    x = Dense(32, activation='relu')(x)\n",
    "    x = Dense(32, activation='relu')(x)\n",
    "    main_output = Dense(output_classes, activation='softmax', name='main_output')(x)#最终的输出是3个维度\n",
    "    model = Model(inputs=[main_input, auxiliary_input], outputs=[main_output],name=architecture)#该函数返回一个完整的模型，输入，输出，模型名\n",
    "      \n",
    "        #没有GPU用不了\n",
    "    #sgd = SGD(lr=0.1, decay=1e-6, momentum=0.9, nesterov=True)\n",
    "    #model = multi_gpu_model(model)\n",
    "    model.compile(optimizer='adam',loss= 'categorical_crossentropy',metrics=['accuracy',auc_roc])\n",
    "    \n",
    "    return model\n",
    "\n"
   ]
  },
  {
   "cell_type": "markdown",
   "metadata": {},
   "source": [
    "#### 观察每种模型的结构"
   ]
  },
  {
   "cell_type": "code",
   "execution_count": 6,
   "metadata": {},
   "outputs": [],
   "source": [
    "from keras.utils.vis_utils import plot_model\n",
    "import pydot"
   ]
  },
  {
   "cell_type": "code",
   "execution_count": 7,
   "metadata": {},
   "outputs": [],
   "source": [
    "mlp=build_model(3,'mlp')"
   ]
  },
  {
   "cell_type": "code",
   "execution_count": 9,
   "metadata": {},
   "outputs": [
    {
     "name": "stdout",
     "output_type": "stream",
     "text": [
      "__________________________________________________________________________________________________\n",
      "Layer (type)                    Output Shape         Param #     Connected to                     \n",
      "==================================================================================================\n",
      "doc_input (InputLayer)          (None, 23070)        0                                            \n",
      "__________________________________________________________________________________________________\n",
      "embedding_2 (Embedding)         (None, 23070, 100)   11939800    doc_input[0][0]                  \n",
      "__________________________________________________________________________________________________\n",
      "dense_5 (Dense)                 (None, 23070, 32)    3232        embedding_2[0][0]                \n",
      "__________________________________________________________________________________________________\n",
      "dropout_3 (Dropout)             (None, 23070, 32)    0           dense_5[0][0]                    \n",
      "__________________________________________________________________________________________________\n",
      "flatten_2 (Flatten)             (None, 738240)       0           dropout_3[0][0]                  \n",
      "__________________________________________________________________________________________________\n",
      "aux_input (InputLayer)          (None, 38)           0                                            \n",
      "__________________________________________________________________________________________________\n",
      "concatenate_2 (Concatenate)     (None, 738278)       0           flatten_2[0][0]                  \n",
      "                                                                 aux_input[0][0]                  \n",
      "__________________________________________________________________________________________________\n",
      "dense_6 (Dense)                 (None, 32)           23624928    concatenate_2[0][0]              \n",
      "__________________________________________________________________________________________________\n",
      "dropout_4 (Dropout)             (None, 32)           0           dense_6[0][0]                    \n",
      "__________________________________________________________________________________________________\n",
      "dense_7 (Dense)                 (None, 32)           1056        dropout_4[0][0]                  \n",
      "__________________________________________________________________________________________________\n",
      "dense_8 (Dense)                 (None, 32)           1056        dense_7[0][0]                    \n",
      "__________________________________________________________________________________________________\n",
      "main_output (Dense)             (None, 3)            99          dense_8[0][0]                    \n",
      "==================================================================================================\n",
      "Total params: 35,570,171\n",
      "Trainable params: 23,630,371\n",
      "Non-trainable params: 11,939,800\n",
      "__________________________________________________________________________________________________\n"
     ]
    }
   ],
   "source": [
    "mlp.summary()"
   ]
  },
  {
   "cell_type": "code",
   "execution_count": 10,
   "metadata": {},
   "outputs": [
    {
     "name": "stdout",
     "output_type": "stream",
     "text": [
      "WARNING:tensorflow:From C:\\Users\\xueli\\Anaconda3\\lib\\site-packages\\tensorflow\\python\\util\\deprecation.py:497: calling conv1d (from tensorflow.python.ops.nn_ops) with data_format=NHWC is deprecated and will be removed in a future version.\n",
      "Instructions for updating:\n",
      "`NHWC` for data_format is deprecated, use `NWC` instead\n",
      "__________________________________________________________________________________________________\n",
      "Layer (type)                    Output Shape         Param #     Connected to                     \n",
      "==================================================================================================\n",
      "doc_input (InputLayer)          (None, 23070)        0                                            \n",
      "__________________________________________________________________________________________________\n",
      "embedding_3 (Embedding)         (None, 23070, 100)   11939800    doc_input[0][0]                  \n",
      "__________________________________________________________________________________________________\n",
      "conv1d_1 (Conv1D)               (None, 23070, 64)    19264       embedding_3[0][0]                \n",
      "__________________________________________________________________________________________________\n",
      "max_pooling1d_1 (MaxPooling1D)  (None, 7690, 64)     0           conv1d_1[0][0]                   \n",
      "__________________________________________________________________________________________________\n",
      "dropout_5 (Dropout)             (None, 7690, 64)     0           max_pooling1d_1[0][0]            \n",
      "__________________________________________________________________________________________________\n",
      "conv1d_2 (Conv1D)               (None, 7690, 32)     6176        dropout_5[0][0]                  \n",
      "__________________________________________________________________________________________________\n",
      "global_max_pooling1d_1 (GlobalM (None, 32)           0           conv1d_2[0][0]                   \n",
      "__________________________________________________________________________________________________\n",
      "aux_input (InputLayer)          (None, 38)           0                                            \n",
      "__________________________________________________________________________________________________\n",
      "concatenate_3 (Concatenate)     (None, 70)           0           global_max_pooling1d_1[0][0]     \n",
      "                                                                 aux_input[0][0]                  \n",
      "__________________________________________________________________________________________________\n",
      "dense_9 (Dense)                 (None, 32)           2272        concatenate_3[0][0]              \n",
      "__________________________________________________________________________________________________\n",
      "dropout_6 (Dropout)             (None, 32)           0           dense_9[0][0]                    \n",
      "__________________________________________________________________________________________________\n",
      "dense_10 (Dense)                (None, 32)           1056        dropout_6[0][0]                  \n",
      "__________________________________________________________________________________________________\n",
      "dense_11 (Dense)                (None, 32)           1056        dense_10[0][0]                   \n",
      "__________________________________________________________________________________________________\n",
      "main_output (Dense)             (None, 3)            99          dense_11[0][0]                   \n",
      "==================================================================================================\n",
      "Total params: 11,969,723\n",
      "Trainable params: 29,923\n",
      "Non-trainable params: 11,939,800\n",
      "__________________________________________________________________________________________________\n"
     ]
    }
   ],
   "source": [
    "cnn=build_model(3,'cnn')\n",
    "cnn.summary()"
   ]
  },
  {
   "cell_type": "code",
   "execution_count": 11,
   "metadata": {},
   "outputs": [
    {
     "name": "stdout",
     "output_type": "stream",
     "text": [
      "__________________________________________________________________________________________________\n",
      "Layer (type)                    Output Shape         Param #     Connected to                     \n",
      "==================================================================================================\n",
      "doc_input (InputLayer)          (None, 23070)        0                                            \n",
      "__________________________________________________________________________________________________\n",
      "embedding_4 (Embedding)         (None, 23070, 100)   11939800    doc_input[0][0]                  \n",
      "__________________________________________________________________________________________________\n",
      "simple_rnn_1 (SimpleRNN)        (None, 32)           4256        embedding_4[0][0]                \n",
      "__________________________________________________________________________________________________\n",
      "batch_normalization_1 (BatchNor (None, 32)           128         simple_rnn_1[0][0]               \n",
      "__________________________________________________________________________________________________\n",
      "aux_input (InputLayer)          (None, 38)           0                                            \n",
      "__________________________________________________________________________________________________\n",
      "concatenate_4 (Concatenate)     (None, 70)           0           batch_normalization_1[0][0]      \n",
      "                                                                 aux_input[0][0]                  \n",
      "__________________________________________________________________________________________________\n",
      "dense_12 (Dense)                (None, 32)           2272        concatenate_4[0][0]              \n",
      "__________________________________________________________________________________________________\n",
      "dropout_7 (Dropout)             (None, 32)           0           dense_12[0][0]                   \n",
      "__________________________________________________________________________________________________\n",
      "dense_13 (Dense)                (None, 32)           1056        dropout_7[0][0]                  \n",
      "__________________________________________________________________________________________________\n",
      "dense_14 (Dense)                (None, 32)           1056        dense_13[0][0]                   \n",
      "__________________________________________________________________________________________________\n",
      "main_output (Dense)             (None, 3)            99          dense_14[0][0]                   \n",
      "==================================================================================================\n",
      "Total params: 11,948,667\n",
      "Trainable params: 8,803\n",
      "Non-trainable params: 11,939,864\n",
      "__________________________________________________________________________________________________\n"
     ]
    }
   ],
   "source": [
    "rnn=build_model(3,'rnn')\n",
    "rnn.summary()"
   ]
  },
  {
   "cell_type": "code",
   "execution_count": 12,
   "metadata": {},
   "outputs": [
    {
     "name": "stdout",
     "output_type": "stream",
     "text": [
      "__________________________________________________________________________________________________\n",
      "Layer (type)                    Output Shape         Param #     Connected to                     \n",
      "==================================================================================================\n",
      "doc_input (InputLayer)          (None, 23070)        0                                            \n",
      "__________________________________________________________________________________________________\n",
      "embedding_5 (Embedding)         (None, 23070, 100)   11939800    doc_input[0][0]                  \n",
      "__________________________________________________________________________________________________\n",
      "conv1d_3 (Conv1D)               (None, 23070, 64)    32064       embedding_5[0][0]                \n",
      "__________________________________________________________________________________________________\n",
      "max_pooling1d_2 (MaxPooling1D)  (None, 11535, 64)    0           conv1d_3[0][0]                   \n",
      "__________________________________________________________________________________________________\n",
      "dropout_8 (Dropout)             (None, 11535, 64)    0           max_pooling1d_2[0][0]            \n",
      "__________________________________________________________________________________________________\n",
      "simple_rnn_2 (SimpleRNN)        (None, 32)           3104        dropout_8[0][0]                  \n",
      "__________________________________________________________________________________________________\n",
      "batch_normalization_2 (BatchNor (None, 32)           128         simple_rnn_2[0][0]               \n",
      "__________________________________________________________________________________________________\n",
      "aux_input (InputLayer)          (None, 38)           0                                            \n",
      "__________________________________________________________________________________________________\n",
      "concatenate_5 (Concatenate)     (None, 70)           0           batch_normalization_2[0][0]      \n",
      "                                                                 aux_input[0][0]                  \n",
      "__________________________________________________________________________________________________\n",
      "dense_15 (Dense)                (None, 32)           2272        concatenate_5[0][0]              \n",
      "__________________________________________________________________________________________________\n",
      "dropout_9 (Dropout)             (None, 32)           0           dense_15[0][0]                   \n",
      "__________________________________________________________________________________________________\n",
      "dense_16 (Dense)                (None, 32)           1056        dropout_9[0][0]                  \n",
      "__________________________________________________________________________________________________\n",
      "dense_17 (Dense)                (None, 32)           1056        dense_16[0][0]                   \n",
      "__________________________________________________________________________________________________\n",
      "main_output (Dense)             (None, 3)            99          dense_17[0][0]                   \n",
      "==================================================================================================\n",
      "Total params: 11,979,579\n",
      "Trainable params: 39,715\n",
      "Non-trainable params: 11,939,864\n",
      "__________________________________________________________________________________________________\n"
     ]
    }
   ],
   "source": [
    "cnn_rnn=build_model(3,'rnn_cnn')\n",
    "cnn_rnn.summary()"
   ]
  },
  {
   "cell_type": "code",
   "execution_count": 6,
   "metadata": {},
   "outputs": [],
   "source": [
    "X_train = pd.read_pickle(\"Pickles/X_train.pkl\")\n",
    "y_train = pd.read_pickle(\"Pickles/y_train.pkl\")\n",
    "docs_train = np.load(\"Pickles/docs_train.npy\")\n"
   ]
  },
  {
   "cell_type": "markdown",
   "metadata": {},
   "source": [
    "#### 开始训练"
   ]
  },
  {
   "cell_type": "markdown",
   "metadata": {},
   "source": [
    "#### MLP  \n",
    "训练mlp到35-45epochs的时候，auc开始达到0.8，loss变得很小，0.22几"
   ]
  },
  {
   "cell_type": "code",
   "execution_count": null,
   "metadata": {
    "scrolled": true
   },
   "outputs": [],
   "source": [
    "#keras 2.1.0的输入必须将df变成df.values，不好用tokenizer\n",
    "#keras 2.2.4不好用softmax\n",
    "#mlp_20epochs = build_model(3,\"mlp\")\n",
    "\n",
    "mlp_35epochs.fit([docs_train,X_train],y_train,batch_size=128,epochs=5,verbose=1)\n",
    "#verbose=0为不输出日志，1为每个batch都要记录，2为每一个epoch进行记录 \n",
    "\n",
    "mlp_35epochs.save(\"Data/models/mlp_45epochs.hdf5\")\n"
   ]
  },
  {
   "cell_type": "markdown",
   "metadata": {},
   "source": [
    "#### CNN"
   ]
  },
  {
   "cell_type": "markdown",
   "metadata": {},
   "source": [
    "10epochs - loss:0.64,acc:0.73,auc:0.65  \n",
    "13epochs - loss:0.547,acc:0.774,auc:0.873  \n",
    "15epochs - loss:0.491, acc=0.799, auc=0.879  \n",
    "18epochs - loss:0.4347, accu=0.8229,auc=0.901"
   ]
  },
  {
   "cell_type": "code",
   "execution_count": null,
   "metadata": {},
   "outputs": [],
   "source": [
    "#cnn = build_model(3,\"cnn\")\n",
    "#cnn10 = load_model(\"Data/models/cnn.hdf5\",custom_objects={\"auc_roc\":auc_roc})\n",
    "\n",
    "#model_dict[\"cnn\"] = cnn.fit([docs_train,X_train],y_train,batch_size=64,epochs=10,verbose=1)\n",
    "cnn13.fit([docs_train,X_train],y_train,batch_size=128,epochs=3,verbose=1)\n",
    "\n",
    "cnn13.save(\"Data/models/cnn18.hdf5\")\n",
    "#with open('Data/trainHistory/cnn.pkl', 'wb') as file_pi:\n",
    " #   pickle.dump(model_dict[\"cnn\"].history, file_pi)"
   ]
  },
  {
   "cell_type": "markdown",
   "metadata": {},
   "source": [
    "#### RNN"
   ]
  },
  {
   "cell_type": "code",
   "execution_count": 9,
   "metadata": {},
   "outputs": [],
   "source": [
    "rnn = build_model(3,'rnn')"
   ]
  },
  {
   "cell_type": "markdown",
   "metadata": {},
   "source": [
    "5epochs: loss=1.02,accu=0.484,auc=0.6  \n",
    "10epochs: loss=0.94,acc=0.54,auc=0.64  \n",
    "15epochs: loss=0.896,acc=0.576,auc=0.651  \n",
    "20epochs:loss=0.868,acc=0.587,auc=0.657"
   ]
  },
  {
   "cell_type": "code",
   "execution_count": null,
   "metadata": {
    "scrolled": false
   },
   "outputs": [],
   "source": [
    "#rnn = build_model(3,\"rnn\")\n",
    "\n",
    "rnn.fit([docs_train,X_train],y_train,batch_size=128,epochs=5,verbose=1)\n",
    "\n",
    "\n",
    "rnn.save(\"Data/models/rnn20.hdf5\")\n",
    "#with open('Data/trainHistory/rnn.pkl', 'wb') as file_pi:\n",
    " #   pickle.dump(model_dict[\"rnn\"].history, file_pi)"
   ]
  },
  {
   "cell_type": "markdown",
   "metadata": {},
   "source": [
    "#### RNN_CNN"
   ]
  },
  {
   "cell_type": "code",
   "execution_count": 16,
   "metadata": {},
   "outputs": [
    {
     "name": "stdout",
     "output_type": "stream",
     "text": [
      "WARNING:tensorflow:From C:\\Users\\xueli\\Anaconda3\\lib\\site-packages\\tensorflow\\python\\util\\deprecation.py:497: calling conv1d (from tensorflow.python.ops.nn_ops) with data_format=NHWC is deprecated and will be removed in a future version.\n",
      "Instructions for updating:\n",
      "`NHWC` for data_format is deprecated, use `NWC` instead\n"
     ]
    }
   ],
   "source": [
    "rnn_cnn = build_model(3,\"rnn_cnn\")"
   ]
  },
  {
   "cell_type": "markdown",
   "metadata": {},
   "source": [
    "5epochs: loss=0.95,acc==0.529,auc=0.645  \n",
    "20epochs: loss=0.8398,acc=0.607,auc=0.702"
   ]
  },
  {
   "cell_type": "code",
   "execution_count": null,
   "metadata": {
    "scrolled": true
   },
   "outputs": [],
   "source": [
    "#rnn_cnn = build_model(3,\"rnn_cnn\")\n",
    "\n",
    "rnn_cnn.fit([docs_train,X_train],y_train,batch_size=32,epochs=5,verbose=1)\n",
    "\n",
    "rnn_cnn.save(\"Data/models/rnn_cnn5.hdf5\")\n",
    "\n",
    "rnn_cnn.fit([docs_train,X_train],y_train,batch_size=32,epochs=5,verbose=1)\n",
    "\n",
    "rnn_cnn.save(\"Data/models/rnn_cnn10.hdf5\")\n",
    "\n",
    "rnn_cnn.fit([docs_train,X_train],y_train,batch_size=32,epochs=5,verbose=1)\n",
    "\n",
    "rnn_cnn.save(\"Data/models/rnn_cnn15.hdf5\")\n",
    "\n",
    "rnn_cnn.fit([docs_train,X_train],y_train,batch_size=32,epochs=5,verbose=1)\n",
    "\n",
    "rnn_cnn.save(\"Data/models/rnn_cnn20.hdf5\")\n",
    "#with open('Data/trainHistory/rnn_cnn.pkl', 'wb') as file_pi:\n",
    " #   pickle.dump(model_dict[\"rnn_cnn\"].history, file_pi)"
   ]
  },
  {
   "cell_type": "markdown",
   "metadata": {},
   "source": [
    "### 2.Validation"
   ]
  },
  {
   "cell_type": "code",
   "execution_count": 9,
   "metadata": {},
   "outputs": [],
   "source": [
    "X_val = pd.read_pickle(\"Pickles/X_validation.pkl\")\n",
    "y_val = pd.read_pickle(\"Pickles/y_validation.pkl\")\n",
    "docs_val = np.load(\"Pickles/docs_validation.npy\")\n"
   ]
  },
  {
   "cell_type": "markdown",
   "metadata": {},
   "source": [
    "#### 2.1 validate MLP"
   ]
  },
  {
   "cell_type": "markdown",
   "metadata": {},
   "source": [
    "MLP模型表现：validation的表现不如训练集，随着训练时长的增加，仿佛出现了overfitting，因为loss在val中增加，但auc和accuracy增加非常平缓。  "
   ]
  },
  {
   "cell_type": "code",
   "execution_count": 37,
   "metadata": {},
   "outputs": [],
   "source": [
    "import gc"
   ]
  },
  {
   "cell_type": "code",
   "execution_count": 15,
   "metadata": {},
   "outputs": [
    {
     "data": {
      "text/plain": [
       "14170"
      ]
     },
     "execution_count": 15,
     "metadata": {},
     "output_type": "execute_result"
    }
   ],
   "source": [
    "del mlp\n",
    "gc.collect()"
   ]
  },
  {
   "cell_type": "markdown",
   "metadata": {},
   "source": [
    "定义一个函数让每个模型跑10遍"
   ]
  },
  {
   "cell_type": "code",
   "execution_count": 20,
   "metadata": {},
   "outputs": [],
   "source": [
    "def val(model):\n",
    "    score =[]\n",
    "    for i in range(10):\n",
    "        score.append(model.evaluate([docs_val,X_val],y_val,batch_size=128))\n",
    "    score = pd.DataFrame(score)\n",
    "    return score"
   ]
  },
  {
   "cell_type": "markdown",
   "metadata": {},
   "source": [
    "依次将模型运行validation的数据"
   ]
  },
  {
   "cell_type": "code",
   "execution_count": 10,
   "metadata": {},
   "outputs": [],
   "source": [
    "mlp = load_model(\"Data/models/mlp.hdf5\",custom_objects={\"auc_roc\":auc_roc})\n",
    "#mlp_20epochs = load_model(\"Data/models/mlp_20epochs.hdf5\",custom_objects={\"auc_roc\":auc_roc})\n",
    "#mlp_25epochs = load_model(\"Data/models/mlp_25epochs.hdf5\",custom_objects={\"auc_roc\":auc_roc})\n",
    "#mlp_30epochs = load_model(\"Data/models/mlp_30epochs.hdf5\",custom_objects={\"auc_roc\":auc_roc})\n",
    "#mlp_35epochs = load_model(\"Data/models/mlp_35epochs.hdf5\",custom_objects={\"auc_roc\":auc_roc})\n",
    "#mlp_40epochs = load_model(\"Data/models/mlp_40epochs.hdf5\",custom_objects={\"auc_roc\":auc_roc})\n",
    "#mlp_45epochs = load_model(\"Data/models/mlp_45epochs.hdf5\",custom_objects={\"auc_roc\":auc_roc})\n"
   ]
  },
  {
   "cell_type": "code",
   "execution_count": 116,
   "metadata": {},
   "outputs": [
    {
     "name": "stdout",
     "output_type": "stream",
     "text": [
      "343/343 [==============================] - ETA:  - ETA:  - 8s 24ms/step\n",
      "343/343 [==============================] - ETA:  - ETA:  - 8s 22ms/step\n",
      "343/343 [==============================] - ETA:  - ETA:  - 8s 22ms/step\n",
      "343/343 [==============================] - ETA:  - ETA:  - 8s 23ms/step\n",
      "343/343 [==============================] - ETA:  - ETA:  - 8s 23ms/step\n",
      "343/343 [==============================] - ETA:  - ETA:  - 8s 23ms/step\n",
      "343/343 [==============================] - ETA:  - ETA:  - 8s 23ms/step\n",
      "343/343 [==============================] - ETA:  - ETA:  - 8s 23ms/step\n",
      "343/343 [==============================] - ETA:  - ETA:  - 8s 23ms/step\n",
      "343/343 [==============================] - ETA:  - ETA:  - 8s 23ms/step\n"
     ]
    }
   ],
   "source": [
    "mlp45_score = val(mlp_45epochs)"
   ]
  },
  {
   "cell_type": "code",
   "execution_count": 44,
   "metadata": {},
   "outputs": [
    {
     "data": {
      "text/html": [
       "<div>\n",
       "<style scoped>\n",
       "    .dataframe tbody tr th:only-of-type {\n",
       "        vertical-align: middle;\n",
       "    }\n",
       "\n",
       "    .dataframe tbody tr th {\n",
       "        vertical-align: top;\n",
       "    }\n",
       "\n",
       "    .dataframe thead th {\n",
       "        text-align: right;\n",
       "    }\n",
       "</style>\n",
       "<table border=\"1\" class=\"dataframe\">\n",
       "  <thead>\n",
       "    <tr style=\"text-align: right;\">\n",
       "      <th></th>\n",
       "      <th>0</th>\n",
       "      <th>1</th>\n",
       "      <th>2</th>\n",
       "    </tr>\n",
       "  </thead>\n",
       "  <tbody>\n",
       "    <tr>\n",
       "      <th>count</th>\n",
       "      <td>1.000000e+01</td>\n",
       "      <td>10.000000</td>\n",
       "      <td>10.000000</td>\n",
       "    </tr>\n",
       "    <tr>\n",
       "      <th>mean</th>\n",
       "      <td>1.100725e+00</td>\n",
       "      <td>0.530612</td>\n",
       "      <td>0.591120</td>\n",
       "    </tr>\n",
       "    <tr>\n",
       "      <th>std</th>\n",
       "      <td>2.340556e-16</td>\n",
       "      <td>0.000000</td>\n",
       "      <td>0.070190</td>\n",
       "    </tr>\n",
       "    <tr>\n",
       "      <th>min</th>\n",
       "      <td>1.100725e+00</td>\n",
       "      <td>0.530612</td>\n",
       "      <td>0.391364</td>\n",
       "    </tr>\n",
       "    <tr>\n",
       "      <th>25%</th>\n",
       "      <td>1.100725e+00</td>\n",
       "      <td>0.530612</td>\n",
       "      <td>0.612871</td>\n",
       "    </tr>\n",
       "    <tr>\n",
       "      <th>50%</th>\n",
       "      <td>1.100725e+00</td>\n",
       "      <td>0.530612</td>\n",
       "      <td>0.613028</td>\n",
       "    </tr>\n",
       "    <tr>\n",
       "      <th>75%</th>\n",
       "      <td>1.100725e+00</td>\n",
       "      <td>0.530612</td>\n",
       "      <td>0.613375</td>\n",
       "    </tr>\n",
       "    <tr>\n",
       "      <th>max</th>\n",
       "      <td>1.100725e+00</td>\n",
       "      <td>0.530612</td>\n",
       "      <td>0.614736</td>\n",
       "    </tr>\n",
       "  </tbody>\n",
       "</table>\n",
       "</div>"
      ],
      "text/plain": [
       "                  0          1          2\n",
       "count  1.000000e+01  10.000000  10.000000\n",
       "mean   1.100725e+00   0.530612   0.591120\n",
       "std    2.340556e-16   0.000000   0.070190\n",
       "min    1.100725e+00   0.530612   0.391364\n",
       "25%    1.100725e+00   0.530612   0.612871\n",
       "50%    1.100725e+00   0.530612   0.613028\n",
       "75%    1.100725e+00   0.530612   0.613375\n",
       "max    1.100725e+00   0.530612   0.614736"
      ]
     },
     "execution_count": 44,
     "metadata": {},
     "output_type": "execute_result"
    }
   ],
   "source": [
    "#mlp的表现，平均auc=0.591,accuracy = 0.53\n",
    "score.describe()"
   ]
  },
  {
   "cell_type": "code",
   "execution_count": 47,
   "metadata": {},
   "outputs": [],
   "source": [
    "score.to_pickle(\"Data//model_performance//mlp_score.pkl\")"
   ]
  },
  {
   "cell_type": "code",
   "execution_count": 102,
   "metadata": {},
   "outputs": [
    {
     "data": {
      "text/html": [
       "<div>\n",
       "<style scoped>\n",
       "    .dataframe tbody tr th:only-of-type {\n",
       "        vertical-align: middle;\n",
       "    }\n",
       "\n",
       "    .dataframe tbody tr th {\n",
       "        vertical-align: top;\n",
       "    }\n",
       "\n",
       "    .dataframe thead th {\n",
       "        text-align: right;\n",
       "    }\n",
       "</style>\n",
       "<table border=\"1\" class=\"dataframe\">\n",
       "  <thead>\n",
       "    <tr style=\"text-align: right;\">\n",
       "      <th></th>\n",
       "      <th>0</th>\n",
       "      <th>1</th>\n",
       "      <th>2</th>\n",
       "    </tr>\n",
       "  </thead>\n",
       "  <tbody>\n",
       "    <tr>\n",
       "      <th>count</th>\n",
       "      <td>10.000000</td>\n",
       "      <td>10.000000</td>\n",
       "      <td>10.000000</td>\n",
       "    </tr>\n",
       "    <tr>\n",
       "      <th>mean</th>\n",
       "      <td>1.841277</td>\n",
       "      <td>0.548105</td>\n",
       "      <td>0.624392</td>\n",
       "    </tr>\n",
       "    <tr>\n",
       "      <th>std</th>\n",
       "      <td>0.000000</td>\n",
       "      <td>0.000000</td>\n",
       "      <td>0.075548</td>\n",
       "    </tr>\n",
       "    <tr>\n",
       "      <th>min</th>\n",
       "      <td>1.841277</td>\n",
       "      <td>0.548105</td>\n",
       "      <td>0.409380</td>\n",
       "    </tr>\n",
       "    <tr>\n",
       "      <th>25%</th>\n",
       "      <td>1.841277</td>\n",
       "      <td>0.548105</td>\n",
       "      <td>0.648079</td>\n",
       "    </tr>\n",
       "    <tr>\n",
       "      <th>50%</th>\n",
       "      <td>1.841277</td>\n",
       "      <td>0.548105</td>\n",
       "      <td>0.648152</td>\n",
       "    </tr>\n",
       "    <tr>\n",
       "      <th>75%</th>\n",
       "      <td>1.841277</td>\n",
       "      <td>0.548105</td>\n",
       "      <td>0.648311</td>\n",
       "    </tr>\n",
       "    <tr>\n",
       "      <th>max</th>\n",
       "      <td>1.841277</td>\n",
       "      <td>0.548105</td>\n",
       "      <td>0.648927</td>\n",
       "    </tr>\n",
       "  </tbody>\n",
       "</table>\n",
       "</div>"
      ],
      "text/plain": [
       "               0          1          2\n",
       "count  10.000000  10.000000  10.000000\n",
       "mean    1.841277   0.548105   0.624392\n",
       "std     0.000000   0.000000   0.075548\n",
       "min     1.841277   0.548105   0.409380\n",
       "25%     1.841277   0.548105   0.648079\n",
       "50%     1.841277   0.548105   0.648152\n",
       "75%     1.841277   0.548105   0.648311\n",
       "max     1.841277   0.548105   0.648927"
      ]
     },
     "execution_count": 102,
     "metadata": {},
     "output_type": "execute_result"
    }
   ],
   "source": [
    "mlp20_score.describe()"
   ]
  },
  {
   "cell_type": "code",
   "execution_count": 103,
   "metadata": {},
   "outputs": [],
   "source": [
    "mlp20_score.to_pickle(\"Data//model_performance//mlp20_score.pkl\")"
   ]
  },
  {
   "cell_type": "code",
   "execution_count": 107,
   "metadata": {},
   "outputs": [
    {
     "data": {
      "text/html": [
       "<div>\n",
       "<style scoped>\n",
       "    .dataframe tbody tr th:only-of-type {\n",
       "        vertical-align: middle;\n",
       "    }\n",
       "\n",
       "    .dataframe tbody tr th {\n",
       "        vertical-align: top;\n",
       "    }\n",
       "\n",
       "    .dataframe thead th {\n",
       "        text-align: right;\n",
       "    }\n",
       "</style>\n",
       "<table border=\"1\" class=\"dataframe\">\n",
       "  <thead>\n",
       "    <tr style=\"text-align: right;\">\n",
       "      <th></th>\n",
       "      <th>0</th>\n",
       "      <th>1</th>\n",
       "      <th>2</th>\n",
       "    </tr>\n",
       "  </thead>\n",
       "  <tbody>\n",
       "    <tr>\n",
       "      <th>count</th>\n",
       "      <td>1.000000e+01</td>\n",
       "      <td>1.000000e+01</td>\n",
       "      <td>10.000000</td>\n",
       "    </tr>\n",
       "    <tr>\n",
       "      <th>mean</th>\n",
       "      <td>2.139504e+00</td>\n",
       "      <td>5.393586e-01</td>\n",
       "      <td>0.627250</td>\n",
       "    </tr>\n",
       "    <tr>\n",
       "      <th>std</th>\n",
       "      <td>4.681111e-16</td>\n",
       "      <td>1.170278e-16</td>\n",
       "      <td>0.077145</td>\n",
       "    </tr>\n",
       "    <tr>\n",
       "      <th>min</th>\n",
       "      <td>2.139504e+00</td>\n",
       "      <td>5.393586e-01</td>\n",
       "      <td>0.407693</td>\n",
       "    </tr>\n",
       "    <tr>\n",
       "      <th>25%</th>\n",
       "      <td>2.139504e+00</td>\n",
       "      <td>5.393586e-01</td>\n",
       "      <td>0.651642</td>\n",
       "    </tr>\n",
       "    <tr>\n",
       "      <th>50%</th>\n",
       "      <td>2.139504e+00</td>\n",
       "      <td>5.393586e-01</td>\n",
       "      <td>0.651646</td>\n",
       "    </tr>\n",
       "    <tr>\n",
       "      <th>75%</th>\n",
       "      <td>2.139504e+00</td>\n",
       "      <td>5.393586e-01</td>\n",
       "      <td>0.651652</td>\n",
       "    </tr>\n",
       "    <tr>\n",
       "      <th>max</th>\n",
       "      <td>2.139504e+00</td>\n",
       "      <td>5.393586e-01</td>\n",
       "      <td>0.651655</td>\n",
       "    </tr>\n",
       "  </tbody>\n",
       "</table>\n",
       "</div>"
      ],
      "text/plain": [
       "                  0             1          2\n",
       "count  1.000000e+01  1.000000e+01  10.000000\n",
       "mean   2.139504e+00  5.393586e-01   0.627250\n",
       "std    4.681111e-16  1.170278e-16   0.077145\n",
       "min    2.139504e+00  5.393586e-01   0.407693\n",
       "25%    2.139504e+00  5.393586e-01   0.651642\n",
       "50%    2.139504e+00  5.393586e-01   0.651646\n",
       "75%    2.139504e+00  5.393586e-01   0.651652\n",
       "max    2.139504e+00  5.393586e-01   0.651655"
      ]
     },
     "execution_count": 107,
     "metadata": {},
     "output_type": "execute_result"
    }
   ],
   "source": [
    "#mlp25的表现，平均auc=0.62,accuracy = 0.517\n",
    "mlp25_score.describe()"
   ]
  },
  {
   "cell_type": "code",
   "execution_count": 108,
   "metadata": {},
   "outputs": [],
   "source": [
    "mlp25_score.to_pickle(\"Data//model_performance//mlp25_score.pkl\")"
   ]
  },
  {
   "cell_type": "code",
   "execution_count": 81,
   "metadata": {},
   "outputs": [
    {
     "data": {
      "text/html": [
       "<div>\n",
       "<style scoped>\n",
       "    .dataframe tbody tr th:only-of-type {\n",
       "        vertical-align: middle;\n",
       "    }\n",
       "\n",
       "    .dataframe tbody tr th {\n",
       "        vertical-align: top;\n",
       "    }\n",
       "\n",
       "    .dataframe thead th {\n",
       "        text-align: right;\n",
       "    }\n",
       "</style>\n",
       "<table border=\"1\" class=\"dataframe\">\n",
       "  <thead>\n",
       "    <tr style=\"text-align: right;\">\n",
       "      <th></th>\n",
       "      <th>0</th>\n",
       "      <th>1</th>\n",
       "      <th>2</th>\n",
       "    </tr>\n",
       "  </thead>\n",
       "  <tbody>\n",
       "    <tr>\n",
       "      <th>count</th>\n",
       "      <td>1.000000e+01</td>\n",
       "      <td>10.000000</td>\n",
       "      <td>10.000000</td>\n",
       "    </tr>\n",
       "    <tr>\n",
       "      <th>mean</th>\n",
       "      <td>2.738818e+00</td>\n",
       "      <td>0.527697</td>\n",
       "      <td>0.631081</td>\n",
       "    </tr>\n",
       "    <tr>\n",
       "      <th>std</th>\n",
       "      <td>4.681111e-16</td>\n",
       "      <td>0.000000</td>\n",
       "      <td>0.038684</td>\n",
       "    </tr>\n",
       "    <tr>\n",
       "      <th>min</th>\n",
       "      <td>2.738818e+00</td>\n",
       "      <td>0.527697</td>\n",
       "      <td>0.520984</td>\n",
       "    </tr>\n",
       "    <tr>\n",
       "      <th>25%</th>\n",
       "      <td>2.738818e+00</td>\n",
       "      <td>0.527697</td>\n",
       "      <td>0.643265</td>\n",
       "    </tr>\n",
       "    <tr>\n",
       "      <th>50%</th>\n",
       "      <td>2.738818e+00</td>\n",
       "      <td>0.527697</td>\n",
       "      <td>0.643340</td>\n",
       "    </tr>\n",
       "    <tr>\n",
       "      <th>75%</th>\n",
       "      <td>2.738818e+00</td>\n",
       "      <td>0.527697</td>\n",
       "      <td>0.643366</td>\n",
       "    </tr>\n",
       "    <tr>\n",
       "      <th>max</th>\n",
       "      <td>2.738818e+00</td>\n",
       "      <td>0.527697</td>\n",
       "      <td>0.643379</td>\n",
       "    </tr>\n",
       "  </tbody>\n",
       "</table>\n",
       "</div>"
      ],
      "text/plain": [
       "                  0          1          2\n",
       "count  1.000000e+01  10.000000  10.000000\n",
       "mean   2.738818e+00   0.527697   0.631081\n",
       "std    4.681111e-16   0.000000   0.038684\n",
       "min    2.738818e+00   0.527697   0.520984\n",
       "25%    2.738818e+00   0.527697   0.643265\n",
       "50%    2.738818e+00   0.527697   0.643340\n",
       "75%    2.738818e+00   0.527697   0.643366\n",
       "max    2.738818e+00   0.527697   0.643379"
      ]
     },
     "execution_count": 81,
     "metadata": {},
     "output_type": "execute_result"
    }
   ],
   "source": [
    "#mlp30的表现，平均auc=0.63,accuracy=0.528\n",
    "mlp30_score.describe()"
   ]
  },
  {
   "cell_type": "code",
   "execution_count": 83,
   "metadata": {},
   "outputs": [],
   "source": [
    "mlp30_score.to_pickle(\"Data//model_performance//mlp30_score.pkl\")"
   ]
  },
  {
   "cell_type": "code",
   "execution_count": 87,
   "metadata": {},
   "outputs": [
    {
     "data": {
      "text/html": [
       "<div>\n",
       "<style scoped>\n",
       "    .dataframe tbody tr th:only-of-type {\n",
       "        vertical-align: middle;\n",
       "    }\n",
       "\n",
       "    .dataframe tbody tr th {\n",
       "        vertical-align: top;\n",
       "    }\n",
       "\n",
       "    .dataframe thead th {\n",
       "        text-align: right;\n",
       "    }\n",
       "</style>\n",
       "<table border=\"1\" class=\"dataframe\">\n",
       "  <thead>\n",
       "    <tr style=\"text-align: right;\">\n",
       "      <th></th>\n",
       "      <th>0</th>\n",
       "      <th>1</th>\n",
       "      <th>2</th>\n",
       "    </tr>\n",
       "  </thead>\n",
       "  <tbody>\n",
       "    <tr>\n",
       "      <th>count</th>\n",
       "      <td>1.000000e+01</td>\n",
       "      <td>10.000000</td>\n",
       "      <td>10.000000</td>\n",
       "    </tr>\n",
       "    <tr>\n",
       "      <th>mean</th>\n",
       "      <td>2.886647e+00</td>\n",
       "      <td>0.524781</td>\n",
       "      <td>0.646354</td>\n",
       "    </tr>\n",
       "    <tr>\n",
       "      <th>std</th>\n",
       "      <td>4.681111e-16</td>\n",
       "      <td>0.000000</td>\n",
       "      <td>0.037935</td>\n",
       "    </tr>\n",
       "    <tr>\n",
       "      <th>min</th>\n",
       "      <td>2.886647e+00</td>\n",
       "      <td>0.524781</td>\n",
       "      <td>0.538392</td>\n",
       "    </tr>\n",
       "    <tr>\n",
       "      <th>25%</th>\n",
       "      <td>2.886647e+00</td>\n",
       "      <td>0.524781</td>\n",
       "      <td>0.658166</td>\n",
       "    </tr>\n",
       "    <tr>\n",
       "      <th>50%</th>\n",
       "      <td>2.886647e+00</td>\n",
       "      <td>0.524781</td>\n",
       "      <td>0.658230</td>\n",
       "    </tr>\n",
       "    <tr>\n",
       "      <th>75%</th>\n",
       "      <td>2.886647e+00</td>\n",
       "      <td>0.524781</td>\n",
       "      <td>0.658371</td>\n",
       "    </tr>\n",
       "    <tr>\n",
       "      <th>max</th>\n",
       "      <td>2.886647e+00</td>\n",
       "      <td>0.524781</td>\n",
       "      <td>0.658947</td>\n",
       "    </tr>\n",
       "  </tbody>\n",
       "</table>\n",
       "</div>"
      ],
      "text/plain": [
       "                  0          1          2\n",
       "count  1.000000e+01  10.000000  10.000000\n",
       "mean   2.886647e+00   0.524781   0.646354\n",
       "std    4.681111e-16   0.000000   0.037935\n",
       "min    2.886647e+00   0.524781   0.538392\n",
       "25%    2.886647e+00   0.524781   0.658166\n",
       "50%    2.886647e+00   0.524781   0.658230\n",
       "75%    2.886647e+00   0.524781   0.658371\n",
       "max    2.886647e+00   0.524781   0.658947"
      ]
     },
     "execution_count": 87,
     "metadata": {},
     "output_type": "execute_result"
    }
   ],
   "source": [
    "#mlp35, auc=0.64, accuracy=0.525\n",
    "mlp35_score.describe()"
   ]
  },
  {
   "cell_type": "code",
   "execution_count": 88,
   "metadata": {},
   "outputs": [],
   "source": [
    "mlp35_score.to_pickle(\"Data//model_performance//mlp35_score.pkl\")"
   ]
  },
  {
   "cell_type": "code",
   "execution_count": 112,
   "metadata": {},
   "outputs": [
    {
     "data": {
      "text/html": [
       "<div>\n",
       "<style scoped>\n",
       "    .dataframe tbody tr th:only-of-type {\n",
       "        vertical-align: middle;\n",
       "    }\n",
       "\n",
       "    .dataframe tbody tr th {\n",
       "        vertical-align: top;\n",
       "    }\n",
       "\n",
       "    .dataframe thead th {\n",
       "        text-align: right;\n",
       "    }\n",
       "</style>\n",
       "<table border=\"1\" class=\"dataframe\">\n",
       "  <thead>\n",
       "    <tr style=\"text-align: right;\">\n",
       "      <th></th>\n",
       "      <th>0</th>\n",
       "      <th>1</th>\n",
       "      <th>2</th>\n",
       "    </tr>\n",
       "  </thead>\n",
       "  <tbody>\n",
       "    <tr>\n",
       "      <th>count</th>\n",
       "      <td>1.000000e+01</td>\n",
       "      <td>1.000000e+01</td>\n",
       "      <td>10.000000</td>\n",
       "    </tr>\n",
       "    <tr>\n",
       "      <th>mean</th>\n",
       "      <td>2.613426e+00</td>\n",
       "      <td>5.539359e-01</td>\n",
       "      <td>0.640610</td>\n",
       "    </tr>\n",
       "    <tr>\n",
       "      <th>std</th>\n",
       "      <td>4.681111e-16</td>\n",
       "      <td>1.170278e-16</td>\n",
       "      <td>0.078075</td>\n",
       "    </tr>\n",
       "    <tr>\n",
       "      <th>min</th>\n",
       "      <td>2.613426e+00</td>\n",
       "      <td>5.539359e-01</td>\n",
       "      <td>0.418405</td>\n",
       "    </tr>\n",
       "    <tr>\n",
       "      <th>25%</th>\n",
       "      <td>2.613426e+00</td>\n",
       "      <td>5.539359e-01</td>\n",
       "      <td>0.665162</td>\n",
       "    </tr>\n",
       "    <tr>\n",
       "      <th>50%</th>\n",
       "      <td>2.613426e+00</td>\n",
       "      <td>5.539359e-01</td>\n",
       "      <td>0.665215</td>\n",
       "    </tr>\n",
       "    <tr>\n",
       "      <th>75%</th>\n",
       "      <td>2.613426e+00</td>\n",
       "      <td>5.539359e-01</td>\n",
       "      <td>0.665326</td>\n",
       "    </tr>\n",
       "    <tr>\n",
       "      <th>max</th>\n",
       "      <td>2.613426e+00</td>\n",
       "      <td>5.539359e-01</td>\n",
       "      <td>0.665711</td>\n",
       "    </tr>\n",
       "  </tbody>\n",
       "</table>\n",
       "</div>"
      ],
      "text/plain": [
       "                  0             1          2\n",
       "count  1.000000e+01  1.000000e+01  10.000000\n",
       "mean   2.613426e+00  5.539359e-01   0.640610\n",
       "std    4.681111e-16  1.170278e-16   0.078075\n",
       "min    2.613426e+00  5.539359e-01   0.418405\n",
       "25%    2.613426e+00  5.539359e-01   0.665162\n",
       "50%    2.613426e+00  5.539359e-01   0.665215\n",
       "75%    2.613426e+00  5.539359e-01   0.665326\n",
       "max    2.613426e+00  5.539359e-01   0.665711"
      ]
     },
     "execution_count": 112,
     "metadata": {},
     "output_type": "execute_result"
    }
   ],
   "source": [
    "#mlp40, auc=0.64, accuracy=0.55\n",
    "mlp40_score.describe()"
   ]
  },
  {
   "cell_type": "code",
   "execution_count": 113,
   "metadata": {},
   "outputs": [],
   "source": [
    "mlp40_score.to_pickle(\"Data//model_performance//mlp40_score.pkl\")"
   ]
  },
  {
   "cell_type": "code",
   "execution_count": 117,
   "metadata": {},
   "outputs": [
    {
     "data": {
      "text/html": [
       "<div>\n",
       "<style scoped>\n",
       "    .dataframe tbody tr th:only-of-type {\n",
       "        vertical-align: middle;\n",
       "    }\n",
       "\n",
       "    .dataframe tbody tr th {\n",
       "        vertical-align: top;\n",
       "    }\n",
       "\n",
       "    .dataframe thead th {\n",
       "        text-align: right;\n",
       "    }\n",
       "</style>\n",
       "<table border=\"1\" class=\"dataframe\">\n",
       "  <thead>\n",
       "    <tr style=\"text-align: right;\">\n",
       "      <th></th>\n",
       "      <th>0</th>\n",
       "      <th>1</th>\n",
       "      <th>2</th>\n",
       "    </tr>\n",
       "  </thead>\n",
       "  <tbody>\n",
       "    <tr>\n",
       "      <th>count</th>\n",
       "      <td>1.000000e+01</td>\n",
       "      <td>1.000000e+01</td>\n",
       "      <td>10.000000</td>\n",
       "    </tr>\n",
       "    <tr>\n",
       "      <th>mean</th>\n",
       "      <td>2.409481e+00</td>\n",
       "      <td>5.451895e-01</td>\n",
       "      <td>0.652090</td>\n",
       "    </tr>\n",
       "    <tr>\n",
       "      <th>std</th>\n",
       "      <td>4.681111e-16</td>\n",
       "      <td>1.170278e-16</td>\n",
       "      <td>0.080093</td>\n",
       "    </tr>\n",
       "    <tr>\n",
       "      <th>min</th>\n",
       "      <td>2.409481e+00</td>\n",
       "      <td>5.451895e-01</td>\n",
       "      <td>0.424142</td>\n",
       "    </tr>\n",
       "    <tr>\n",
       "      <th>25%</th>\n",
       "      <td>2.409481e+00</td>\n",
       "      <td>5.451895e-01</td>\n",
       "      <td>0.677389</td>\n",
       "    </tr>\n",
       "    <tr>\n",
       "      <th>50%</th>\n",
       "      <td>2.409481e+00</td>\n",
       "      <td>5.451895e-01</td>\n",
       "      <td>0.677404</td>\n",
       "    </tr>\n",
       "    <tr>\n",
       "      <th>75%</th>\n",
       "      <td>2.409481e+00</td>\n",
       "      <td>5.451895e-01</td>\n",
       "      <td>0.677431</td>\n",
       "    </tr>\n",
       "    <tr>\n",
       "      <th>max</th>\n",
       "      <td>2.409481e+00</td>\n",
       "      <td>5.451895e-01</td>\n",
       "      <td>0.677473</td>\n",
       "    </tr>\n",
       "  </tbody>\n",
       "</table>\n",
       "</div>"
      ],
      "text/plain": [
       "                  0             1          2\n",
       "count  1.000000e+01  1.000000e+01  10.000000\n",
       "mean   2.409481e+00  5.451895e-01   0.652090\n",
       "std    4.681111e-16  1.170278e-16   0.080093\n",
       "min    2.409481e+00  5.451895e-01   0.424142\n",
       "25%    2.409481e+00  5.451895e-01   0.677389\n",
       "50%    2.409481e+00  5.451895e-01   0.677404\n",
       "75%    2.409481e+00  5.451895e-01   0.677431\n",
       "max    2.409481e+00  5.451895e-01   0.677473"
      ]
     },
     "execution_count": 117,
     "metadata": {},
     "output_type": "execute_result"
    }
   ],
   "source": [
    "#mlp45, auc=0.65, accuracy=0.545\n",
    "mlp45_score.describe()"
   ]
  },
  {
   "cell_type": "code",
   "execution_count": 118,
   "metadata": {},
   "outputs": [],
   "source": [
    "mlp45_score.to_pickle(\"Data//model_performance//mlp45_score.pkl\")"
   ]
  },
  {
   "cell_type": "markdown",
   "metadata": {},
   "source": [
    "#### 2.2 validate CNN"
   ]
  },
  {
   "cell_type": "markdown",
   "metadata": {},
   "source": [
    "评估cnn, 看来cnn13是最优的模型，从此之后loss开始增加，auc不再增加"
   ]
  },
  {
   "cell_type": "code",
   "execution_count": 144,
   "metadata": {},
   "outputs": [
    {
     "data": {
      "text/plain": [
       "12283"
      ]
     },
     "execution_count": 144,
     "metadata": {},
     "output_type": "execute_result"
    }
   ],
   "source": [
    "del cnn18\n",
    "gc.collect()"
   ]
  },
  {
   "cell_type": "code",
   "execution_count": 140,
   "metadata": {},
   "outputs": [
    {
     "name": "stdout",
     "output_type": "stream",
     "text": [
      "343/343 [==============================] - ETA: 10 - ETA: 3 - 14s 41ms/step\n",
      "343/343 [==============================] - ETA:  - ETA:  - 12s 35ms/step\n",
      "343/343 [==============================] - ETA:  - ETA:  - 12s 35ms/step\n",
      "343/343 [==============================] - ETA:  - ETA:  - 12s 35ms/step\n",
      "343/343 [==============================] - ETA:  - ETA:  - 12s 35ms/step\n",
      "343/343 [==============================] - ETA:  - ETA:  - 14s 39ms/step\n",
      "343/343 [==============================] - ETA:  - ETA:  - 15s 44ms/step\n",
      "343/343 [==============================] - ETA:  - ETA:  - 15s 45ms/step\n",
      "343/343 [==============================] - ETA:  - ETA:  - 16s 47ms/step\n",
      "343/343 [==============================] - ETA: 10 - ETA: 4 - 17s 49ms/step\n"
     ]
    }
   ],
   "source": [
    "cnn18 = load_model(\"Data/models/cnn18.hdf5\",custom_objects={\"auc_roc\":auc_roc})\n",
    "cnn18_score = val(cnn18)"
   ]
  },
  {
   "cell_type": "code",
   "execution_count": 127,
   "metadata": {},
   "outputs": [
    {
     "data": {
      "text/html": [
       "<div>\n",
       "<style scoped>\n",
       "    .dataframe tbody tr th:only-of-type {\n",
       "        vertical-align: middle;\n",
       "    }\n",
       "\n",
       "    .dataframe tbody tr th {\n",
       "        vertical-align: top;\n",
       "    }\n",
       "\n",
       "    .dataframe thead th {\n",
       "        text-align: right;\n",
       "    }\n",
       "</style>\n",
       "<table border=\"1\" class=\"dataframe\">\n",
       "  <thead>\n",
       "    <tr style=\"text-align: right;\">\n",
       "      <th></th>\n",
       "      <th>0</th>\n",
       "      <th>1</th>\n",
       "      <th>2</th>\n",
       "    </tr>\n",
       "  </thead>\n",
       "  <tbody>\n",
       "    <tr>\n",
       "      <th>count</th>\n",
       "      <td>10.000000</td>\n",
       "      <td>1.000000e+01</td>\n",
       "      <td>10.000000</td>\n",
       "    </tr>\n",
       "    <tr>\n",
       "      <th>mean</th>\n",
       "      <td>0.880087</td>\n",
       "      <td>6.239067e-01</td>\n",
       "      <td>0.746426</td>\n",
       "    </tr>\n",
       "    <tr>\n",
       "      <th>std</th>\n",
       "      <td>0.000000</td>\n",
       "      <td>1.170278e-16</td>\n",
       "      <td>0.086347</td>\n",
       "    </tr>\n",
       "    <tr>\n",
       "      <th>min</th>\n",
       "      <td>0.880087</td>\n",
       "      <td>6.239067e-01</td>\n",
       "      <td>0.500699</td>\n",
       "    </tr>\n",
       "    <tr>\n",
       "      <th>25%</th>\n",
       "      <td>0.880087</td>\n",
       "      <td>6.239067e-01</td>\n",
       "      <td>0.772913</td>\n",
       "    </tr>\n",
       "    <tr>\n",
       "      <th>50%</th>\n",
       "      <td>0.880087</td>\n",
       "      <td>6.239067e-01</td>\n",
       "      <td>0.773187</td>\n",
       "    </tr>\n",
       "    <tr>\n",
       "      <th>75%</th>\n",
       "      <td>0.880087</td>\n",
       "      <td>6.239067e-01</td>\n",
       "      <td>0.773807</td>\n",
       "    </tr>\n",
       "    <tr>\n",
       "      <th>max</th>\n",
       "      <td>0.880087</td>\n",
       "      <td>6.239067e-01</td>\n",
       "      <td>0.776449</td>\n",
       "    </tr>\n",
       "  </tbody>\n",
       "</table>\n",
       "</div>"
      ],
      "text/plain": [
       "               0             1          2\n",
       "count  10.000000  1.000000e+01  10.000000\n",
       "mean    0.880087  6.239067e-01   0.746426\n",
       "std     0.000000  1.170278e-16   0.086347\n",
       "min     0.880087  6.239067e-01   0.500699\n",
       "25%     0.880087  6.239067e-01   0.772913\n",
       "50%     0.880087  6.239067e-01   0.773187\n",
       "75%     0.880087  6.239067e-01   0.773807\n",
       "max     0.880087  6.239067e-01   0.776449"
      ]
     },
     "execution_count": 127,
     "metadata": {},
     "output_type": "execute_result"
    }
   ],
   "source": [
    "cnn10_score.describe()"
   ]
  },
  {
   "cell_type": "code",
   "execution_count": 128,
   "metadata": {},
   "outputs": [],
   "source": [
    "cnn10_score.to_pickle(\"Data//model_performance//cnn10_score.pkl\")"
   ]
  },
  {
   "cell_type": "code",
   "execution_count": 131,
   "metadata": {},
   "outputs": [
    {
     "data": {
      "text/html": [
       "<div>\n",
       "<style scoped>\n",
       "    .dataframe tbody tr th:only-of-type {\n",
       "        vertical-align: middle;\n",
       "    }\n",
       "\n",
       "    .dataframe tbody tr th {\n",
       "        vertical-align: top;\n",
       "    }\n",
       "\n",
       "    .dataframe thead th {\n",
       "        text-align: right;\n",
       "    }\n",
       "</style>\n",
       "<table border=\"1\" class=\"dataframe\">\n",
       "  <thead>\n",
       "    <tr style=\"text-align: right;\">\n",
       "      <th></th>\n",
       "      <th>0</th>\n",
       "      <th>1</th>\n",
       "      <th>2</th>\n",
       "    </tr>\n",
       "  </thead>\n",
       "  <tbody>\n",
       "    <tr>\n",
       "      <th>count</th>\n",
       "      <td>10.000000</td>\n",
       "      <td>1.000000e+01</td>\n",
       "      <td>10.000000</td>\n",
       "    </tr>\n",
       "    <tr>\n",
       "      <th>mean</th>\n",
       "      <td>0.797131</td>\n",
       "      <td>7.055394e-01</td>\n",
       "      <td>0.801152</td>\n",
       "    </tr>\n",
       "    <tr>\n",
       "      <th>std</th>\n",
       "      <td>0.000000</td>\n",
       "      <td>1.170278e-16</td>\n",
       "      <td>0.094568</td>\n",
       "    </tr>\n",
       "    <tr>\n",
       "      <th>min</th>\n",
       "      <td>0.797131</td>\n",
       "      <td>7.055394e-01</td>\n",
       "      <td>0.532016</td>\n",
       "    </tr>\n",
       "    <tr>\n",
       "      <th>25%</th>\n",
       "      <td>0.797131</td>\n",
       "      <td>7.055394e-01</td>\n",
       "      <td>0.830484</td>\n",
       "    </tr>\n",
       "    <tr>\n",
       "      <th>50%</th>\n",
       "      <td>0.797131</td>\n",
       "      <td>7.055394e-01</td>\n",
       "      <td>0.830675</td>\n",
       "    </tr>\n",
       "    <tr>\n",
       "      <th>75%</th>\n",
       "      <td>0.797131</td>\n",
       "      <td>7.055394e-01</td>\n",
       "      <td>0.831109</td>\n",
       "    </tr>\n",
       "    <tr>\n",
       "      <th>max</th>\n",
       "      <td>0.797131</td>\n",
       "      <td>7.055394e-01</td>\n",
       "      <td>0.832970</td>\n",
       "    </tr>\n",
       "  </tbody>\n",
       "</table>\n",
       "</div>"
      ],
      "text/plain": [
       "               0             1          2\n",
       "count  10.000000  1.000000e+01  10.000000\n",
       "mean    0.797131  7.055394e-01   0.801152\n",
       "std     0.000000  1.170278e-16   0.094568\n",
       "min     0.797131  7.055394e-01   0.532016\n",
       "25%     0.797131  7.055394e-01   0.830484\n",
       "50%     0.797131  7.055394e-01   0.830675\n",
       "75%     0.797131  7.055394e-01   0.831109\n",
       "max     0.797131  7.055394e-01   0.832970"
      ]
     },
     "execution_count": 131,
     "metadata": {},
     "output_type": "execute_result"
    }
   ],
   "source": [
    "cnn13_score.describe()"
   ]
  },
  {
   "cell_type": "code",
   "execution_count": 132,
   "metadata": {},
   "outputs": [],
   "source": [
    "cnn13_score.to_pickle(\"Data//model_performance//cnn13_score.pkl\")"
   ]
  },
  {
   "cell_type": "code",
   "execution_count": 137,
   "metadata": {},
   "outputs": [
    {
     "data": {
      "text/html": [
       "<div>\n",
       "<style scoped>\n",
       "    .dataframe tbody tr th:only-of-type {\n",
       "        vertical-align: middle;\n",
       "    }\n",
       "\n",
       "    .dataframe tbody tr th {\n",
       "        vertical-align: top;\n",
       "    }\n",
       "\n",
       "    .dataframe thead th {\n",
       "        text-align: right;\n",
       "    }\n",
       "</style>\n",
       "<table border=\"1\" class=\"dataframe\">\n",
       "  <thead>\n",
       "    <tr style=\"text-align: right;\">\n",
       "      <th></th>\n",
       "      <th>0</th>\n",
       "      <th>1</th>\n",
       "      <th>2</th>\n",
       "    </tr>\n",
       "  </thead>\n",
       "  <tbody>\n",
       "    <tr>\n",
       "      <th>count</th>\n",
       "      <td>1.000000e+01</td>\n",
       "      <td>10.000000</td>\n",
       "      <td>10.000000</td>\n",
       "    </tr>\n",
       "    <tr>\n",
       "      <th>mean</th>\n",
       "      <td>8.140949e-01</td>\n",
       "      <td>0.702624</td>\n",
       "      <td>0.807044</td>\n",
       "    </tr>\n",
       "    <tr>\n",
       "      <th>std</th>\n",
       "      <td>1.170278e-16</td>\n",
       "      <td>0.000000</td>\n",
       "      <td>0.095185</td>\n",
       "    </tr>\n",
       "    <tr>\n",
       "      <th>min</th>\n",
       "      <td>8.140949e-01</td>\n",
       "      <td>0.702624</td>\n",
       "      <td>0.536152</td>\n",
       "    </tr>\n",
       "    <tr>\n",
       "      <th>25%</th>\n",
       "      <td>8.140949e-01</td>\n",
       "      <td>0.702624</td>\n",
       "      <td>0.836579</td>\n",
       "    </tr>\n",
       "    <tr>\n",
       "      <th>50%</th>\n",
       "      <td>8.140949e-01</td>\n",
       "      <td>0.702624</td>\n",
       "      <td>0.836765</td>\n",
       "    </tr>\n",
       "    <tr>\n",
       "      <th>75%</th>\n",
       "      <td>8.140949e-01</td>\n",
       "      <td>0.702624</td>\n",
       "      <td>0.837191</td>\n",
       "    </tr>\n",
       "    <tr>\n",
       "      <th>max</th>\n",
       "      <td>8.140949e-01</td>\n",
       "      <td>0.702624</td>\n",
       "      <td>0.839042</td>\n",
       "    </tr>\n",
       "  </tbody>\n",
       "</table>\n",
       "</div>"
      ],
      "text/plain": [
       "                  0          1          2\n",
       "count  1.000000e+01  10.000000  10.000000\n",
       "mean   8.140949e-01   0.702624   0.807044\n",
       "std    1.170278e-16   0.000000   0.095185\n",
       "min    8.140949e-01   0.702624   0.536152\n",
       "25%    8.140949e-01   0.702624   0.836579\n",
       "50%    8.140949e-01   0.702624   0.836765\n",
       "75%    8.140949e-01   0.702624   0.837191\n",
       "max    8.140949e-01   0.702624   0.839042"
      ]
     },
     "execution_count": 137,
     "metadata": {},
     "output_type": "execute_result"
    }
   ],
   "source": [
    "cnn15_score.describe()"
   ]
  },
  {
   "cell_type": "code",
   "execution_count": 138,
   "metadata": {},
   "outputs": [],
   "source": [
    "cnn15_score.to_pickle(\"Data//model_performance//cnn15_score.pkl\")"
   ]
  },
  {
   "cell_type": "code",
   "execution_count": 141,
   "metadata": {},
   "outputs": [
    {
     "data": {
      "text/html": [
       "<div>\n",
       "<style scoped>\n",
       "    .dataframe tbody tr th:only-of-type {\n",
       "        vertical-align: middle;\n",
       "    }\n",
       "\n",
       "    .dataframe tbody tr th {\n",
       "        vertical-align: top;\n",
       "    }\n",
       "\n",
       "    .dataframe thead th {\n",
       "        text-align: right;\n",
       "    }\n",
       "</style>\n",
       "<table border=\"1\" class=\"dataframe\">\n",
       "  <thead>\n",
       "    <tr style=\"text-align: right;\">\n",
       "      <th></th>\n",
       "      <th>0</th>\n",
       "      <th>1</th>\n",
       "      <th>2</th>\n",
       "    </tr>\n",
       "  </thead>\n",
       "  <tbody>\n",
       "    <tr>\n",
       "      <th>count</th>\n",
       "      <td>1.000000e+01</td>\n",
       "      <td>10.000000</td>\n",
       "      <td>10.000000</td>\n",
       "    </tr>\n",
       "    <tr>\n",
       "      <th>mean</th>\n",
       "      <td>8.677125e-01</td>\n",
       "      <td>0.708455</td>\n",
       "      <td>0.805866</td>\n",
       "    </tr>\n",
       "    <tr>\n",
       "      <th>std</th>\n",
       "      <td>1.170278e-16</td>\n",
       "      <td>0.000000</td>\n",
       "      <td>0.095470</td>\n",
       "    </tr>\n",
       "    <tr>\n",
       "      <th>min</th>\n",
       "      <td>8.677125e-01</td>\n",
       "      <td>0.708455</td>\n",
       "      <td>0.534159</td>\n",
       "    </tr>\n",
       "    <tr>\n",
       "      <th>25%</th>\n",
       "      <td>8.677125e-01</td>\n",
       "      <td>0.708455</td>\n",
       "      <td>0.835554</td>\n",
       "    </tr>\n",
       "    <tr>\n",
       "      <th>50%</th>\n",
       "      <td>8.677125e-01</td>\n",
       "      <td>0.708455</td>\n",
       "      <td>0.835720</td>\n",
       "    </tr>\n",
       "    <tr>\n",
       "      <th>75%</th>\n",
       "      <td>8.677125e-01</td>\n",
       "      <td>0.708455</td>\n",
       "      <td>0.836098</td>\n",
       "    </tr>\n",
       "    <tr>\n",
       "      <th>max</th>\n",
       "      <td>8.677125e-01</td>\n",
       "      <td>0.708455</td>\n",
       "      <td>0.837742</td>\n",
       "    </tr>\n",
       "  </tbody>\n",
       "</table>\n",
       "</div>"
      ],
      "text/plain": [
       "                  0          1          2\n",
       "count  1.000000e+01  10.000000  10.000000\n",
       "mean   8.677125e-01   0.708455   0.805866\n",
       "std    1.170278e-16   0.000000   0.095470\n",
       "min    8.677125e-01   0.708455   0.534159\n",
       "25%    8.677125e-01   0.708455   0.835554\n",
       "50%    8.677125e-01   0.708455   0.835720\n",
       "75%    8.677125e-01   0.708455   0.836098\n",
       "max    8.677125e-01   0.708455   0.837742"
      ]
     },
     "execution_count": 141,
     "metadata": {},
     "output_type": "execute_result"
    }
   ],
   "source": [
    "cnn18_score.describe()"
   ]
  },
  {
   "cell_type": "code",
   "execution_count": 142,
   "metadata": {},
   "outputs": [],
   "source": [
    "cnn18_score.to_pickle(\"Data//model_performance//cnn18_score.pkl\")"
   ]
  },
  {
   "cell_type": "markdown",
   "metadata": {},
   "source": [
    "#### 2.3 validate RNN"
   ]
  },
  {
   "cell_type": "markdown",
   "metadata": {},
   "source": [
    " 评估RNN,看来10个epochs是最优的模型"
   ]
  },
  {
   "cell_type": "code",
   "execution_count": 36,
   "metadata": {},
   "outputs": [
    {
     "data": {
      "text/plain": [
       "85"
      ]
     },
     "execution_count": 36,
     "metadata": {},
     "output_type": "execute_result"
    }
   ],
   "source": [
    "del rnn20\n",
    "gc.collect()"
   ]
  },
  {
   "cell_type": "code",
   "execution_count": 28,
   "metadata": {},
   "outputs": [
    {
     "name": "stdout",
     "output_type": "stream",
     "text": [
      "343/343 [==============================] - ETA: 19 - ETA: 7 - 32s 92ms/step\n",
      "343/343 [==============================] - ETA: 18 - ETA: 7 - 32s 93ms/step\n",
      "343/343 [==============================] - ETA: 18 - ETA: 7 - 32s 93ms/step\n",
      "343/343 [==============================] - ETA: 18 - ETA: 7 - 32s 94ms/step\n",
      "343/343 [==============================] - ETA: 18 - ETA: 7 - 32s 94ms/step\n",
      "343/343 [==============================] - ETA: 19 - ETA: 7 - 32s 94ms/step\n",
      "343/343 [==============================] - ETA: 18 - ETA: 7 - 33s 95ms/step\n",
      "343/343 [==============================] - ETA: 19 - ETA: 8 - 33s 98ms/step\n",
      "343/343 [==============================] - ETA: 19 - ETA: 8 - 34s 98ms/step\n",
      "343/343 [==============================] - ETA: 20 - ETA: 8 - 34s 98ms/step\n"
     ]
    }
   ],
   "source": [
    "rnn20 = load_model(\"Data/models/rnn20.hdf5\",custom_objects={\"auc_roc\":auc_roc})\n",
    "rnn20_score = val(rnn20)"
   ]
  },
  {
   "cell_type": "code",
   "execution_count": 22,
   "metadata": {},
   "outputs": [
    {
     "data": {
      "text/html": [
       "<div>\n",
       "<style scoped>\n",
       "    .dataframe tbody tr th:only-of-type {\n",
       "        vertical-align: middle;\n",
       "    }\n",
       "\n",
       "    .dataframe tbody tr th {\n",
       "        vertical-align: top;\n",
       "    }\n",
       "\n",
       "    .dataframe thead th {\n",
       "        text-align: right;\n",
       "    }\n",
       "</style>\n",
       "<table border=\"1\" class=\"dataframe\">\n",
       "  <thead>\n",
       "    <tr style=\"text-align: right;\">\n",
       "      <th></th>\n",
       "      <th>0</th>\n",
       "      <th>1</th>\n",
       "      <th>2</th>\n",
       "    </tr>\n",
       "  </thead>\n",
       "  <tbody>\n",
       "    <tr>\n",
       "      <th>count</th>\n",
       "      <td>10.000000</td>\n",
       "      <td>1.000000e+01</td>\n",
       "      <td>10.000000</td>\n",
       "    </tr>\n",
       "    <tr>\n",
       "      <th>mean</th>\n",
       "      <td>1.053606</td>\n",
       "      <td>4.489796e-01</td>\n",
       "      <td>0.609112</td>\n",
       "    </tr>\n",
       "    <tr>\n",
       "      <th>std</th>\n",
       "      <td>0.000000</td>\n",
       "      <td>5.851389e-17</td>\n",
       "      <td>0.076528</td>\n",
       "    </tr>\n",
       "    <tr>\n",
       "      <th>min</th>\n",
       "      <td>1.053606</td>\n",
       "      <td>4.489796e-01</td>\n",
       "      <td>0.391316</td>\n",
       "    </tr>\n",
       "    <tr>\n",
       "      <th>25%</th>\n",
       "      <td>1.053606</td>\n",
       "      <td>4.489796e-01</td>\n",
       "      <td>0.632914</td>\n",
       "    </tr>\n",
       "    <tr>\n",
       "      <th>50%</th>\n",
       "      <td>1.053606</td>\n",
       "      <td>4.489796e-01</td>\n",
       "      <td>0.633467</td>\n",
       "    </tr>\n",
       "    <tr>\n",
       "      <th>75%</th>\n",
       "      <td>1.053606</td>\n",
       "      <td>4.489796e-01</td>\n",
       "      <td>0.633680</td>\n",
       "    </tr>\n",
       "    <tr>\n",
       "      <th>max</th>\n",
       "      <td>1.053606</td>\n",
       "      <td>4.489796e-01</td>\n",
       "      <td>0.633793</td>\n",
       "    </tr>\n",
       "  </tbody>\n",
       "</table>\n",
       "</div>"
      ],
      "text/plain": [
       "               0             1          2\n",
       "count  10.000000  1.000000e+01  10.000000\n",
       "mean    1.053606  4.489796e-01   0.609112\n",
       "std     0.000000  5.851389e-17   0.076528\n",
       "min     1.053606  4.489796e-01   0.391316\n",
       "25%     1.053606  4.489796e-01   0.632914\n",
       "50%     1.053606  4.489796e-01   0.633467\n",
       "75%     1.053606  4.489796e-01   0.633680\n",
       "max     1.053606  4.489796e-01   0.633793"
      ]
     },
     "execution_count": 22,
     "metadata": {},
     "output_type": "execute_result"
    }
   ],
   "source": [
    "rnn5_score.describe()"
   ]
  },
  {
   "cell_type": "code",
   "execution_count": 30,
   "metadata": {},
   "outputs": [],
   "source": [
    "rnn5_score.to_pickle(\"Data//model_performance//rnn5_score.pkl\")"
   ]
  },
  {
   "cell_type": "code",
   "execution_count": 25,
   "metadata": {},
   "outputs": [
    {
     "data": {
      "text/html": [
       "<div>\n",
       "<style scoped>\n",
       "    .dataframe tbody tr th:only-of-type {\n",
       "        vertical-align: middle;\n",
       "    }\n",
       "\n",
       "    .dataframe tbody tr th {\n",
       "        vertical-align: top;\n",
       "    }\n",
       "\n",
       "    .dataframe thead th {\n",
       "        text-align: right;\n",
       "    }\n",
       "</style>\n",
       "<table border=\"1\" class=\"dataframe\">\n",
       "  <thead>\n",
       "    <tr style=\"text-align: right;\">\n",
       "      <th></th>\n",
       "      <th>0</th>\n",
       "      <th>1</th>\n",
       "      <th>2</th>\n",
       "    </tr>\n",
       "  </thead>\n",
       "  <tbody>\n",
       "    <tr>\n",
       "      <th>count</th>\n",
       "      <td>1.000000e+01</td>\n",
       "      <td>1.000000e+01</td>\n",
       "      <td>10.000000</td>\n",
       "    </tr>\n",
       "    <tr>\n",
       "      <th>mean</th>\n",
       "      <td>9.823108e-01</td>\n",
       "      <td>5.014577e-01</td>\n",
       "      <td>0.658322</td>\n",
       "    </tr>\n",
       "    <tr>\n",
       "      <th>std</th>\n",
       "      <td>1.170278e-16</td>\n",
       "      <td>1.170278e-16</td>\n",
       "      <td>0.083609</td>\n",
       "    </tr>\n",
       "    <tr>\n",
       "      <th>min</th>\n",
       "      <td>9.823108e-01</td>\n",
       "      <td>5.014577e-01</td>\n",
       "      <td>0.420377</td>\n",
       "    </tr>\n",
       "    <tr>\n",
       "      <th>25%</th>\n",
       "      <td>9.823108e-01</td>\n",
       "      <td>5.014577e-01</td>\n",
       "      <td>0.684207</td>\n",
       "    </tr>\n",
       "    <tr>\n",
       "      <th>50%</th>\n",
       "      <td>9.823108e-01</td>\n",
       "      <td>5.014577e-01</td>\n",
       "      <td>0.684987</td>\n",
       "    </tr>\n",
       "    <tr>\n",
       "      <th>75%</th>\n",
       "      <td>9.823108e-01</td>\n",
       "      <td>5.014577e-01</td>\n",
       "      <td>0.685282</td>\n",
       "    </tr>\n",
       "    <tr>\n",
       "      <th>max</th>\n",
       "      <td>9.823108e-01</td>\n",
       "      <td>5.014577e-01</td>\n",
       "      <td>0.685437</td>\n",
       "    </tr>\n",
       "  </tbody>\n",
       "</table>\n",
       "</div>"
      ],
      "text/plain": [
       "                  0             1          2\n",
       "count  1.000000e+01  1.000000e+01  10.000000\n",
       "mean   9.823108e-01  5.014577e-01   0.658322\n",
       "std    1.170278e-16  1.170278e-16   0.083609\n",
       "min    9.823108e-01  5.014577e-01   0.420377\n",
       "25%    9.823108e-01  5.014577e-01   0.684207\n",
       "50%    9.823108e-01  5.014577e-01   0.684987\n",
       "75%    9.823108e-01  5.014577e-01   0.685282\n",
       "max    9.823108e-01  5.014577e-01   0.685437"
      ]
     },
     "execution_count": 25,
     "metadata": {},
     "output_type": "execute_result"
    }
   ],
   "source": [
    "rnn10_score.describe()"
   ]
  },
  {
   "cell_type": "code",
   "execution_count": 31,
   "metadata": {},
   "outputs": [],
   "source": [
    "rnn10_score.to_pickle(\"Data//model_performance//rnn10_score.pkl\")"
   ]
  },
  {
   "cell_type": "code",
   "execution_count": 27,
   "metadata": {},
   "outputs": [
    {
     "data": {
      "text/html": [
       "<div>\n",
       "<style scoped>\n",
       "    .dataframe tbody tr th:only-of-type {\n",
       "        vertical-align: middle;\n",
       "    }\n",
       "\n",
       "    .dataframe tbody tr th {\n",
       "        vertical-align: top;\n",
       "    }\n",
       "\n",
       "    .dataframe thead th {\n",
       "        text-align: right;\n",
       "    }\n",
       "</style>\n",
       "<table border=\"1\" class=\"dataframe\">\n",
       "  <thead>\n",
       "    <tr style=\"text-align: right;\">\n",
       "      <th></th>\n",
       "      <th>0</th>\n",
       "      <th>1</th>\n",
       "      <th>2</th>\n",
       "    </tr>\n",
       "  </thead>\n",
       "  <tbody>\n",
       "    <tr>\n",
       "      <th>count</th>\n",
       "      <td>10.000000</td>\n",
       "      <td>10.000000</td>\n",
       "      <td>10.000000</td>\n",
       "    </tr>\n",
       "    <tr>\n",
       "      <th>mean</th>\n",
       "      <td>1.049107</td>\n",
       "      <td>0.434402</td>\n",
       "      <td>0.603247</td>\n",
       "    </tr>\n",
       "    <tr>\n",
       "      <th>std</th>\n",
       "      <td>0.000000</td>\n",
       "      <td>0.000000</td>\n",
       "      <td>0.076260</td>\n",
       "    </tr>\n",
       "    <tr>\n",
       "      <th>min</th>\n",
       "      <td>1.049107</td>\n",
       "      <td>0.434402</td>\n",
       "      <td>0.386216</td>\n",
       "    </tr>\n",
       "    <tr>\n",
       "      <th>25%</th>\n",
       "      <td>1.049107</td>\n",
       "      <td>0.434402</td>\n",
       "      <td>0.626911</td>\n",
       "    </tr>\n",
       "    <tr>\n",
       "      <th>50%</th>\n",
       "      <td>1.049107</td>\n",
       "      <td>0.434402</td>\n",
       "      <td>0.627545</td>\n",
       "    </tr>\n",
       "    <tr>\n",
       "      <th>75%</th>\n",
       "      <td>1.049107</td>\n",
       "      <td>0.434402</td>\n",
       "      <td>0.627786</td>\n",
       "    </tr>\n",
       "    <tr>\n",
       "      <th>max</th>\n",
       "      <td>1.049107</td>\n",
       "      <td>0.434402</td>\n",
       "      <td>0.627912</td>\n",
       "    </tr>\n",
       "  </tbody>\n",
       "</table>\n",
       "</div>"
      ],
      "text/plain": [
       "               0          1          2\n",
       "count  10.000000  10.000000  10.000000\n",
       "mean    1.049107   0.434402   0.603247\n",
       "std     0.000000   0.000000   0.076260\n",
       "min     1.049107   0.434402   0.386216\n",
       "25%     1.049107   0.434402   0.626911\n",
       "50%     1.049107   0.434402   0.627545\n",
       "75%     1.049107   0.434402   0.627786\n",
       "max     1.049107   0.434402   0.627912"
      ]
     },
     "execution_count": 27,
     "metadata": {},
     "output_type": "execute_result"
    }
   ],
   "source": [
    "rnn15_score.describe()"
   ]
  },
  {
   "cell_type": "code",
   "execution_count": 32,
   "metadata": {},
   "outputs": [],
   "source": [
    "rnn15_score.to_pickle(\"Data//model_performance//rnn15_score.pkl\")"
   ]
  },
  {
   "cell_type": "code",
   "execution_count": 29,
   "metadata": {},
   "outputs": [
    {
     "data": {
      "text/html": [
       "<div>\n",
       "<style scoped>\n",
       "    .dataframe tbody tr th:only-of-type {\n",
       "        vertical-align: middle;\n",
       "    }\n",
       "\n",
       "    .dataframe tbody tr th {\n",
       "        vertical-align: top;\n",
       "    }\n",
       "\n",
       "    .dataframe thead th {\n",
       "        text-align: right;\n",
       "    }\n",
       "</style>\n",
       "<table border=\"1\" class=\"dataframe\">\n",
       "  <thead>\n",
       "    <tr style=\"text-align: right;\">\n",
       "      <th></th>\n",
       "      <th>0</th>\n",
       "      <th>1</th>\n",
       "      <th>2</th>\n",
       "    </tr>\n",
       "  </thead>\n",
       "  <tbody>\n",
       "    <tr>\n",
       "      <th>count</th>\n",
       "      <td>1.000000e+01</td>\n",
       "      <td>1.000000e+01</td>\n",
       "      <td>10.000000</td>\n",
       "    </tr>\n",
       "    <tr>\n",
       "      <th>mean</th>\n",
       "      <td>1.015358e+00</td>\n",
       "      <td>4.285714e-01</td>\n",
       "      <td>0.614499</td>\n",
       "    </tr>\n",
       "    <tr>\n",
       "      <th>std</th>\n",
       "      <td>2.340556e-16</td>\n",
       "      <td>5.851389e-17</td>\n",
       "      <td>0.080089</td>\n",
       "    </tr>\n",
       "    <tr>\n",
       "      <th>min</th>\n",
       "      <td>1.015358e+00</td>\n",
       "      <td>4.285714e-01</td>\n",
       "      <td>0.386588</td>\n",
       "    </tr>\n",
       "    <tr>\n",
       "      <th>25%</th>\n",
       "      <td>1.015358e+00</td>\n",
       "      <td>4.285714e-01</td>\n",
       "      <td>0.638989</td>\n",
       "    </tr>\n",
       "    <tr>\n",
       "      <th>50%</th>\n",
       "      <td>1.015358e+00</td>\n",
       "      <td>4.285714e-01</td>\n",
       "      <td>0.640175</td>\n",
       "    </tr>\n",
       "    <tr>\n",
       "      <th>75%</th>\n",
       "      <td>1.015358e+00</td>\n",
       "      <td>4.285714e-01</td>\n",
       "      <td>0.640618</td>\n",
       "    </tr>\n",
       "    <tr>\n",
       "      <th>max</th>\n",
       "      <td>1.015358e+00</td>\n",
       "      <td>4.285714e-01</td>\n",
       "      <td>0.640849</td>\n",
       "    </tr>\n",
       "  </tbody>\n",
       "</table>\n",
       "</div>"
      ],
      "text/plain": [
       "                  0             1          2\n",
       "count  1.000000e+01  1.000000e+01  10.000000\n",
       "mean   1.015358e+00  4.285714e-01   0.614499\n",
       "std    2.340556e-16  5.851389e-17   0.080089\n",
       "min    1.015358e+00  4.285714e-01   0.386588\n",
       "25%    1.015358e+00  4.285714e-01   0.638989\n",
       "50%    1.015358e+00  4.285714e-01   0.640175\n",
       "75%    1.015358e+00  4.285714e-01   0.640618\n",
       "max    1.015358e+00  4.285714e-01   0.640849"
      ]
     },
     "execution_count": 29,
     "metadata": {},
     "output_type": "execute_result"
    }
   ],
   "source": [
    "rnn20_score.describe()"
   ]
  },
  {
   "cell_type": "code",
   "execution_count": 33,
   "metadata": {},
   "outputs": [],
   "source": [
    "rnn20_score.to_pickle(\"Data//model_performance//rnn20_score.pkl\")"
   ]
  },
  {
   "cell_type": "markdown",
   "metadata": {},
   "source": [
    "#### 2.4 validate CNN-RNN"
   ]
  },
  {
   "cell_type": "markdown",
   "metadata": {},
   "source": [
    "评估cnn_rnn, 15个epochs最优"
   ]
  },
  {
   "cell_type": "code",
   "execution_count": 52,
   "metadata": {},
   "outputs": [
    {
     "data": {
      "text/plain": [
       "16237"
      ]
     },
     "execution_count": 52,
     "metadata": {},
     "output_type": "execute_result"
    }
   ],
   "source": [
    "del rnn_cnn20\n",
    "gc.collect()"
   ]
  },
  {
   "cell_type": "code",
   "execution_count": 49,
   "metadata": {},
   "outputs": [
    {
     "name": "stdout",
     "output_type": "stream",
     "text": [
      "343/343 [==============================] - ETA: 35 - ETA: 13 - 51s 148ms/step\n",
      "343/343 [==============================] - ETA: 30 - ETA: 12 - 49s 142ms/step\n",
      "343/343 [==============================] - ETA: 32 - ETA: 12 - 49s 143ms/step\n",
      "343/343 [==============================] - ETA: 29 - ETA: 12 - 47s 136ms/step\n",
      "343/343 [==============================] - ETA: 31 - ETA: 12 - 48s 141ms/step\n",
      "343/343 [==============================] - ETA: 30 - ETA: 12 - 47s 137ms/step\n",
      "343/343 [==============================] - ETA: 37 - ETA: 14 - 53s 154ms/step\n",
      "343/343 [==============================] - ETA: 31 - ETA: 12 - 47s 138ms/step\n",
      "343/343 [==============================] - ETA: 30 - ETA: 12 - 48s 141ms/step\n",
      "343/343 [==============================] - ETA: 27 - ETA: 11 - 46s 133ms/step\n"
     ]
    }
   ],
   "source": [
    "rnn_cnn20 = load_model(\"Data/models/rnn_cnn20.hdf5\",custom_objects={\"auc_roc\":auc_roc})\n",
    "rnn_cnn20_score = val(rnn_cnn20)"
   ]
  },
  {
   "cell_type": "code",
   "execution_count": 38,
   "metadata": {},
   "outputs": [
    {
     "data": {
      "text/html": [
       "<div>\n",
       "<style scoped>\n",
       "    .dataframe tbody tr th:only-of-type {\n",
       "        vertical-align: middle;\n",
       "    }\n",
       "\n",
       "    .dataframe tbody tr th {\n",
       "        vertical-align: top;\n",
       "    }\n",
       "\n",
       "    .dataframe thead th {\n",
       "        text-align: right;\n",
       "    }\n",
       "</style>\n",
       "<table border=\"1\" class=\"dataframe\">\n",
       "  <thead>\n",
       "    <tr style=\"text-align: right;\">\n",
       "      <th></th>\n",
       "      <th>0</th>\n",
       "      <th>1</th>\n",
       "      <th>2</th>\n",
       "    </tr>\n",
       "  </thead>\n",
       "  <tbody>\n",
       "    <tr>\n",
       "      <th>count</th>\n",
       "      <td>10.000000</td>\n",
       "      <td>1.000000e+01</td>\n",
       "      <td>10.000000</td>\n",
       "    </tr>\n",
       "    <tr>\n",
       "      <th>mean</th>\n",
       "      <td>1.119662</td>\n",
       "      <td>4.373178e-01</td>\n",
       "      <td>0.589241</td>\n",
       "    </tr>\n",
       "    <tr>\n",
       "      <th>std</th>\n",
       "      <td>0.000000</td>\n",
       "      <td>5.851389e-17</td>\n",
       "      <td>0.072656</td>\n",
       "    </tr>\n",
       "    <tr>\n",
       "      <th>min</th>\n",
       "      <td>1.119662</td>\n",
       "      <td>4.373178e-01</td>\n",
       "      <td>0.382460</td>\n",
       "    </tr>\n",
       "    <tr>\n",
       "      <th>25%</th>\n",
       "      <td>1.119662</td>\n",
       "      <td>4.373178e-01</td>\n",
       "      <td>0.612066</td>\n",
       "    </tr>\n",
       "    <tr>\n",
       "      <th>50%</th>\n",
       "      <td>1.119662</td>\n",
       "      <td>4.373178e-01</td>\n",
       "      <td>0.612267</td>\n",
       "    </tr>\n",
       "    <tr>\n",
       "      <th>75%</th>\n",
       "      <td>1.119662</td>\n",
       "      <td>4.373178e-01</td>\n",
       "      <td>0.612349</td>\n",
       "    </tr>\n",
       "    <tr>\n",
       "      <th>max</th>\n",
       "      <td>1.119662</td>\n",
       "      <td>4.373178e-01</td>\n",
       "      <td>0.612392</td>\n",
       "    </tr>\n",
       "  </tbody>\n",
       "</table>\n",
       "</div>"
      ],
      "text/plain": [
       "               0             1          2\n",
       "count  10.000000  1.000000e+01  10.000000\n",
       "mean    1.119662  4.373178e-01   0.589241\n",
       "std     0.000000  5.851389e-17   0.072656\n",
       "min     1.119662  4.373178e-01   0.382460\n",
       "25%     1.119662  4.373178e-01   0.612066\n",
       "50%     1.119662  4.373178e-01   0.612267\n",
       "75%     1.119662  4.373178e-01   0.612349\n",
       "max     1.119662  4.373178e-01   0.612392"
      ]
     },
     "execution_count": 38,
     "metadata": {},
     "output_type": "execute_result"
    }
   ],
   "source": [
    "rnn_cnn5_score.describe()"
   ]
  },
  {
   "cell_type": "code",
   "execution_count": 39,
   "metadata": {},
   "outputs": [],
   "source": [
    "rnn_cnn5_score.to_pickle(\"Data//model_performance//rnn_cnn5_score.pkl\")"
   ]
  },
  {
   "cell_type": "code",
   "execution_count": 42,
   "metadata": {},
   "outputs": [
    {
     "data": {
      "text/html": [
       "<div>\n",
       "<style scoped>\n",
       "    .dataframe tbody tr th:only-of-type {\n",
       "        vertical-align: middle;\n",
       "    }\n",
       "\n",
       "    .dataframe tbody tr th {\n",
       "        vertical-align: top;\n",
       "    }\n",
       "\n",
       "    .dataframe thead th {\n",
       "        text-align: right;\n",
       "    }\n",
       "</style>\n",
       "<table border=\"1\" class=\"dataframe\">\n",
       "  <thead>\n",
       "    <tr style=\"text-align: right;\">\n",
       "      <th></th>\n",
       "      <th>0</th>\n",
       "      <th>1</th>\n",
       "      <th>2</th>\n",
       "    </tr>\n",
       "  </thead>\n",
       "  <tbody>\n",
       "    <tr>\n",
       "      <th>count</th>\n",
       "      <td>1.000000e+01</td>\n",
       "      <td>1.000000e+01</td>\n",
       "      <td>10.000000</td>\n",
       "    </tr>\n",
       "    <tr>\n",
       "      <th>mean</th>\n",
       "      <td>1.013498e+00</td>\n",
       "      <td>4.402332e-01</td>\n",
       "      <td>0.641149</td>\n",
       "    </tr>\n",
       "    <tr>\n",
       "      <th>std</th>\n",
       "      <td>2.340556e-16</td>\n",
       "      <td>5.851389e-17</td>\n",
       "      <td>0.079052</td>\n",
       "    </tr>\n",
       "    <tr>\n",
       "      <th>min</th>\n",
       "      <td>1.013498e+00</td>\n",
       "      <td>4.402332e-01</td>\n",
       "      <td>0.416165</td>\n",
       "    </tr>\n",
       "    <tr>\n",
       "      <th>25%</th>\n",
       "      <td>1.013498e+00</td>\n",
       "      <td>4.402332e-01</td>\n",
       "      <td>0.665998</td>\n",
       "    </tr>\n",
       "    <tr>\n",
       "      <th>50%</th>\n",
       "      <td>1.013498e+00</td>\n",
       "      <td>4.402332e-01</td>\n",
       "      <td>0.666198</td>\n",
       "    </tr>\n",
       "    <tr>\n",
       "      <th>75%</th>\n",
       "      <td>1.013498e+00</td>\n",
       "      <td>4.402332e-01</td>\n",
       "      <td>0.666279</td>\n",
       "    </tr>\n",
       "    <tr>\n",
       "      <th>max</th>\n",
       "      <td>1.013498e+00</td>\n",
       "      <td>4.402332e-01</td>\n",
       "      <td>0.666323</td>\n",
       "    </tr>\n",
       "  </tbody>\n",
       "</table>\n",
       "</div>"
      ],
      "text/plain": [
       "                  0             1          2\n",
       "count  1.000000e+01  1.000000e+01  10.000000\n",
       "mean   1.013498e+00  4.402332e-01   0.641149\n",
       "std    2.340556e-16  5.851389e-17   0.079052\n",
       "min    1.013498e+00  4.402332e-01   0.416165\n",
       "25%    1.013498e+00  4.402332e-01   0.665998\n",
       "50%    1.013498e+00  4.402332e-01   0.666198\n",
       "75%    1.013498e+00  4.402332e-01   0.666279\n",
       "max    1.013498e+00  4.402332e-01   0.666323"
      ]
     },
     "execution_count": 42,
     "metadata": {},
     "output_type": "execute_result"
    }
   ],
   "source": [
    "rnn_cnn10_score.describe()"
   ]
  },
  {
   "cell_type": "code",
   "execution_count": 43,
   "metadata": {},
   "outputs": [],
   "source": [
    "rnn_cnn10_score.to_pickle(\"Data//model_performance//rnn_cnn10_score.pkl\")"
   ]
  },
  {
   "cell_type": "code",
   "execution_count": 46,
   "metadata": {},
   "outputs": [
    {
     "data": {
      "text/html": [
       "<div>\n",
       "<style scoped>\n",
       "    .dataframe tbody tr th:only-of-type {\n",
       "        vertical-align: middle;\n",
       "    }\n",
       "\n",
       "    .dataframe tbody tr th {\n",
       "        vertical-align: top;\n",
       "    }\n",
       "\n",
       "    .dataframe thead th {\n",
       "        text-align: right;\n",
       "    }\n",
       "</style>\n",
       "<table border=\"1\" class=\"dataframe\">\n",
       "  <thead>\n",
       "    <tr style=\"text-align: right;\">\n",
       "      <th></th>\n",
       "      <th>0</th>\n",
       "      <th>1</th>\n",
       "      <th>2</th>\n",
       "    </tr>\n",
       "  </thead>\n",
       "  <tbody>\n",
       "    <tr>\n",
       "      <th>count</th>\n",
       "      <td>1.000000e+01</td>\n",
       "      <td>1.000000e+01</td>\n",
       "      <td>10.000000</td>\n",
       "    </tr>\n",
       "    <tr>\n",
       "      <th>mean</th>\n",
       "      <td>9.205074e-01</td>\n",
       "      <td>5.539359e-01</td>\n",
       "      <td>0.702369</td>\n",
       "    </tr>\n",
       "    <tr>\n",
       "      <th>std</th>\n",
       "      <td>1.170278e-16</td>\n",
       "      <td>1.170278e-16</td>\n",
       "      <td>0.089008</td>\n",
       "    </tr>\n",
       "    <tr>\n",
       "      <th>min</th>\n",
       "      <td>9.205074e-01</td>\n",
       "      <td>5.539359e-01</td>\n",
       "      <td>0.449058</td>\n",
       "    </tr>\n",
       "    <tr>\n",
       "      <th>25%</th>\n",
       "      <td>9.205074e-01</td>\n",
       "      <td>5.539359e-01</td>\n",
       "      <td>0.729987</td>\n",
       "    </tr>\n",
       "    <tr>\n",
       "      <th>50%</th>\n",
       "      <td>9.205074e-01</td>\n",
       "      <td>5.539359e-01</td>\n",
       "      <td>0.730735</td>\n",
       "    </tr>\n",
       "    <tr>\n",
       "      <th>75%</th>\n",
       "      <td>9.205074e-01</td>\n",
       "      <td>5.539359e-01</td>\n",
       "      <td>0.731015</td>\n",
       "    </tr>\n",
       "    <tr>\n",
       "      <th>max</th>\n",
       "      <td>9.205074e-01</td>\n",
       "      <td>5.539359e-01</td>\n",
       "      <td>0.731162</td>\n",
       "    </tr>\n",
       "  </tbody>\n",
       "</table>\n",
       "</div>"
      ],
      "text/plain": [
       "                  0             1          2\n",
       "count  1.000000e+01  1.000000e+01  10.000000\n",
       "mean   9.205074e-01  5.539359e-01   0.702369\n",
       "std    1.170278e-16  1.170278e-16   0.089008\n",
       "min    9.205074e-01  5.539359e-01   0.449058\n",
       "25%    9.205074e-01  5.539359e-01   0.729987\n",
       "50%    9.205074e-01  5.539359e-01   0.730735\n",
       "75%    9.205074e-01  5.539359e-01   0.731015\n",
       "max    9.205074e-01  5.539359e-01   0.731162"
      ]
     },
     "execution_count": 46,
     "metadata": {},
     "output_type": "execute_result"
    }
   ],
   "source": [
    "rnn_cnn15_score.describe()"
   ]
  },
  {
   "cell_type": "code",
   "execution_count": 47,
   "metadata": {},
   "outputs": [],
   "source": [
    "rnn_cnn15_score.to_pickle(\"Data//model_performance//rnn_cnn15_score.pkl\")"
   ]
  },
  {
   "cell_type": "code",
   "execution_count": 50,
   "metadata": {},
   "outputs": [
    {
     "data": {
      "text/html": [
       "<div>\n",
       "<style scoped>\n",
       "    .dataframe tbody tr th:only-of-type {\n",
       "        vertical-align: middle;\n",
       "    }\n",
       "\n",
       "    .dataframe tbody tr th {\n",
       "        vertical-align: top;\n",
       "    }\n",
       "\n",
       "    .dataframe thead th {\n",
       "        text-align: right;\n",
       "    }\n",
       "</style>\n",
       "<table border=\"1\" class=\"dataframe\">\n",
       "  <thead>\n",
       "    <tr style=\"text-align: right;\">\n",
       "      <th></th>\n",
       "      <th>0</th>\n",
       "      <th>1</th>\n",
       "      <th>2</th>\n",
       "    </tr>\n",
       "  </thead>\n",
       "  <tbody>\n",
       "    <tr>\n",
       "      <th>count</th>\n",
       "      <td>10.000000</td>\n",
       "      <td>1.000000e+01</td>\n",
       "      <td>10.000000</td>\n",
       "    </tr>\n",
       "    <tr>\n",
       "      <th>mean</th>\n",
       "      <td>0.996781</td>\n",
       "      <td>4.693878e-01</td>\n",
       "      <td>0.658083</td>\n",
       "    </tr>\n",
       "    <tr>\n",
       "      <th>std</th>\n",
       "      <td>0.000000</td>\n",
       "      <td>5.851389e-17</td>\n",
       "      <td>0.081443</td>\n",
       "    </tr>\n",
       "    <tr>\n",
       "      <th>min</th>\n",
       "      <td>0.996781</td>\n",
       "      <td>4.693878e-01</td>\n",
       "      <td>0.426294</td>\n",
       "    </tr>\n",
       "    <tr>\n",
       "      <th>25%</th>\n",
       "      <td>0.996781</td>\n",
       "      <td>4.693878e-01</td>\n",
       "      <td>0.683661</td>\n",
       "    </tr>\n",
       "    <tr>\n",
       "      <th>50%</th>\n",
       "      <td>0.996781</td>\n",
       "      <td>4.693878e-01</td>\n",
       "      <td>0.683904</td>\n",
       "    </tr>\n",
       "    <tr>\n",
       "      <th>75%</th>\n",
       "      <td>0.996781</td>\n",
       "      <td>4.693878e-01</td>\n",
       "      <td>0.683999</td>\n",
       "    </tr>\n",
       "    <tr>\n",
       "      <th>max</th>\n",
       "      <td>0.996781</td>\n",
       "      <td>4.693878e-01</td>\n",
       "      <td>0.684050</td>\n",
       "    </tr>\n",
       "  </tbody>\n",
       "</table>\n",
       "</div>"
      ],
      "text/plain": [
       "               0             1          2\n",
       "count  10.000000  1.000000e+01  10.000000\n",
       "mean    0.996781  4.693878e-01   0.658083\n",
       "std     0.000000  5.851389e-17   0.081443\n",
       "min     0.996781  4.693878e-01   0.426294\n",
       "25%     0.996781  4.693878e-01   0.683661\n",
       "50%     0.996781  4.693878e-01   0.683904\n",
       "75%     0.996781  4.693878e-01   0.683999\n",
       "max     0.996781  4.693878e-01   0.684050"
      ]
     },
     "execution_count": 50,
     "metadata": {},
     "output_type": "execute_result"
    }
   ],
   "source": [
    "rnn_cnn20_score.describe()"
   ]
  },
  {
   "cell_type": "code",
   "execution_count": 51,
   "metadata": {},
   "outputs": [],
   "source": [
    "rnn_cnn20_score.to_pickle(\"Data//model_performance//rnn_cnn20_score.pkl\")"
   ]
  },
  {
   "cell_type": "markdown",
   "metadata": {},
   "source": [
    "### 3. Testing"
   ]
  },
  {
   "cell_type": "markdown",
   "metadata": {},
   "source": [
    "从目前来看，在训练集中cnn是表现最好的，效率也是很优秀的。以下是每类模型中的最优模型：  \n",
    "mlp_20epochs  \n",
    "cnn13  \n",
    "rnn10  \n",
    "rnn_cnn15"
   ]
  },
  {
   "cell_type": "markdown",
   "metadata": {},
   "source": [
    "在测试集中，cnn表现最好，平均auc达到0.738，acc达到0.615"
   ]
  },
  {
   "cell_type": "code",
   "execution_count": 62,
   "metadata": {},
   "outputs": [
    {
     "data": {
      "text/plain": [
       "91"
      ]
     },
     "execution_count": 62,
     "metadata": {},
     "output_type": "execute_result"
    }
   ],
   "source": [
    "del cnn13\n",
    "gc.collect()"
   ]
  },
  {
   "cell_type": "code",
   "execution_count": 53,
   "metadata": {},
   "outputs": [],
   "source": [
    "X_test = X_test.iloc[343:]\n",
    "y_test = y_test.iloc[343:]\n",
    "docs_test = docs_test[343:]"
   ]
  },
  {
   "cell_type": "markdown",
   "metadata": {},
   "source": [
    "定义函数让每个模型在test中跑10遍"
   ]
  },
  {
   "cell_type": "code",
   "execution_count": 54,
   "metadata": {},
   "outputs": [],
   "source": [
    "def test(model):\n",
    "    score =[]\n",
    "    for i in range(10):\n",
    "        score.append(model.evaluate([docs_test,X_test],y_test,batch_size=128))\n",
    "    score = pd.DataFrame(score)\n",
    "    return score"
   ]
  },
  {
   "cell_type": "markdown",
   "metadata": {},
   "source": [
    "#### 3.1 test MLP"
   ]
  },
  {
   "cell_type": "code",
   "execution_count": 55,
   "metadata": {},
   "outputs": [
    {
     "name": "stdout",
     "output_type": "stream",
     "text": [
      "343/343 [==============================] - ETA:  - ETA:  - 9s 26ms/step\n",
      "343/343 [==============================] - ETA:  - ETA:  - 8s 22ms/step\n",
      "343/343 [==============================] - ETA:  - ETA:  - 8s 23ms/step\n",
      "343/343 [==============================] - ETA:  - ETA:  - 8s 23ms/step\n",
      "343/343 [==============================] - ETA:  - ETA:  - 8s 23ms/step\n",
      "343/343 [==============================] - ETA:  - ETA:  - 8s 23ms/step\n",
      "343/343 [==============================] - ETA:  - ETA:  - 8s 23ms/step\n",
      "343/343 [==============================] - ETA:  - ETA:  - 8s 23ms/step\n",
      "343/343 [==============================] - ETA:  - ETA:  - 8s 23ms/step\n",
      "343/343 [==============================] - ETA:  - ETA:  - 8s 23ms/step\n"
     ]
    }
   ],
   "source": [
    "mlp_20epochs = load_model(\"Data/models/mlp_20epochs.hdf5\",custom_objects={\"auc_roc\":auc_roc})\n",
    "mlp20_test_score = test(mlp_20epochs)"
   ]
  },
  {
   "cell_type": "code",
   "execution_count": 56,
   "metadata": {},
   "outputs": [
    {
     "data": {
      "text/html": [
       "<div>\n",
       "<style scoped>\n",
       "    .dataframe tbody tr th:only-of-type {\n",
       "        vertical-align: middle;\n",
       "    }\n",
       "\n",
       "    .dataframe tbody tr th {\n",
       "        vertical-align: top;\n",
       "    }\n",
       "\n",
       "    .dataframe thead th {\n",
       "        text-align: right;\n",
       "    }\n",
       "</style>\n",
       "<table border=\"1\" class=\"dataframe\">\n",
       "  <thead>\n",
       "    <tr style=\"text-align: right;\">\n",
       "      <th></th>\n",
       "      <th>0</th>\n",
       "      <th>1</th>\n",
       "      <th>2</th>\n",
       "    </tr>\n",
       "  </thead>\n",
       "  <tbody>\n",
       "    <tr>\n",
       "      <th>count</th>\n",
       "      <td>1.000000e+01</td>\n",
       "      <td>10.000000</td>\n",
       "      <td>10.000000</td>\n",
       "    </tr>\n",
       "    <tr>\n",
       "      <th>mean</th>\n",
       "      <td>2.135054e+00</td>\n",
       "      <td>0.498542</td>\n",
       "      <td>0.605070</td>\n",
       "    </tr>\n",
       "    <tr>\n",
       "      <th>std</th>\n",
       "      <td>4.681111e-16</td>\n",
       "      <td>0.000000</td>\n",
       "      <td>0.077756</td>\n",
       "    </tr>\n",
       "    <tr>\n",
       "      <th>min</th>\n",
       "      <td>2.135054e+00</td>\n",
       "      <td>0.498542</td>\n",
       "      <td>0.383787</td>\n",
       "    </tr>\n",
       "    <tr>\n",
       "      <th>25%</th>\n",
       "      <td>2.135054e+00</td>\n",
       "      <td>0.498542</td>\n",
       "      <td>0.629064</td>\n",
       "    </tr>\n",
       "    <tr>\n",
       "      <th>50%</th>\n",
       "      <td>2.135054e+00</td>\n",
       "      <td>0.498542</td>\n",
       "      <td>0.629914</td>\n",
       "    </tr>\n",
       "    <tr>\n",
       "      <th>75%</th>\n",
       "      <td>2.135054e+00</td>\n",
       "      <td>0.498542</td>\n",
       "      <td>0.630229</td>\n",
       "    </tr>\n",
       "    <tr>\n",
       "      <th>max</th>\n",
       "      <td>2.135054e+00</td>\n",
       "      <td>0.498542</td>\n",
       "      <td>0.630393</td>\n",
       "    </tr>\n",
       "  </tbody>\n",
       "</table>\n",
       "</div>"
      ],
      "text/plain": [
       "                  0          1          2\n",
       "count  1.000000e+01  10.000000  10.000000\n",
       "mean   2.135054e+00   0.498542   0.605070\n",
       "std    4.681111e-16   0.000000   0.077756\n",
       "min    2.135054e+00   0.498542   0.383787\n",
       "25%    2.135054e+00   0.498542   0.629064\n",
       "50%    2.135054e+00   0.498542   0.629914\n",
       "75%    2.135054e+00   0.498542   0.630229\n",
       "max    2.135054e+00   0.498542   0.630393"
      ]
     },
     "execution_count": 56,
     "metadata": {},
     "output_type": "execute_result"
    }
   ],
   "source": [
    "mlp20_test_score.describe()"
   ]
  },
  {
   "cell_type": "code",
   "execution_count": 57,
   "metadata": {},
   "outputs": [],
   "source": [
    "mlp20_test_score.to_pickle(\"Data//model_performance//mlp20_test_score.pkl\")"
   ]
  },
  {
   "cell_type": "markdown",
   "metadata": {},
   "source": [
    "#### 3.2 test CNN"
   ]
  },
  {
   "cell_type": "code",
   "execution_count": 58,
   "metadata": {},
   "outputs": [
    {
     "name": "stdout",
     "output_type": "stream",
     "text": [
      "343/343 [==============================] - ETA: 19 - ETA: 6 - 26s 76ms/step\n",
      "343/343 [==============================] - ETA: 13 - ETA: 5 - 23s 66ms/step\n",
      "343/343 [==============================] - ETA: 14 - ETA: 5 - 23s 66ms/step\n",
      "343/343 [==============================] - ETA: 14 - ETA: 5 - 23s 66ms/step\n",
      "343/343 [==============================] - ETA: 13 - ETA: 5 - 22s 64ms/step\n",
      "343/343 [==============================] - ETA: 13 - ETA: 5 - 23s 66ms/step\n",
      "343/343 [==============================] - ETA: 13 - ETA: 5 - 22s 64ms/step\n",
      "343/343 [==============================] - ETA: 14 - ETA: 5 - 23s 67ms/step\n",
      "343/343 [==============================] - ETA: 14 - ETA: 5 - 23s 66ms/step\n",
      "343/343 [==============================] - ETA: 14 - ETA: 5 - 23s 66ms/step\n"
     ]
    }
   ],
   "source": [
    "cnn13 = load_model(\"Data/models/cnn13.hdf5\",custom_objects={\"auc_roc\":auc_roc})\n",
    "cnn13_test_score = test(cnn13)"
   ]
  },
  {
   "cell_type": "code",
   "execution_count": 59,
   "metadata": {},
   "outputs": [
    {
     "data": {
      "text/html": [
       "<div>\n",
       "<style scoped>\n",
       "    .dataframe tbody tr th:only-of-type {\n",
       "        vertical-align: middle;\n",
       "    }\n",
       "\n",
       "    .dataframe tbody tr th {\n",
       "        vertical-align: top;\n",
       "    }\n",
       "\n",
       "    .dataframe thead th {\n",
       "        text-align: right;\n",
       "    }\n",
       "</style>\n",
       "<table border=\"1\" class=\"dataframe\">\n",
       "  <thead>\n",
       "    <tr style=\"text-align: right;\">\n",
       "      <th></th>\n",
       "      <th>0</th>\n",
       "      <th>1</th>\n",
       "      <th>2</th>\n",
       "    </tr>\n",
       "  </thead>\n",
       "  <tbody>\n",
       "    <tr>\n",
       "      <th>count</th>\n",
       "      <td>10.000000</td>\n",
       "      <td>1.000000e+01</td>\n",
       "      <td>10.000000</td>\n",
       "    </tr>\n",
       "    <tr>\n",
       "      <th>mean</th>\n",
       "      <td>0.965634</td>\n",
       "      <td>6.151603e-01</td>\n",
       "      <td>0.738147</td>\n",
       "    </tr>\n",
       "    <tr>\n",
       "      <th>std</th>\n",
       "      <td>0.000000</td>\n",
       "      <td>1.170278e-16</td>\n",
       "      <td>0.090811</td>\n",
       "    </tr>\n",
       "    <tr>\n",
       "      <th>min</th>\n",
       "      <td>0.965634</td>\n",
       "      <td>6.151603e-01</td>\n",
       "      <td>0.479694</td>\n",
       "    </tr>\n",
       "    <tr>\n",
       "      <th>25%</th>\n",
       "      <td>0.965634</td>\n",
       "      <td>6.151603e-01</td>\n",
       "      <td>0.766810</td>\n",
       "    </tr>\n",
       "    <tr>\n",
       "      <th>50%</th>\n",
       "      <td>0.965634</td>\n",
       "      <td>6.151603e-01</td>\n",
       "      <td>0.766887</td>\n",
       "    </tr>\n",
       "    <tr>\n",
       "      <th>75%</th>\n",
       "      <td>0.965634</td>\n",
       "      <td>6.151603e-01</td>\n",
       "      <td>0.766916</td>\n",
       "    </tr>\n",
       "    <tr>\n",
       "      <th>max</th>\n",
       "      <td>0.965634</td>\n",
       "      <td>6.151603e-01</td>\n",
       "      <td>0.766931</td>\n",
       "    </tr>\n",
       "  </tbody>\n",
       "</table>\n",
       "</div>"
      ],
      "text/plain": [
       "               0             1          2\n",
       "count  10.000000  1.000000e+01  10.000000\n",
       "mean    0.965634  6.151603e-01   0.738147\n",
       "std     0.000000  1.170278e-16   0.090811\n",
       "min     0.965634  6.151603e-01   0.479694\n",
       "25%     0.965634  6.151603e-01   0.766810\n",
       "50%     0.965634  6.151603e-01   0.766887\n",
       "75%     0.965634  6.151603e-01   0.766916\n",
       "max     0.965634  6.151603e-01   0.766931"
      ]
     },
     "execution_count": 59,
     "metadata": {},
     "output_type": "execute_result"
    }
   ],
   "source": [
    "cnn13_test_score.describe()"
   ]
  },
  {
   "cell_type": "code",
   "execution_count": 60,
   "metadata": {},
   "outputs": [],
   "source": [
    "cnn13_test_score.to_pickle(\"Data//model_performance//cnn13_test_score.pkl\")"
   ]
  },
  {
   "cell_type": "markdown",
   "metadata": {},
   "source": [
    "#### 3.3 test RNN"
   ]
  },
  {
   "cell_type": "code",
   "execution_count": 63,
   "metadata": {},
   "outputs": [
    {
     "name": "stdout",
     "output_type": "stream",
     "text": [
      "343/343 [==============================] - ETA: 21 - ETA: 8 - 34s 98ms/step\n",
      "343/343 [==============================] - ETA: 18 - ETA: 7 - 32s 94ms/step\n",
      "343/343 [==============================] - ETA: 18 - ETA: 7 - 32s 94ms/step\n",
      "343/343 [==============================] - ETA: 18 - ETA: 7 - 33s 95ms/step\n",
      "343/343 [==============================] - ETA: 18 - ETA: 7 - 34s 98ms/step\n",
      "343/343 [==============================] - ETA: 18 - ETA: 7 - 32s 94ms/step\n",
      "343/343 [==============================] - ETA: 18 - ETA: 7 - 34s 99ms/step\n",
      "343/343 [==============================] - ETA: 19 - ETA: 7 - 33s 96ms/step\n",
      "343/343 [==============================] - ETA: 19 - ETA: 7 - 32s 94ms/step\n",
      "343/343 [==============================] - ETA: 18 - ETA: 7 - 32s 94ms/step\n"
     ]
    }
   ],
   "source": [
    "rnn10 = load_model(\"Data/models/rnn10.hdf5\",custom_objects={\"auc_roc\":auc_roc})\n",
    "rnn10_test_score = test(rnn10)"
   ]
  },
  {
   "cell_type": "code",
   "execution_count": 64,
   "metadata": {},
   "outputs": [
    {
     "data": {
      "text/html": [
       "<div>\n",
       "<style scoped>\n",
       "    .dataframe tbody tr th:only-of-type {\n",
       "        vertical-align: middle;\n",
       "    }\n",
       "\n",
       "    .dataframe tbody tr th {\n",
       "        vertical-align: top;\n",
       "    }\n",
       "\n",
       "    .dataframe thead th {\n",
       "        text-align: right;\n",
       "    }\n",
       "</style>\n",
       "<table border=\"1\" class=\"dataframe\">\n",
       "  <thead>\n",
       "    <tr style=\"text-align: right;\">\n",
       "      <th></th>\n",
       "      <th>0</th>\n",
       "      <th>1</th>\n",
       "      <th>2</th>\n",
       "    </tr>\n",
       "  </thead>\n",
       "  <tbody>\n",
       "    <tr>\n",
       "      <th>count</th>\n",
       "      <td>1.000000e+01</td>\n",
       "      <td>1.000000e+01</td>\n",
       "      <td>10.000000</td>\n",
       "    </tr>\n",
       "    <tr>\n",
       "      <th>mean</th>\n",
       "      <td>1.006949e+00</td>\n",
       "      <td>4.548105e-01</td>\n",
       "      <td>0.642065</td>\n",
       "    </tr>\n",
       "    <tr>\n",
       "      <th>std</th>\n",
       "      <td>2.340556e-16</td>\n",
       "      <td>5.851389e-17</td>\n",
       "      <td>0.080912</td>\n",
       "    </tr>\n",
       "    <tr>\n",
       "      <th>min</th>\n",
       "      <td>1.006949e+00</td>\n",
       "      <td>4.548105e-01</td>\n",
       "      <td>0.411791</td>\n",
       "    </tr>\n",
       "    <tr>\n",
       "      <th>25%</th>\n",
       "      <td>1.006949e+00</td>\n",
       "      <td>4.548105e-01</td>\n",
       "      <td>0.667251</td>\n",
       "    </tr>\n",
       "    <tr>\n",
       "      <th>50%</th>\n",
       "      <td>1.006949e+00</td>\n",
       "      <td>4.548105e-01</td>\n",
       "      <td>0.667819</td>\n",
       "    </tr>\n",
       "    <tr>\n",
       "      <th>75%</th>\n",
       "      <td>1.006949e+00</td>\n",
       "      <td>4.548105e-01</td>\n",
       "      <td>0.668032</td>\n",
       "    </tr>\n",
       "    <tr>\n",
       "      <th>max</th>\n",
       "      <td>1.006949e+00</td>\n",
       "      <td>4.548105e-01</td>\n",
       "      <td>0.668144</td>\n",
       "    </tr>\n",
       "  </tbody>\n",
       "</table>\n",
       "</div>"
      ],
      "text/plain": [
       "                  0             1          2\n",
       "count  1.000000e+01  1.000000e+01  10.000000\n",
       "mean   1.006949e+00  4.548105e-01   0.642065\n",
       "std    2.340556e-16  5.851389e-17   0.080912\n",
       "min    1.006949e+00  4.548105e-01   0.411791\n",
       "25%    1.006949e+00  4.548105e-01   0.667251\n",
       "50%    1.006949e+00  4.548105e-01   0.667819\n",
       "75%    1.006949e+00  4.548105e-01   0.668032\n",
       "max    1.006949e+00  4.548105e-01   0.668144"
      ]
     },
     "execution_count": 64,
     "metadata": {},
     "output_type": "execute_result"
    }
   ],
   "source": [
    "rnn10_test_score.describe()"
   ]
  },
  {
   "cell_type": "code",
   "execution_count": 65,
   "metadata": {},
   "outputs": [],
   "source": [
    "rnn10_test_score.to_pickle(\"Data//model_performance//rnn10_test_score.pkl\")"
   ]
  },
  {
   "cell_type": "markdown",
   "metadata": {},
   "source": [
    "#### 3.4 test CNN-RNN"
   ]
  },
  {
   "cell_type": "code",
   "execution_count": 66,
   "metadata": {},
   "outputs": [
    {
     "name": "stdout",
     "output_type": "stream",
     "text": [
      "343/343 [==============================] - ETA: 34 - ETA: 13 - 50s 147ms/step\n",
      "343/343 [==============================] - ETA: 31 - ETA: 13 - 50s 146ms/step\n",
      "343/343 [==============================] - ETA: 30 - ETA: 12 - 47s 138ms/step\n",
      "343/343 [==============================] - ETA: 29 - ETA: 12 - 48s 141ms/step\n",
      "343/343 [==============================] - ETA: 29 - ETA: 12 - 48s 139ms/step\n",
      "343/343 [==============================] - ETA: 33 - ETA: 14 - 55s 160ms/step\n",
      "343/343 [==============================] - ETA: 30 - ETA: 13 - 53s 153ms/step\n",
      "343/343 [==============================] - ETA: 31 - ETA: 12 - 47s 137ms/step\n",
      "343/343 [==============================] - ETA: 30 - ETA: 13 - 52s 150ms/step\n",
      "343/343 [==============================] - ETA: 31 - ETA: 14 - 55s 160ms/step\n"
     ]
    }
   ],
   "source": [
    "rnn_cnn15 = load_model(\"Data/models/rnn_cnn15.hdf5\",custom_objects={\"auc_roc\":auc_roc})\n",
    "rnn_cnn15_test_score = test(rnn_cnn15)"
   ]
  },
  {
   "cell_type": "code",
   "execution_count": 67,
   "metadata": {},
   "outputs": [
    {
     "data": {
      "text/html": [
       "<div>\n",
       "<style scoped>\n",
       "    .dataframe tbody tr th:only-of-type {\n",
       "        vertical-align: middle;\n",
       "    }\n",
       "\n",
       "    .dataframe tbody tr th {\n",
       "        vertical-align: top;\n",
       "    }\n",
       "\n",
       "    .dataframe thead th {\n",
       "        text-align: right;\n",
       "    }\n",
       "</style>\n",
       "<table border=\"1\" class=\"dataframe\">\n",
       "  <thead>\n",
       "    <tr style=\"text-align: right;\">\n",
       "      <th></th>\n",
       "      <th>0</th>\n",
       "      <th>1</th>\n",
       "      <th>2</th>\n",
       "    </tr>\n",
       "  </thead>\n",
       "  <tbody>\n",
       "    <tr>\n",
       "      <th>count</th>\n",
       "      <td>10.000000</td>\n",
       "      <td>1.000000e+01</td>\n",
       "      <td>10.000000</td>\n",
       "    </tr>\n",
       "    <tr>\n",
       "      <th>mean</th>\n",
       "      <td>0.985199</td>\n",
       "      <td>5.102041e-01</td>\n",
       "      <td>0.663844</td>\n",
       "    </tr>\n",
       "    <tr>\n",
       "      <th>std</th>\n",
       "      <td>0.000000</td>\n",
       "      <td>1.170278e-16</td>\n",
       "      <td>0.087919</td>\n",
       "    </tr>\n",
       "    <tr>\n",
       "      <th>min</th>\n",
       "      <td>0.985199</td>\n",
       "      <td>5.102041e-01</td>\n",
       "      <td>0.413666</td>\n",
       "    </tr>\n",
       "    <tr>\n",
       "      <th>25%</th>\n",
       "      <td>0.985199</td>\n",
       "      <td>5.102041e-01</td>\n",
       "      <td>0.690501</td>\n",
       "    </tr>\n",
       "    <tr>\n",
       "      <th>50%</th>\n",
       "      <td>0.985199</td>\n",
       "      <td>5.102041e-01</td>\n",
       "      <td>0.692127</td>\n",
       "    </tr>\n",
       "    <tr>\n",
       "      <th>75%</th>\n",
       "      <td>0.985199</td>\n",
       "      <td>5.102041e-01</td>\n",
       "      <td>0.692734</td>\n",
       "    </tr>\n",
       "    <tr>\n",
       "      <th>max</th>\n",
       "      <td>0.985199</td>\n",
       "      <td>5.102041e-01</td>\n",
       "      <td>0.693050</td>\n",
       "    </tr>\n",
       "  </tbody>\n",
       "</table>\n",
       "</div>"
      ],
      "text/plain": [
       "               0             1          2\n",
       "count  10.000000  1.000000e+01  10.000000\n",
       "mean    0.985199  5.102041e-01   0.663844\n",
       "std     0.000000  1.170278e-16   0.087919\n",
       "min     0.985199  5.102041e-01   0.413666\n",
       "25%     0.985199  5.102041e-01   0.690501\n",
       "50%     0.985199  5.102041e-01   0.692127\n",
       "75%     0.985199  5.102041e-01   0.692734\n",
       "max     0.985199  5.102041e-01   0.693050"
      ]
     },
     "execution_count": 67,
     "metadata": {},
     "output_type": "execute_result"
    }
   ],
   "source": [
    "rnn_cnn15_test_score.describe()"
   ]
  },
  {
   "cell_type": "code",
   "execution_count": 68,
   "metadata": {},
   "outputs": [],
   "source": [
    "rnn_cnn15_test_score.to_pickle(\"Data//model_performance//rnn_cnn15_test_score.pkl\")"
   ]
  },
  {
   "cell_type": "code",
   "execution_count": null,
   "metadata": {},
   "outputs": [],
   "source": []
  }
 ],
 "metadata": {
  "kernelspec": {
   "display_name": "Python 3",
   "language": "python",
   "name": "python3"
  },
  "language_info": {
   "codemirror_mode": {
    "name": "ipython",
    "version": 3
   },
   "file_extension": ".py",
   "mimetype": "text/x-python",
   "name": "python",
   "nbconvert_exporter": "python",
   "pygments_lexer": "ipython3",
   "version": "3.6.7"
  }
 },
 "nbformat": 4,
 "nbformat_minor": 2
}
