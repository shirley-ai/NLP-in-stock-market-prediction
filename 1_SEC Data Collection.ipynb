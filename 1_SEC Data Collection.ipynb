{
 "cells": [
  {
   "cell_type": "markdown",
   "metadata": {},
   "source": [
    "### 本篇代码用于爬取项目的文本数据——SEC文件"
   ]
  },
  {
   "cell_type": "code",
   "execution_count": 1,
   "metadata": {},
   "outputs": [],
   "source": [
    "from bs4 import BeautifulSoup\n",
    "import datetime\n",
    "import unicodedata\n",
    "import requests\n",
    "import pandas as pd\n",
    "import numpy as np\n",
    "from time import sleep\n",
    "import math\n",
    "#from config import Config\n",
    "import dateutil.relativedelta\n",
    "import pandas_market_calendars as mcal\n",
    "import os\n",
    "import io\n",
    "import re\n",
    "from tqdm import tqdm\n",
    "import gc\n",
    "import ast\n",
    "from pandas.core.frame import DataFrame"
   ]
  },
  {
   "cell_type": "markdown",
   "metadata": {},
   "source": [
    "#### 搜集标普500的基本数据——ticker, cik"
   ]
  },
  {
   "cell_type": "code",
   "execution_count": 18,
   "metadata": {},
   "outputs": [
    {
     "data": {
      "text/html": [
       "<div>\n",
       "<style scoped>\n",
       "    .dataframe tbody tr th:only-of-type {\n",
       "        vertical-align: middle;\n",
       "    }\n",
       "\n",
       "    .dataframe tbody tr th {\n",
       "        vertical-align: top;\n",
       "    }\n",
       "\n",
       "    .dataframe thead th {\n",
       "        text-align: right;\n",
       "    }\n",
       "</style>\n",
       "<table border=\"1\" class=\"dataframe\">\n",
       "  <thead>\n",
       "    <tr style=\"text-align: right;\">\n",
       "      <th></th>\n",
       "      <th>Security</th>\n",
       "      <th>SEC filings</th>\n",
       "      <th>GICS Sector</th>\n",
       "      <th>GICS Sub Industry</th>\n",
       "      <th>Headquarters Location</th>\n",
       "      <th>Date first added</th>\n",
       "      <th>CIK</th>\n",
       "      <th>Founded</th>\n",
       "    </tr>\n",
       "    <tr>\n",
       "      <th>Symbol</th>\n",
       "      <th></th>\n",
       "      <th></th>\n",
       "      <th></th>\n",
       "      <th></th>\n",
       "      <th></th>\n",
       "      <th></th>\n",
       "      <th></th>\n",
       "      <th></th>\n",
       "    </tr>\n",
       "  </thead>\n",
       "  <tbody>\n",
       "    <tr>\n",
       "      <th>MMM</th>\n",
       "      <td>3M Company</td>\n",
       "      <td>reports</td>\n",
       "      <td>Industrials</td>\n",
       "      <td>Industrials</td>\n",
       "      <td>St. Paul, Minnesota</td>\n",
       "      <td>NaN</td>\n",
       "      <td>66740</td>\n",
       "      <td>1902</td>\n",
       "    </tr>\n",
       "    <tr>\n",
       "      <th>ABT</th>\n",
       "      <td>Abbott Laboratories</td>\n",
       "      <td>reports</td>\n",
       "      <td>Health Care</td>\n",
       "      <td>Health Care</td>\n",
       "      <td>North Chicago, Illinois</td>\n",
       "      <td>1964-03-31</td>\n",
       "      <td>1800</td>\n",
       "      <td>1888</td>\n",
       "    </tr>\n",
       "    <tr>\n",
       "      <th>ABBV</th>\n",
       "      <td>AbbVie Inc.</td>\n",
       "      <td>reports</td>\n",
       "      <td>Health Care</td>\n",
       "      <td>Health Care</td>\n",
       "      <td>North Chicago, Illinois</td>\n",
       "      <td>2012-12-31</td>\n",
       "      <td>1551152</td>\n",
       "      <td>2013 (1888)</td>\n",
       "    </tr>\n",
       "    <tr>\n",
       "      <th>ABMD</th>\n",
       "      <td>ABIOMED Inc</td>\n",
       "      <td>reports</td>\n",
       "      <td>Health Care</td>\n",
       "      <td>Health Care</td>\n",
       "      <td>Danvers, Massachusetts</td>\n",
       "      <td>2018-05-31</td>\n",
       "      <td>815094</td>\n",
       "      <td>1981</td>\n",
       "    </tr>\n",
       "    <tr>\n",
       "      <th>ACN</th>\n",
       "      <td>Accenture plc</td>\n",
       "      <td>reports</td>\n",
       "      <td>Information Technology</td>\n",
       "      <td>Information Technology</td>\n",
       "      <td>Dublin, Ireland</td>\n",
       "      <td>2011-07-06</td>\n",
       "      <td>1467373</td>\n",
       "      <td>1989</td>\n",
       "    </tr>\n",
       "  </tbody>\n",
       "</table>\n",
       "</div>"
      ],
      "text/plain": [
       "                   Security SEC filings             GICS Sector  \\\n",
       "Symbol                                                            \n",
       "MMM              3M Company     reports             Industrials   \n",
       "ABT     Abbott Laboratories     reports             Health Care   \n",
       "ABBV            AbbVie Inc.     reports             Health Care   \n",
       "ABMD            ABIOMED Inc     reports             Health Care   \n",
       "ACN           Accenture plc     reports  Information Technology   \n",
       "\n",
       "             GICS Sub Industry    Headquarters Location Date first added  \\\n",
       "Symbol                                                                     \n",
       "MMM                Industrials      St. Paul, Minnesota              NaN   \n",
       "ABT                Health Care  North Chicago, Illinois       1964-03-31   \n",
       "ABBV               Health Care  North Chicago, Illinois       2012-12-31   \n",
       "ABMD               Health Care   Danvers, Massachusetts       2018-05-31   \n",
       "ACN     Information Technology          Dublin, Ireland       2011-07-06   \n",
       "\n",
       "            CIK      Founded  \n",
       "Symbol                        \n",
       "MMM       66740         1902  \n",
       "ABT        1800         1888  \n",
       "ABBV    1551152  2013 (1888)  \n",
       "ABMD     815094         1981  \n",
       "ACN     1467373         1989  "
      ]
     },
     "execution_count": 18,
     "metadata": {},
     "output_type": "execute_result"
    }
   ],
   "source": [
    "wiki_url = \"https://en.wikipedia.org/wiki/List_of_S%26P_500_companies\"\n",
    "#用pandas的read_html可以直接把页面中的表格读出来\n",
    "#header=0表示表格第一行为header\n",
    "#index_col=0表示第一列数据是index\n",
    "cik_df = pd.read_html(wiki_url,header=0,index_col=0)[0]\n",
    "cik_df['GICS Sector'] = cik_df['GICS Sector'].astype(\"category\")\n",
    "cik_df['GICS Sub Industry'] = cik_df['GICS Sector'].astype(\"category\")\n",
    "cik_df.head()"
   ]
  },
  {
   "cell_type": "code",
   "execution_count": 19,
   "metadata": {},
   "outputs": [],
   "source": [
    "cik_df.to_pickle('Pickles\\cik.pkl')"
   ]
  },
  {
   "cell_type": "markdown",
   "metadata": {},
   "source": [
    "#### 定义函数——得到SEC文本链接"
   ]
  },
  {
   "cell_type": "code",
   "execution_count": 28,
   "metadata": {},
   "outputs": [],
   "source": [
    "def get_doc_links(cik,ticker):\n",
    "        try:\n",
    "            base_url = \"https://www.sec.gov/cgi-bin/browse-edgar\"\n",
    "            inputted_cik = cik\n",
    "            payload = {\n",
    "                \"action\" : \"getcompany\",\n",
    "                \"CIK\" : inputted_cik,\n",
    "                \"type\" : \"8-K\",\n",
    "                \"output\":\"xml\",\n",
    "                \"dateb\" : \"20190401\", #取2019年4月之前的数据\n",
    "            }\n",
    "            sec_response = requests.get(url=base_url,params=payload)\n",
    "            soup = BeautifulSoup(sec_response.text,'lxml')\n",
    "            url_list = soup.findAll('filinghref') #得到链接\n",
    "            \n",
    "            html_list = []\n",
    "            # 转换链接格式\n",
    "            for link in url_list:\n",
    "                link = link.string\n",
    "                if link.split(\".\")[len(link.split(\".\"))-1] == 'htm': # if the url is ended with htm\n",
    "                    txtlink = link + \"l\" # add L and change to html\n",
    "                    html_list.append(txtlink)\n",
    "                    # now we have the webpages for sec files\n",
    "\n",
    "            doc_list = []\n",
    "            doc_name_list = []\n",
    "            \n",
    "            # 得到文本链接\n",
    "            for k in range(len(html_list)):\n",
    "                txt_doc = html_list[k].replace(\"-index.html\",\".txt\")\n",
    "                doc_name = txt_doc.split(\"/\")[-1]\n",
    "                doc_list.append(txt_doc)\n",
    "                doc_name_list.append(doc_name)\n",
    "                \n",
    "                # Create dataframe of CIK, doc name, and txt link\n",
    "            df = pd.DataFrame(\n",
    "                {\n",
    "                \"cik\" : [cik]*len(html_list),\n",
    "                \"ticker\" : [ticker]*len(html_list),\n",
    "                \"txt_link\" : doc_list,\n",
    "                \"doc_name\": doc_name_list\n",
    "                }\n",
    "            )\n",
    "        except requests.exceptions.ConnectionError:\n",
    "                sleep(.1)\n",
    "        return df"
   ]
  },
  {
   "cell_type": "markdown",
   "metadata": {},
   "source": [
    "#### 得到s&p500每只股票的SEC文本链接"
   ]
  },
  {
   "cell_type": "code",
   "execution_count": null,
   "metadata": {},
   "outputs": [],
   "source": [
    "df_list = [] #生成一个列表装所有股票的SEC数据\n",
    "company_list = cik_df['CIK'].to_dict()#生成一个ticker-cik的字典\n",
    "for (ticker,cik) in tqdm(company_list.items()):\n",
    "    df_list.append(get_doc_links(cik,ticker))#每个股票返回一个data frame\n",
    "doc_links_df = pd.concat(df_list,axis=0)#将所有df纵向合并。axis=1为横向合并\n",
    "#先将ticker设为索引，用以合并行业变量\n",
    "#恢复整体索引，消除设置的index\n",
    "doc_links_df = doc_links_df.set_index(\"ticker\").join(cik_df['GICS Sector']).join(cik_df['GICS Sub Industry']).reset_index().rename(columns={\"index\":\"ticker\"})\n",
    "doc_links_df.head()"
   ]
  },
  {
   "cell_type": "code",
   "execution_count": 83,
   "metadata": {},
   "outputs": [
    {
     "data": {
      "text/plain": [
       "19876"
      ]
     },
     "execution_count": 83,
     "metadata": {},
     "output_type": "execute_result"
    }
   ],
   "source": [
    "len(doc_links_df)"
   ]
  },
  {
   "cell_type": "code",
   "execution_count": 84,
   "metadata": {},
   "outputs": [],
   "source": [
    "doc_links_df.to_pickle('Pickles\\doc_links_df.pkl')"
   ]
  },
  {
   "cell_type": "markdown",
   "metadata": {},
   "source": [
    "#### 从500中得到前100股票的文本链接"
   ]
  },
  {
   "cell_type": "code",
   "execution_count": 3,
   "metadata": {},
   "outputs": [],
   "source": [
    "top100 = pd.read_csv('top100.csv')#导入前100股票的cik"
   ]
  },
  {
   "cell_type": "code",
   "execution_count": 5,
   "metadata": {},
   "outputs": [],
   "source": [
    "all_links = pd.read_pickle('Pickles\\doc_links_df.pkl')#导入前500股票所有的文本链接"
   ]
  },
  {
   "cell_type": "code",
   "execution_count": 11,
   "metadata": {},
   "outputs": [
    {
     "data": {
      "text/html": [
       "<div>\n",
       "<style scoped>\n",
       "    .dataframe tbody tr th:only-of-type {\n",
       "        vertical-align: middle;\n",
       "    }\n",
       "\n",
       "    .dataframe tbody tr th {\n",
       "        vertical-align: top;\n",
       "    }\n",
       "\n",
       "    .dataframe thead th {\n",
       "        text-align: right;\n",
       "    }\n",
       "</style>\n",
       "<table border=\"1\" class=\"dataframe\">\n",
       "  <thead>\n",
       "    <tr style=\"text-align: right;\">\n",
       "      <th></th>\n",
       "      <th>ticker</th>\n",
       "      <th>cik</th>\n",
       "      <th>txt_link</th>\n",
       "      <th>doc_name</th>\n",
       "      <th>GICS Sector</th>\n",
       "      <th>GICS Sub Industry</th>\n",
       "    </tr>\n",
       "  </thead>\n",
       "  <tbody>\n",
       "    <tr>\n",
       "      <th>0</th>\n",
       "      <td>A</td>\n",
       "      <td>1090872.0</td>\n",
       "      <td>https://www.sec.gov/Archives/edgar/data/109087...</td>\n",
       "      <td>0001564590-19-009011.txt</td>\n",
       "      <td>Health Care</td>\n",
       "      <td>Health Care</td>\n",
       "    </tr>\n",
       "    <tr>\n",
       "      <th>1</th>\n",
       "      <td>A</td>\n",
       "      <td>1090872.0</td>\n",
       "      <td>https://www.sec.gov/Archives/edgar/data/109087...</td>\n",
       "      <td>0001193805-19-000279.txt</td>\n",
       "      <td>Health Care</td>\n",
       "      <td>Health Care</td>\n",
       "    </tr>\n",
       "    <tr>\n",
       "      <th>2</th>\n",
       "      <td>A</td>\n",
       "      <td>1090872.0</td>\n",
       "      <td>https://www.sec.gov/Archives/edgar/data/109087...</td>\n",
       "      <td>0001090872-19-000004.txt</td>\n",
       "      <td>Health Care</td>\n",
       "      <td>Health Care</td>\n",
       "    </tr>\n",
       "    <tr>\n",
       "      <th>3</th>\n",
       "      <td>A</td>\n",
       "      <td>1090872.0</td>\n",
       "      <td>https://www.sec.gov/Archives/edgar/data/109087...</td>\n",
       "      <td>0001090872-19-000002.txt</td>\n",
       "      <td>Health Care</td>\n",
       "      <td>Health Care</td>\n",
       "    </tr>\n",
       "    <tr>\n",
       "      <th>4</th>\n",
       "      <td>A</td>\n",
       "      <td>1090872.0</td>\n",
       "      <td>https://www.sec.gov/Archives/edgar/data/109087...</td>\n",
       "      <td>0001564590-19-000714.txt</td>\n",
       "      <td>Health Care</td>\n",
       "      <td>Health Care</td>\n",
       "    </tr>\n",
       "  </tbody>\n",
       "</table>\n",
       "</div>"
      ],
      "text/plain": [
       "  ticker        cik                                           txt_link  \\\n",
       "0      A  1090872.0  https://www.sec.gov/Archives/edgar/data/109087...   \n",
       "1      A  1090872.0  https://www.sec.gov/Archives/edgar/data/109087...   \n",
       "2      A  1090872.0  https://www.sec.gov/Archives/edgar/data/109087...   \n",
       "3      A  1090872.0  https://www.sec.gov/Archives/edgar/data/109087...   \n",
       "4      A  1090872.0  https://www.sec.gov/Archives/edgar/data/109087...   \n",
       "\n",
       "                   doc_name  GICS Sector GICS Sub Industry  \n",
       "0  0001564590-19-009011.txt  Health Care       Health Care  \n",
       "1  0001193805-19-000279.txt  Health Care       Health Care  \n",
       "2  0001090872-19-000004.txt  Health Care       Health Care  \n",
       "3  0001090872-19-000002.txt  Health Care       Health Care  \n",
       "4  0001564590-19-000714.txt  Health Care       Health Care  "
      ]
     },
     "execution_count": 11,
     "metadata": {},
     "output_type": "execute_result"
    }
   ],
   "source": [
    "all_links.head()"
   ]
  },
  {
   "cell_type": "code",
   "execution_count": 12,
   "metadata": {},
   "outputs": [],
   "source": [
    "all_links = all_links.set_index('ticker')"
   ]
  },
  {
   "cell_type": "code",
   "execution_count": 13,
   "metadata": {},
   "outputs": [
    {
     "data": {
      "text/plain": [
       "Index(['A', 'A', 'A', 'A', 'A', 'A', 'A', 'A', 'A', 'A',\n",
       "       ...\n",
       "       'ZTS', 'ZTS', 'ZTS', 'ZTS', 'ZTS', 'ZTS', 'ZTS', 'ZTS', 'ZTS', 'ZTS'],\n",
       "      dtype='object', name='ticker', length=19876)"
      ]
     },
     "execution_count": 13,
     "metadata": {},
     "output_type": "execute_result"
    }
   ],
   "source": [
    "all_links.index"
   ]
  },
  {
   "cell_type": "code",
   "execution_count": 17,
   "metadata": {},
   "outputs": [],
   "source": [
    "top100_links =[]#得到前100的股票数据\n",
    "for ticker in top100['ticker']:\n",
    "    top100_links.append(all_links.xs(ticker))"
   ]
  },
  {
   "cell_type": "code",
   "execution_count": 19,
   "metadata": {},
   "outputs": [
    {
     "data": {
      "text/html": [
       "<div>\n",
       "<style scoped>\n",
       "    .dataframe tbody tr th:only-of-type {\n",
       "        vertical-align: middle;\n",
       "    }\n",
       "\n",
       "    .dataframe tbody tr th {\n",
       "        vertical-align: top;\n",
       "    }\n",
       "\n",
       "    .dataframe thead th {\n",
       "        text-align: right;\n",
       "    }\n",
       "</style>\n",
       "<table border=\"1\" class=\"dataframe\">\n",
       "  <thead>\n",
       "    <tr style=\"text-align: right;\">\n",
       "      <th></th>\n",
       "      <th>cik</th>\n",
       "      <th>txt_link</th>\n",
       "      <th>doc_name</th>\n",
       "      <th>GICS Sector</th>\n",
       "      <th>GICS Sub Industry</th>\n",
       "    </tr>\n",
       "    <tr>\n",
       "      <th>ticker</th>\n",
       "      <th></th>\n",
       "      <th></th>\n",
       "      <th></th>\n",
       "      <th></th>\n",
       "      <th></th>\n",
       "    </tr>\n",
       "  </thead>\n",
       "  <tbody>\n",
       "    <tr>\n",
       "      <th>MSFT</th>\n",
       "      <td>789019.0</td>\n",
       "      <td>https://www.sec.gov/Archives/edgar/data/789019...</td>\n",
       "      <td>0001193125-19-022553.txt</td>\n",
       "      <td>Information Technology</td>\n",
       "      <td>Information Technology</td>\n",
       "    </tr>\n",
       "    <tr>\n",
       "      <th>MSFT</th>\n",
       "      <td>789019.0</td>\n",
       "      <td>https://www.sec.gov/Archives/edgar/data/789019...</td>\n",
       "      <td>0001193125-18-337951.txt</td>\n",
       "      <td>Information Technology</td>\n",
       "      <td>Information Technology</td>\n",
       "    </tr>\n",
       "    <tr>\n",
       "      <th>MSFT</th>\n",
       "      <td>789019.0</td>\n",
       "      <td>https://www.sec.gov/Archives/edgar/data/789019...</td>\n",
       "      <td>0001193125-18-306365.txt</td>\n",
       "      <td>Information Technology</td>\n",
       "      <td>Information Technology</td>\n",
       "    </tr>\n",
       "    <tr>\n",
       "      <th>MSFT</th>\n",
       "      <td>789019.0</td>\n",
       "      <td>https://www.sec.gov/Archives/edgar/data/789019...</td>\n",
       "      <td>0001193125-18-277602.txt</td>\n",
       "      <td>Information Technology</td>\n",
       "      <td>Information Technology</td>\n",
       "    </tr>\n",
       "    <tr>\n",
       "      <th>MSFT</th>\n",
       "      <td>789019.0</td>\n",
       "      <td>https://www.sec.gov/Archives/edgar/data/789019...</td>\n",
       "      <td>0001193125-18-221458.txt</td>\n",
       "      <td>Information Technology</td>\n",
       "      <td>Information Technology</td>\n",
       "    </tr>\n",
       "  </tbody>\n",
       "</table>\n",
       "</div>"
      ],
      "text/plain": [
       "             cik                                           txt_link  \\\n",
       "ticker                                                                \n",
       "MSFT    789019.0  https://www.sec.gov/Archives/edgar/data/789019...   \n",
       "MSFT    789019.0  https://www.sec.gov/Archives/edgar/data/789019...   \n",
       "MSFT    789019.0  https://www.sec.gov/Archives/edgar/data/789019...   \n",
       "MSFT    789019.0  https://www.sec.gov/Archives/edgar/data/789019...   \n",
       "MSFT    789019.0  https://www.sec.gov/Archives/edgar/data/789019...   \n",
       "\n",
       "                        doc_name             GICS Sector  \\\n",
       "ticker                                                     \n",
       "MSFT    0001193125-19-022553.txt  Information Technology   \n",
       "MSFT    0001193125-18-337951.txt  Information Technology   \n",
       "MSFT    0001193125-18-306365.txt  Information Technology   \n",
       "MSFT    0001193125-18-277602.txt  Information Technology   \n",
       "MSFT    0001193125-18-221458.txt  Information Technology   \n",
       "\n",
       "             GICS Sub Industry  \n",
       "ticker                          \n",
       "MSFT    Information Technology  \n",
       "MSFT    Information Technology  \n",
       "MSFT    Information Technology  \n",
       "MSFT    Information Technology  \n",
       "MSFT    Information Technology  "
      ]
     },
     "execution_count": 19,
     "metadata": {},
     "output_type": "execute_result"
    }
   ],
   "source": [
    "df = pd.concat(top100_links)\n",
    "df.head()"
   ]
  },
  {
   "cell_type": "code",
   "execution_count": 20,
   "metadata": {},
   "outputs": [
    {
     "data": {
      "text/plain": [
       "3924"
      ]
     },
     "execution_count": 20,
     "metadata": {},
     "output_type": "execute_result"
    }
   ],
   "source": [
    "len(df)"
   ]
  },
  {
   "cell_type": "code",
   "execution_count": 23,
   "metadata": {},
   "outputs": [],
   "source": [
    "df.to_csv('top100_links.csv')"
   ]
  },
  {
   "cell_type": "markdown",
   "metadata": {},
   "source": [
    "#### 定义一系列函数从链接中爬取文本信息——文本，发布日，项目"
   ]
  },
  {
   "cell_type": "markdown",
   "metadata": {},
   "source": [
    "定义函数：从文本链接中得到文本内容和发布日期"
   ]
  },
  {
   "cell_type": "code",
   "execution_count": 2,
   "metadata": {},
   "outputs": [],
   "source": [
    "    def extract_text(link):\n",
    "        try:\n",
    "            r = requests.get(link,timeout=(5,5)) #获取网页,#加上超时参数，对付不响应\n",
    "            #Parse 8-K document，用beautifulsoup解析\n",
    "            filing = BeautifulSoup(r.content,\"html5lib\",from_encoding=\"ascii\")\n",
    "            #Extract datetime\n",
    "            try:\n",
    "                submission_dt = filing.find(\"acceptance-datetime\").string[:14] #获取年月日时分秒\n",
    "            except AttributeError:\n",
    "                    # Flag docs with missing data as May 1 2019 10AM\n",
    "                submission_dt = \"20190501100000\"\n",
    "            #转换时间格式，原来就是一串数字，转换后可以识别年月日时分秒\n",
    "            submission_dt = datetime.datetime.strptime(submission_dt,\"%Y%m%d%H%M%S\")\n",
    "            #Extract HTML sections,去除表格，得到简单的文件形式\n",
    "            for section in filing.findAll(\"html\"):\n",
    "                try:\n",
    "                    #Remove tables\n",
    "                    for table in section(\"table\"):\n",
    "                        table.decompose()\n",
    "                    #Convert to unicode\n",
    "                    section = unicodedata.normalize(\"NFKD\",section.text)\n",
    "                    section = section.replace(\"\\t\",\" \").replace(\"\\n\",\" \").replace(\"/s\",\" \").replace(\"\\'\",\"'\")            \n",
    "                except AttributeError:\n",
    "                    section = str(section.encode('utf-8'))\n",
    "            filing = \"\".join((section))\n",
    "        except requests.exceptions.ConnectionError:\n",
    "                sleep(10)\n",
    "        sleep(.1)\n",
    "\n",
    "        return filing, submission_dt\n"
   ]
  },
  {
   "cell_type": "markdown",
   "metadata": {},
   "source": [
    "定义函数：从文本中抓取项目"
   ]
  },
  {
   "cell_type": "code",
   "execution_count": 3,
   "metadata": {},
   "outputs": [],
   "source": [
    "    def extract_item_no(document):\n",
    "        pattern = re.compile(\"Item+ +\\d+[\\:,\\.]+\\d+\\d\")#生成一个正则pattern方便多次使用\n",
    "        item_list = re.findall(pattern,document)\n",
    "        return item_list"
   ]
  },
  {
   "cell_type": "markdown",
   "metadata": {},
   "source": [
    "定义函数：从文本中得到文件名"
   ]
  },
  {
   "cell_type": "code",
   "execution_count": 4,
   "metadata": {},
   "outputs": [],
   "source": [
    "def get_doc_name(document):\n",
    "    return document[:24]"
   ]
  },
  {
   "cell_type": "markdown",
   "metadata": {},
   "source": [
    "#### 开始抓取文本"
   ]
  },
  {
   "cell_type": "markdown",
   "metadata": {},
   "source": [
    "为了防止死机，分块抓取：  \n",
    "爬取1-400完成  \n",
    "400-800完成  \n",
    "800-1200完成  \n",
    "1200-1500完成  \n",
    "1500-2000完成  \n",
    "2000-2500完成  \n",
    "2500-  \n",
    "所有数据爬取完成"
   ]
  },
  {
   "cell_type": "code",
   "execution_count": 5,
   "metadata": {},
   "outputs": [],
   "source": [
    "df = pd.read_csv('top100_links.csv')#导入所有链接"
   ]
  },
  {
   "cell_type": "code",
   "execution_count": 46,
   "metadata": {},
   "outputs": [],
   "source": [
    "df3000_4000 = df.iloc[3001:]#取出一部分链接"
   ]
  },
  {
   "cell_type": "code",
   "execution_count": 47,
   "metadata": {},
   "outputs": [
    {
     "data": {
      "text/html": [
       "<div>\n",
       "<style scoped>\n",
       "    .dataframe tbody tr th:only-of-type {\n",
       "        vertical-align: middle;\n",
       "    }\n",
       "\n",
       "    .dataframe tbody tr th {\n",
       "        vertical-align: top;\n",
       "    }\n",
       "\n",
       "    .dataframe thead th {\n",
       "        text-align: right;\n",
       "    }\n",
       "</style>\n",
       "<table border=\"1\" class=\"dataframe\">\n",
       "  <thead>\n",
       "    <tr style=\"text-align: right;\">\n",
       "      <th></th>\n",
       "      <th>ticker</th>\n",
       "      <th>cik</th>\n",
       "      <th>txt_link</th>\n",
       "      <th>doc_name</th>\n",
       "      <th>GICS Sector</th>\n",
       "      <th>GICS Sub Industry</th>\n",
       "    </tr>\n",
       "  </thead>\n",
       "  <tbody>\n",
       "    <tr>\n",
       "      <th>3001</th>\n",
       "      <td>GS</td>\n",
       "      <td>886982.0</td>\n",
       "      <td>https://www.sec.gov/Archives/edgar/data/886982...</td>\n",
       "      <td>0001193125-17-178841.txt</td>\n",
       "      <td>Financials</td>\n",
       "      <td>Financials</td>\n",
       "    </tr>\n",
       "    <tr>\n",
       "      <th>3002</th>\n",
       "      <td>GS</td>\n",
       "      <td>886982.0</td>\n",
       "      <td>https://www.sec.gov/Archives/edgar/data/886982...</td>\n",
       "      <td>0001193125-17-148346.txt</td>\n",
       "      <td>Financials</td>\n",
       "      <td>Financials</td>\n",
       "    </tr>\n",
       "    <tr>\n",
       "      <th>3003</th>\n",
       "      <td>GS</td>\n",
       "      <td>886982.0</td>\n",
       "      <td>https://www.sec.gov/Archives/edgar/data/886982...</td>\n",
       "      <td>0001193125-17-139624.txt</td>\n",
       "      <td>Financials</td>\n",
       "      <td>Financials</td>\n",
       "    </tr>\n",
       "    <tr>\n",
       "      <th>3004</th>\n",
       "      <td>BMY</td>\n",
       "      <td>14272.0</td>\n",
       "      <td>https://www.sec.gov/Archives/edgar/data/14272/...</td>\n",
       "      <td>0001140361-19-005591.txt</td>\n",
       "      <td>Health Care</td>\n",
       "      <td>Health Care</td>\n",
       "    </tr>\n",
       "    <tr>\n",
       "      <th>3005</th>\n",
       "      <td>BMY</td>\n",
       "      <td>14272.0</td>\n",
       "      <td>https://www.sec.gov/Archives/edgar/data/14272/...</td>\n",
       "      <td>0001140361-19-004566.txt</td>\n",
       "      <td>Health Care</td>\n",
       "      <td>Health Care</td>\n",
       "    </tr>\n",
       "  </tbody>\n",
       "</table>\n",
       "</div>"
      ],
      "text/plain": [
       "     ticker       cik                                           txt_link  \\\n",
       "3001     GS  886982.0  https://www.sec.gov/Archives/edgar/data/886982...   \n",
       "3002     GS  886982.0  https://www.sec.gov/Archives/edgar/data/886982...   \n",
       "3003     GS  886982.0  https://www.sec.gov/Archives/edgar/data/886982...   \n",
       "3004    BMY   14272.0  https://www.sec.gov/Archives/edgar/data/14272/...   \n",
       "3005    BMY   14272.0  https://www.sec.gov/Archives/edgar/data/14272/...   \n",
       "\n",
       "                      doc_name  GICS Sector GICS Sub Industry  \n",
       "3001  0001193125-17-178841.txt   Financials        Financials  \n",
       "3002  0001193125-17-148346.txt   Financials        Financials  \n",
       "3003  0001193125-17-139624.txt   Financials        Financials  \n",
       "3004  0001140361-19-005591.txt  Health Care       Health Care  \n",
       "3005  0001140361-19-004566.txt  Health Care       Health Care  "
      ]
     },
     "execution_count": 47,
     "metadata": {},
     "output_type": "execute_result"
    }
   ],
   "source": [
    "df3000_4000.head()"
   ]
  },
  {
   "cell_type": "code",
   "execution_count": 48,
   "metadata": {},
   "outputs": [
    {
     "name": "stderr",
     "output_type": "stream",
     "text": [
      "  1%|▌                                                                               | 7/923 [00:22<1:08:11,  4.47s/it]"
     ]
    },
    {
     "name": "stdout",
     "output_type": "stream",
     "text": [
      "https://www.sec.gov/Archives/edgar/data/14272/000114036119001470/0001140361-19-001470.txt failed\n"
     ]
    },
    {
     "name": "stderr",
     "output_type": "stream",
     "text": [
      " 54%|██████████████████████████████████████████▉                                     | 496/923 [42:54<51:34,  7.25s/it]"
     ]
    },
    {
     "name": "stdout",
     "output_type": "stream",
     "text": [
      "https://www.sec.gov/Archives/edgar/data/713676/000071367618000059/0000713676-18-000059.txt failed\n"
     ]
    },
    {
     "name": "stderr",
     "output_type": "stream",
     "text": [
      " 55%|███████████████████████████████████████████▎                                  | 512/923 [50:11<4:15:15, 37.26s/it]"
     ]
    },
    {
     "name": "stdout",
     "output_type": "stream",
     "text": [
      "https://www.sec.gov/Archives/edgar/data/713676/000119312517283876/0001193125-17-283876.txt failed\n"
     ]
    },
    {
     "name": "stderr",
     "output_type": "stream",
     "text": [
      " 56%|███████████████████████████████████████████▍                                  | 514/923 [51:15<3:35:49, 31.66s/it]"
     ]
    },
    {
     "name": "stdout",
     "output_type": "stream",
     "text": [
      "https://www.sec.gov/Archives/edgar/data/713676/000119312517228257/0001193125-17-228257.txt failed\n"
     ]
    },
    {
     "name": "stderr",
     "output_type": "stream",
     "text": [
      " 56%|███████████████████████████████████████████▊                                  | 518/923 [51:30<1:04:26,  9.55s/it]"
     ]
    },
    {
     "name": "stdout",
     "output_type": "stream",
     "text": [
      "https://www.sec.gov/Archives/edgar/data/713676/000119312517155982/0001193125-17-155982.txt failed\n"
     ]
    },
    {
     "name": "stderr",
     "output_type": "stream",
     "text": [
      " 56%|███████████████████████████████████████████▉                                  | 520/923 [52:07<1:23:50, 12.48s/it]"
     ]
    },
    {
     "name": "stdout",
     "output_type": "stream",
     "text": [
      "https://www.sec.gov/Archives/edgar/data/713676/000119312517136399/0001193125-17-136399.txt failed\n"
     ]
    },
    {
     "name": "stderr",
     "output_type": "stream",
     "text": [
      "\r",
      " 56%|████████████████████████████████████████████                                  | 521/923 [52:21<1:26:05, 12.85s/it]"
     ]
    },
    {
     "name": "stdout",
     "output_type": "stream",
     "text": [
      "https://www.sec.gov/Archives/edgar/data/713676/000119312517122738/0001193125-17-122738.txt failed\n"
     ]
    },
    {
     "name": "stderr",
     "output_type": "stream",
     "text": [
      "\r",
      " 57%|████████████████████████████████████████████                                  | 522/923 [52:44<1:46:19, 15.91s/it]"
     ]
    },
    {
     "name": "stdout",
     "output_type": "stream",
     "text": [
      "https://www.sec.gov/Archives/edgar/data/713676/000119312517122062/0001193125-17-122062.txt failed\n"
     ]
    },
    {
     "name": "stderr",
     "output_type": "stream",
     "text": [
      " 71%|███████████████████████████████████████████████████████                       | 652/923 [1:03:59<11:34,  2.56s/it]"
     ]
    },
    {
     "name": "stdout",
     "output_type": "stream",
     "text": [
      "https://www.sec.gov/Archives/edgar/data/885725/000110465918069709/0001104659-18-069709.txt failed\n"
     ]
    },
    {
     "name": "stderr",
     "output_type": "stream",
     "text": [
      " 78%|████████████████████████████████████████████████████████████▊                 | 719/923 [1:34:34<31:05,  9.14s/it]"
     ]
    },
    {
     "name": "stdout",
     "output_type": "stream",
     "text": [
      "https://www.sec.gov/Archives/edgar/data/92122/000009212217000040/0000092122-17-000040.txt failed\n"
     ]
    },
    {
     "name": "stderr",
     "output_type": "stream",
     "text": [
      " 83%|███████████████████████████████████████████████████████████████▎            | 769/923 [1:45:51<1:22:11, 32.03s/it]"
     ]
    },
    {
     "name": "stdout",
     "output_type": "stream",
     "text": [
      "https://www.sec.gov/Archives/edgar/data/1364742/000156459018008028/0001564590-18-008028.txt failed\n"
     ]
    },
    {
     "name": "stderr",
     "output_type": "stream",
     "text": [
      " 84%|███████████████████████████████████████████████████████████████▉            | 776/923 [1:49:04<1:19:12, 32.33s/it]"
     ]
    },
    {
     "name": "stdout",
     "output_type": "stream",
     "text": [
      "https://www.sec.gov/Archives/edgar/data/1364742/000095012317006151/0000950123-17-006151.txt failed\n"
     ]
    },
    {
     "name": "stderr",
     "output_type": "stream",
     "text": [
      "100%|██████████████████████████████████████████████████████████████████████████████| 923/923 [2:00:06<00:00,  2.84s/it]\n"
     ]
    },
    {
     "data": {
      "text/plain": [
       "40523"
      ]
     },
     "execution_count": 48,
     "metadata": {},
     "output_type": "execute_result"
    }
   ],
   "source": [
    "txt_date = []#进行抓取，如果网页解析失败则放弃该文件print failed\n",
    "for link in tqdm(df3000_4000['txt_link']):\n",
    "    try:\n",
    "        txt_date.append(extract_text(link))\n",
    "    except:\n",
    "        print(link,'failed')       \n",
    "gc.collect()        "
   ]
  },
  {
   "cell_type": "code",
   "execution_count": 49,
   "metadata": {},
   "outputs": [],
   "source": [
    "txt_date = DataFrame(txt_date)#先转化为df"
   ]
  },
  {
   "cell_type": "code",
   "execution_count": 50,
   "metadata": {
    "scrolled": true
   },
   "outputs": [],
   "source": [
    "txt_date = txt_date.rename(columns={0:'text',1:'release_date'})#将两列数据命名"
   ]
  },
  {
   "cell_type": "code",
   "execution_count": 51,
   "metadata": {},
   "outputs": [
    {
     "data": {
      "text/html": [
       "<div>\n",
       "<style scoped>\n",
       "    .dataframe tbody tr th:only-of-type {\n",
       "        vertical-align: middle;\n",
       "    }\n",
       "\n",
       "    .dataframe tbody tr th {\n",
       "        vertical-align: top;\n",
       "    }\n",
       "\n",
       "    .dataframe thead th {\n",
       "        text-align: right;\n",
       "    }\n",
       "</style>\n",
       "<table border=\"1\" class=\"dataframe\">\n",
       "  <thead>\n",
       "    <tr style=\"text-align: right;\">\n",
       "      <th></th>\n",
       "      <th>text</th>\n",
       "      <th>release_date</th>\n",
       "    </tr>\n",
       "  </thead>\n",
       "  <tbody>\n",
       "    <tr>\n",
       "      <th>0</th>\n",
       "      <td>0001193125-17-178841.txt : 20170523 0001193125...</td>\n",
       "      <td>2017-05-23 08:06:03</td>\n",
       "    </tr>\n",
       "    <tr>\n",
       "      <th>1</th>\n",
       "      <td>0001193125-17-148346.txt : 20170428 0001193125...</td>\n",
       "      <td>2017-04-28 16:31:59</td>\n",
       "    </tr>\n",
       "    <tr>\n",
       "      <th>2</th>\n",
       "      <td>0001193125-17-139624.txt : 20170426 0001193125...</td>\n",
       "      <td>2017-04-26 16:40:02</td>\n",
       "    </tr>\n",
       "    <tr>\n",
       "      <th>3</th>\n",
       "      <td>0001140361-19-005591.txt : 20190326 0001140361...</td>\n",
       "      <td>2019-03-26 07:05:07</td>\n",
       "    </tr>\n",
       "    <tr>\n",
       "      <th>4</th>\n",
       "      <td>0001140361-19-004566.txt : 20190308 0001140361...</td>\n",
       "      <td>2019-03-08 07:05:56</td>\n",
       "    </tr>\n",
       "  </tbody>\n",
       "</table>\n",
       "</div>"
      ],
      "text/plain": [
       "                                                text        release_date\n",
       "0  0001193125-17-178841.txt : 20170523 0001193125... 2017-05-23 08:06:03\n",
       "1  0001193125-17-148346.txt : 20170428 0001193125... 2017-04-28 16:31:59\n",
       "2  0001193125-17-139624.txt : 20170426 0001193125... 2017-04-26 16:40:02\n",
       "3  0001140361-19-005591.txt : 20190326 0001140361... 2019-03-26 07:05:07\n",
       "4  0001140361-19-004566.txt : 20190308 0001140361... 2019-03-08 07:05:56"
      ]
     },
     "execution_count": 51,
     "metadata": {},
     "output_type": "execute_result"
    }
   ],
   "source": [
    "txt_date.head()"
   ]
  },
  {
   "cell_type": "code",
   "execution_count": 52,
   "metadata": {},
   "outputs": [
    {
     "data": {
      "text/plain": [
       "911"
      ]
     },
     "execution_count": 52,
     "metadata": {},
     "output_type": "execute_result"
    }
   ],
   "source": [
    "len(txt_date) #检查本次提取了多少个文件"
   ]
  },
  {
   "cell_type": "markdown",
   "metadata": {},
   "source": [
    "提取文件名"
   ]
  },
  {
   "cell_type": "code",
   "execution_count": 53,
   "metadata": {},
   "outputs": [],
   "source": [
    "txt_date['doc_name'] = txt_date['text'].apply(get_doc_name) #增加一列文件名方便合并"
   ]
  },
  {
   "cell_type": "markdown",
   "metadata": {},
   "source": [
    "提取文件项目"
   ]
  },
  {
   "cell_type": "code",
   "execution_count": 54,
   "metadata": {},
   "outputs": [],
   "source": [
    "txt_date['items'] = txt_date['text'].map(extract_item_no) #提取items"
   ]
  },
  {
   "cell_type": "code",
   "execution_count": 55,
   "metadata": {},
   "outputs": [
    {
     "data": {
      "text/html": [
       "<div>\n",
       "<style scoped>\n",
       "    .dataframe tbody tr th:only-of-type {\n",
       "        vertical-align: middle;\n",
       "    }\n",
       "\n",
       "    .dataframe tbody tr th {\n",
       "        vertical-align: top;\n",
       "    }\n",
       "\n",
       "    .dataframe thead th {\n",
       "        text-align: right;\n",
       "    }\n",
       "</style>\n",
       "<table border=\"1\" class=\"dataframe\">\n",
       "  <thead>\n",
       "    <tr style=\"text-align: right;\">\n",
       "      <th></th>\n",
       "      <th>text</th>\n",
       "      <th>release_date</th>\n",
       "      <th>doc_name</th>\n",
       "      <th>items</th>\n",
       "    </tr>\n",
       "  </thead>\n",
       "  <tbody>\n",
       "    <tr>\n",
       "      <th>0</th>\n",
       "      <td>0001193125-17-178841.txt : 20170523 0001193125...</td>\n",
       "      <td>2017-05-23 08:06:03</td>\n",
       "      <td>0001193125-17-178841.txt</td>\n",
       "      <td>[Item 8.01]</td>\n",
       "    </tr>\n",
       "    <tr>\n",
       "      <th>1</th>\n",
       "      <td>0001193125-17-148346.txt : 20170428 0001193125...</td>\n",
       "      <td>2017-04-28 16:31:59</td>\n",
       "      <td>0001193125-17-148346.txt</td>\n",
       "      <td>[Item  5.07]</td>\n",
       "    </tr>\n",
       "    <tr>\n",
       "      <th>2</th>\n",
       "      <td>0001193125-17-139624.txt : 20170426 0001193125...</td>\n",
       "      <td>2017-04-26 16:40:02</td>\n",
       "      <td>0001193125-17-139624.txt</td>\n",
       "      <td>[]</td>\n",
       "    </tr>\n",
       "    <tr>\n",
       "      <th>3</th>\n",
       "      <td>0001140361-19-005591.txt : 20190326 0001140361...</td>\n",
       "      <td>2019-03-26 07:05:07</td>\n",
       "      <td>0001140361-19-005591.txt</td>\n",
       "      <td>[]</td>\n",
       "    </tr>\n",
       "    <tr>\n",
       "      <th>4</th>\n",
       "      <td>0001140361-19-004566.txt : 20190308 0001140361...</td>\n",
       "      <td>2019-03-08 07:05:56</td>\n",
       "      <td>0001140361-19-004566.txt</td>\n",
       "      <td>[Item 9.01]</td>\n",
       "    </tr>\n",
       "  </tbody>\n",
       "</table>\n",
       "</div>"
      ],
      "text/plain": [
       "                                                text        release_date  \\\n",
       "0  0001193125-17-178841.txt : 20170523 0001193125... 2017-05-23 08:06:03   \n",
       "1  0001193125-17-148346.txt : 20170428 0001193125... 2017-04-28 16:31:59   \n",
       "2  0001193125-17-139624.txt : 20170426 0001193125... 2017-04-26 16:40:02   \n",
       "3  0001140361-19-005591.txt : 20190326 0001140361... 2019-03-26 07:05:07   \n",
       "4  0001140361-19-004566.txt : 20190308 0001140361... 2019-03-08 07:05:56   \n",
       "\n",
       "                   doc_name         items  \n",
       "0  0001193125-17-178841.txt   [Item 8.01]  \n",
       "1  0001193125-17-148346.txt  [Item  5.07]  \n",
       "2  0001193125-17-139624.txt            []  \n",
       "3  0001140361-19-005591.txt            []  \n",
       "4  0001140361-19-004566.txt   [Item 9.01]  "
      ]
     },
     "execution_count": 55,
     "metadata": {},
     "output_type": "execute_result"
    }
   ],
   "source": [
    "txt_date.head() #检查两个新变量"
   ]
  },
  {
   "cell_type": "markdown",
   "metadata": {},
   "source": [
    "将文件数据和原数据合并"
   ]
  },
  {
   "cell_type": "code",
   "execution_count": 56,
   "metadata": {},
   "outputs": [],
   "source": [
    "df3000_4000 = pd.merge(txt_date,df3000_4000) #合并"
   ]
  },
  {
   "cell_type": "code",
   "execution_count": 57,
   "metadata": {
    "scrolled": true
   },
   "outputs": [
    {
     "data": {
      "text/html": [
       "<div>\n",
       "<style scoped>\n",
       "    .dataframe tbody tr th:only-of-type {\n",
       "        vertical-align: middle;\n",
       "    }\n",
       "\n",
       "    .dataframe tbody tr th {\n",
       "        vertical-align: top;\n",
       "    }\n",
       "\n",
       "    .dataframe thead th {\n",
       "        text-align: right;\n",
       "    }\n",
       "</style>\n",
       "<table border=\"1\" class=\"dataframe\">\n",
       "  <thead>\n",
       "    <tr style=\"text-align: right;\">\n",
       "      <th></th>\n",
       "      <th>text</th>\n",
       "      <th>release_date</th>\n",
       "      <th>doc_name</th>\n",
       "      <th>items</th>\n",
       "      <th>ticker</th>\n",
       "      <th>cik</th>\n",
       "      <th>txt_link</th>\n",
       "      <th>GICS Sector</th>\n",
       "      <th>GICS Sub Industry</th>\n",
       "    </tr>\n",
       "  </thead>\n",
       "  <tbody>\n",
       "    <tr>\n",
       "      <th>0</th>\n",
       "      <td>0001193125-17-178841.txt : 20170523 0001193125...</td>\n",
       "      <td>2017-05-23 08:06:03</td>\n",
       "      <td>0001193125-17-178841.txt</td>\n",
       "      <td>[Item 8.01]</td>\n",
       "      <td>GS</td>\n",
       "      <td>886982.0</td>\n",
       "      <td>https://www.sec.gov/Archives/edgar/data/886982...</td>\n",
       "      <td>Financials</td>\n",
       "      <td>Financials</td>\n",
       "    </tr>\n",
       "    <tr>\n",
       "      <th>1</th>\n",
       "      <td>0001193125-17-148346.txt : 20170428 0001193125...</td>\n",
       "      <td>2017-04-28 16:31:59</td>\n",
       "      <td>0001193125-17-148346.txt</td>\n",
       "      <td>[Item  5.07]</td>\n",
       "      <td>GS</td>\n",
       "      <td>886982.0</td>\n",
       "      <td>https://www.sec.gov/Archives/edgar/data/886982...</td>\n",
       "      <td>Financials</td>\n",
       "      <td>Financials</td>\n",
       "    </tr>\n",
       "    <tr>\n",
       "      <th>2</th>\n",
       "      <td>0001193125-17-139624.txt : 20170426 0001193125...</td>\n",
       "      <td>2017-04-26 16:40:02</td>\n",
       "      <td>0001193125-17-139624.txt</td>\n",
       "      <td>[]</td>\n",
       "      <td>GS</td>\n",
       "      <td>886982.0</td>\n",
       "      <td>https://www.sec.gov/Archives/edgar/data/886982...</td>\n",
       "      <td>Financials</td>\n",
       "      <td>Financials</td>\n",
       "    </tr>\n",
       "    <tr>\n",
       "      <th>3</th>\n",
       "      <td>0001140361-19-005591.txt : 20190326 0001140361...</td>\n",
       "      <td>2019-03-26 07:05:07</td>\n",
       "      <td>0001140361-19-005591.txt</td>\n",
       "      <td>[]</td>\n",
       "      <td>BMY</td>\n",
       "      <td>14272.0</td>\n",
       "      <td>https://www.sec.gov/Archives/edgar/data/14272/...</td>\n",
       "      <td>Health Care</td>\n",
       "      <td>Health Care</td>\n",
       "    </tr>\n",
       "    <tr>\n",
       "      <th>4</th>\n",
       "      <td>0001140361-19-004566.txt : 20190308 0001140361...</td>\n",
       "      <td>2019-03-08 07:05:56</td>\n",
       "      <td>0001140361-19-004566.txt</td>\n",
       "      <td>[Item 9.01]</td>\n",
       "      <td>BMY</td>\n",
       "      <td>14272.0</td>\n",
       "      <td>https://www.sec.gov/Archives/edgar/data/14272/...</td>\n",
       "      <td>Health Care</td>\n",
       "      <td>Health Care</td>\n",
       "    </tr>\n",
       "  </tbody>\n",
       "</table>\n",
       "</div>"
      ],
      "text/plain": [
       "                                                text        release_date  \\\n",
       "0  0001193125-17-178841.txt : 20170523 0001193125... 2017-05-23 08:06:03   \n",
       "1  0001193125-17-148346.txt : 20170428 0001193125... 2017-04-28 16:31:59   \n",
       "2  0001193125-17-139624.txt : 20170426 0001193125... 2017-04-26 16:40:02   \n",
       "3  0001140361-19-005591.txt : 20190326 0001140361... 2019-03-26 07:05:07   \n",
       "4  0001140361-19-004566.txt : 20190308 0001140361... 2019-03-08 07:05:56   \n",
       "\n",
       "                   doc_name         items ticker       cik  \\\n",
       "0  0001193125-17-178841.txt   [Item 8.01]     GS  886982.0   \n",
       "1  0001193125-17-148346.txt  [Item  5.07]     GS  886982.0   \n",
       "2  0001193125-17-139624.txt            []     GS  886982.0   \n",
       "3  0001140361-19-005591.txt            []    BMY   14272.0   \n",
       "4  0001140361-19-004566.txt   [Item 9.01]    BMY   14272.0   \n",
       "\n",
       "                                            txt_link  GICS Sector  \\\n",
       "0  https://www.sec.gov/Archives/edgar/data/886982...   Financials   \n",
       "1  https://www.sec.gov/Archives/edgar/data/886982...   Financials   \n",
       "2  https://www.sec.gov/Archives/edgar/data/886982...   Financials   \n",
       "3  https://www.sec.gov/Archives/edgar/data/14272/...  Health Care   \n",
       "4  https://www.sec.gov/Archives/edgar/data/14272/...  Health Care   \n",
       "\n",
       "  GICS Sub Industry  \n",
       "0        Financials  \n",
       "1        Financials  \n",
       "2        Financials  \n",
       "3       Health Care  \n",
       "4       Health Care  "
      ]
     },
     "execution_count": 57,
     "metadata": {},
     "output_type": "execute_result"
    }
   ],
   "source": [
    "df3000_4000.head()"
   ]
  },
  {
   "cell_type": "code",
   "execution_count": 58,
   "metadata": {},
   "outputs": [],
   "source": [
    "df3000_4000.to_csv('Data\\df3000_4000.csv') #保存"
   ]
  },
  {
   "cell_type": "markdown",
   "metadata": {},
   "source": [
    "#### 将所有分次爬取的数据合并成一个表格"
   ]
  },
  {
   "cell_type": "code",
   "execution_count": 60,
   "metadata": {},
   "outputs": [],
   "source": [
    "df1 = pd.read_csv('Data\\df1_400.csv')\n",
    "df2 = pd.read_csv('Data\\df400_799.csv')\n",
    "df3 = pd.read_csv('Data\\df800_1200.csv')\n",
    "df4 = pd.read_csv('Data\\df1200_1500.csv')\n",
    "df5 = pd.read_csv('Data\\df1500_2000.csv')\n",
    "df6 = pd.read_csv('Data\\df2000_2500.csv')\n",
    "df7 = pd.read_csv('Data\\df2500_3000.csv')\n",
    "df8 = pd.read_csv('Data\\df3000_4000.csv')"
   ]
  },
  {
   "cell_type": "code",
   "execution_count": 61,
   "metadata": {},
   "outputs": [
    {
     "name": "stderr",
     "output_type": "stream",
     "text": [
      "C:\\Users\\xueli\\Anaconda3\\lib\\site-packages\\ipykernel_launcher.py:1: FutureWarning: Sorting because non-concatenation axis is not aligned. A future version\n",
      "of pandas will change to not sort by default.\n",
      "\n",
      "To accept the future behavior, pass 'sort=False'.\n",
      "\n",
      "To retain the current behavior and silence the warning, pass 'sort=True'.\n",
      "\n",
      "  \"\"\"Entry point for launching an IPython kernel.\n"
     ]
    }
   ],
   "source": [
    "df = pd.concat([df1,df2,df3,df4,df5,df6,df7,df8],axis=0)"
   ]
  },
  {
   "cell_type": "code",
   "execution_count": 3,
   "metadata": {},
   "outputs": [
    {
     "data": {
      "text/plain": [
       "3845"
      ]
     },
     "execution_count": 3,
     "metadata": {},
     "output_type": "execute_result"
    }
   ],
   "source": [
    "len(df)"
   ]
  },
  {
   "cell_type": "code",
   "execution_count": 4,
   "metadata": {},
   "outputs": [
    {
     "data": {
      "text/html": [
       "<div>\n",
       "<style scoped>\n",
       "    .dataframe tbody tr th:only-of-type {\n",
       "        vertical-align: middle;\n",
       "    }\n",
       "\n",
       "    .dataframe tbody tr th {\n",
       "        vertical-align: top;\n",
       "    }\n",
       "\n",
       "    .dataframe thead th {\n",
       "        text-align: right;\n",
       "    }\n",
       "</style>\n",
       "<table border=\"1\" class=\"dataframe\">\n",
       "  <thead>\n",
       "    <tr style=\"text-align: right;\">\n",
       "      <th></th>\n",
       "      <th>Unnamed: 0</th>\n",
       "      <th>GICS Sector</th>\n",
       "      <th>GICS Sub Industry</th>\n",
       "      <th>cik</th>\n",
       "      <th>doc_name</th>\n",
       "      <th>items</th>\n",
       "      <th>release_date</th>\n",
       "      <th>text</th>\n",
       "      <th>ticker</th>\n",
       "      <th>txt_link</th>\n",
       "    </tr>\n",
       "  </thead>\n",
       "  <tbody>\n",
       "    <tr>\n",
       "      <th>0</th>\n",
       "      <td>0</td>\n",
       "      <td>Information Technology</td>\n",
       "      <td>Information Technology</td>\n",
       "      <td>789019.0</td>\n",
       "      <td>0001193125-19-022553.txt</td>\n",
       "      <td>['Item 2.02', 'Item 9.01']</td>\n",
       "      <td>2019-01-30 16:03:36</td>\n",
       "      <td>0001193125-19-022553.txt : 20190130 0001193125...</td>\n",
       "      <td>MSFT</td>\n",
       "      <td>https://www.sec.gov/Archives/edgar/data/789019...</td>\n",
       "    </tr>\n",
       "    <tr>\n",
       "      <th>1</th>\n",
       "      <td>1</td>\n",
       "      <td>Information Technology</td>\n",
       "      <td>Information Technology</td>\n",
       "      <td>789019.0</td>\n",
       "      <td>0001193125-18-337951.txt</td>\n",
       "      <td>['Item 5.07']</td>\n",
       "      <td>2018-11-29 15:29:57</td>\n",
       "      <td>0001193125-18-337951.txt : 20181129 0001193125...</td>\n",
       "      <td>MSFT</td>\n",
       "      <td>https://www.sec.gov/Archives/edgar/data/789019...</td>\n",
       "    </tr>\n",
       "    <tr>\n",
       "      <th>2</th>\n",
       "      <td>2</td>\n",
       "      <td>Information Technology</td>\n",
       "      <td>Information Technology</td>\n",
       "      <td>789019.0</td>\n",
       "      <td>0001193125-18-306365.txt</td>\n",
       "      <td>['Item 2.02', 'Item 9.01']</td>\n",
       "      <td>2018-10-24 16:03:06</td>\n",
       "      <td>0001193125-18-306365.txt : 20181024 0001193125...</td>\n",
       "      <td>MSFT</td>\n",
       "      <td>https://www.sec.gov/Archives/edgar/data/789019...</td>\n",
       "    </tr>\n",
       "    <tr>\n",
       "      <th>3</th>\n",
       "      <td>3</td>\n",
       "      <td>Information Technology</td>\n",
       "      <td>Information Technology</td>\n",
       "      <td>789019.0</td>\n",
       "      <td>0001193125-18-277602.txt</td>\n",
       "      <td>['Item 5.02', 'Item 9.01']</td>\n",
       "      <td>2018-09-19 16:15:58</td>\n",
       "      <td>0001193125-18-277602.txt : 20180919 0001193125...</td>\n",
       "      <td>MSFT</td>\n",
       "      <td>https://www.sec.gov/Archives/edgar/data/789019...</td>\n",
       "    </tr>\n",
       "    <tr>\n",
       "      <th>4</th>\n",
       "      <td>4</td>\n",
       "      <td>Information Technology</td>\n",
       "      <td>Information Technology</td>\n",
       "      <td>789019.0</td>\n",
       "      <td>0001193125-18-221458.txt</td>\n",
       "      <td>['Item 2.02', 'Item 9.01']</td>\n",
       "      <td>2018-07-19 16:02:35</td>\n",
       "      <td>0001193125-18-221458.txt : 20180719 0001193125...</td>\n",
       "      <td>MSFT</td>\n",
       "      <td>https://www.sec.gov/Archives/edgar/data/789019...</td>\n",
       "    </tr>\n",
       "  </tbody>\n",
       "</table>\n",
       "</div>"
      ],
      "text/plain": [
       "   Unnamed: 0             GICS Sector       GICS Sub Industry       cik  \\\n",
       "0           0  Information Technology  Information Technology  789019.0   \n",
       "1           1  Information Technology  Information Technology  789019.0   \n",
       "2           2  Information Technology  Information Technology  789019.0   \n",
       "3           3  Information Technology  Information Technology  789019.0   \n",
       "4           4  Information Technology  Information Technology  789019.0   \n",
       "\n",
       "                   doc_name                       items         release_date  \\\n",
       "0  0001193125-19-022553.txt  ['Item 2.02', 'Item 9.01']  2019-01-30 16:03:36   \n",
       "1  0001193125-18-337951.txt               ['Item 5.07']  2018-11-29 15:29:57   \n",
       "2  0001193125-18-306365.txt  ['Item 2.02', 'Item 9.01']  2018-10-24 16:03:06   \n",
       "3  0001193125-18-277602.txt  ['Item 5.02', 'Item 9.01']  2018-09-19 16:15:58   \n",
       "4  0001193125-18-221458.txt  ['Item 2.02', 'Item 9.01']  2018-07-19 16:02:35   \n",
       "\n",
       "                                                text ticker  \\\n",
       "0  0001193125-19-022553.txt : 20190130 0001193125...   MSFT   \n",
       "1  0001193125-18-337951.txt : 20181129 0001193125...   MSFT   \n",
       "2  0001193125-18-306365.txt : 20181024 0001193125...   MSFT   \n",
       "3  0001193125-18-277602.txt : 20180919 0001193125...   MSFT   \n",
       "4  0001193125-18-221458.txt : 20180719 0001193125...   MSFT   \n",
       "\n",
       "                                            txt_link  \n",
       "0  https://www.sec.gov/Archives/edgar/data/789019...  \n",
       "1  https://www.sec.gov/Archives/edgar/data/789019...  \n",
       "2  https://www.sec.gov/Archives/edgar/data/789019...  \n",
       "3  https://www.sec.gov/Archives/edgar/data/789019...  \n",
       "4  https://www.sec.gov/Archives/edgar/data/789019...  "
      ]
     },
     "execution_count": 4,
     "metadata": {},
     "output_type": "execute_result"
    }
   ],
   "source": [
    "df.head()"
   ]
  },
  {
   "cell_type": "markdown",
   "metadata": {},
   "source": [
    "#### 进行一些预处理"
   ]
  },
  {
   "cell_type": "code",
   "execution_count": 5,
   "metadata": {},
   "outputs": [
    {
     "data": {
      "text/html": [
       "<div>\n",
       "<style scoped>\n",
       "    .dataframe tbody tr th:only-of-type {\n",
       "        vertical-align: middle;\n",
       "    }\n",
       "\n",
       "    .dataframe tbody tr th {\n",
       "        vertical-align: top;\n",
       "    }\n",
       "\n",
       "    .dataframe thead th {\n",
       "        text-align: right;\n",
       "    }\n",
       "</style>\n",
       "<table border=\"1\" class=\"dataframe\">\n",
       "  <thead>\n",
       "    <tr style=\"text-align: right;\">\n",
       "      <th></th>\n",
       "      <th>GICS Sector</th>\n",
       "      <th>GICS Sub Industry</th>\n",
       "      <th>cik</th>\n",
       "      <th>doc_name</th>\n",
       "      <th>items</th>\n",
       "      <th>release_date</th>\n",
       "      <th>text</th>\n",
       "      <th>ticker</th>\n",
       "      <th>txt_link</th>\n",
       "    </tr>\n",
       "  </thead>\n",
       "  <tbody>\n",
       "    <tr>\n",
       "      <th>0</th>\n",
       "      <td>Information Technology</td>\n",
       "      <td>Information Technology</td>\n",
       "      <td>789019.0</td>\n",
       "      <td>0001193125-19-022553.txt</td>\n",
       "      <td>['Item 2.02', 'Item 9.01']</td>\n",
       "      <td>2019-01-30 16:03:36</td>\n",
       "      <td>0001193125-19-022553.txt : 20190130 0001193125...</td>\n",
       "      <td>MSFT</td>\n",
       "      <td>https://www.sec.gov/Archives/edgar/data/789019...</td>\n",
       "    </tr>\n",
       "    <tr>\n",
       "      <th>1</th>\n",
       "      <td>Information Technology</td>\n",
       "      <td>Information Technology</td>\n",
       "      <td>789019.0</td>\n",
       "      <td>0001193125-18-337951.txt</td>\n",
       "      <td>['Item 5.07']</td>\n",
       "      <td>2018-11-29 15:29:57</td>\n",
       "      <td>0001193125-18-337951.txt : 20181129 0001193125...</td>\n",
       "      <td>MSFT</td>\n",
       "      <td>https://www.sec.gov/Archives/edgar/data/789019...</td>\n",
       "    </tr>\n",
       "    <tr>\n",
       "      <th>2</th>\n",
       "      <td>Information Technology</td>\n",
       "      <td>Information Technology</td>\n",
       "      <td>789019.0</td>\n",
       "      <td>0001193125-18-306365.txt</td>\n",
       "      <td>['Item 2.02', 'Item 9.01']</td>\n",
       "      <td>2018-10-24 16:03:06</td>\n",
       "      <td>0001193125-18-306365.txt : 20181024 0001193125...</td>\n",
       "      <td>MSFT</td>\n",
       "      <td>https://www.sec.gov/Archives/edgar/data/789019...</td>\n",
       "    </tr>\n",
       "    <tr>\n",
       "      <th>3</th>\n",
       "      <td>Information Technology</td>\n",
       "      <td>Information Technology</td>\n",
       "      <td>789019.0</td>\n",
       "      <td>0001193125-18-277602.txt</td>\n",
       "      <td>['Item 5.02', 'Item 9.01']</td>\n",
       "      <td>2018-09-19 16:15:58</td>\n",
       "      <td>0001193125-18-277602.txt : 20180919 0001193125...</td>\n",
       "      <td>MSFT</td>\n",
       "      <td>https://www.sec.gov/Archives/edgar/data/789019...</td>\n",
       "    </tr>\n",
       "    <tr>\n",
       "      <th>4</th>\n",
       "      <td>Information Technology</td>\n",
       "      <td>Information Technology</td>\n",
       "      <td>789019.0</td>\n",
       "      <td>0001193125-18-221458.txt</td>\n",
       "      <td>['Item 2.02', 'Item 9.01']</td>\n",
       "      <td>2018-07-19 16:02:35</td>\n",
       "      <td>0001193125-18-221458.txt : 20180719 0001193125...</td>\n",
       "      <td>MSFT</td>\n",
       "      <td>https://www.sec.gov/Archives/edgar/data/789019...</td>\n",
       "    </tr>\n",
       "  </tbody>\n",
       "</table>\n",
       "</div>"
      ],
      "text/plain": [
       "              GICS Sector       GICS Sub Industry       cik  \\\n",
       "0  Information Technology  Information Technology  789019.0   \n",
       "1  Information Technology  Information Technology  789019.0   \n",
       "2  Information Technology  Information Technology  789019.0   \n",
       "3  Information Technology  Information Technology  789019.0   \n",
       "4  Information Technology  Information Technology  789019.0   \n",
       "\n",
       "                   doc_name                       items         release_date  \\\n",
       "0  0001193125-19-022553.txt  ['Item 2.02', 'Item 9.01']  2019-01-30 16:03:36   \n",
       "1  0001193125-18-337951.txt               ['Item 5.07']  2018-11-29 15:29:57   \n",
       "2  0001193125-18-306365.txt  ['Item 2.02', 'Item 9.01']  2018-10-24 16:03:06   \n",
       "3  0001193125-18-277602.txt  ['Item 5.02', 'Item 9.01']  2018-09-19 16:15:58   \n",
       "4  0001193125-18-221458.txt  ['Item 2.02', 'Item 9.01']  2018-07-19 16:02:35   \n",
       "\n",
       "                                                text ticker  \\\n",
       "0  0001193125-19-022553.txt : 20190130 0001193125...   MSFT   \n",
       "1  0001193125-18-337951.txt : 20181129 0001193125...   MSFT   \n",
       "2  0001193125-18-306365.txt : 20181024 0001193125...   MSFT   \n",
       "3  0001193125-18-277602.txt : 20180919 0001193125...   MSFT   \n",
       "4  0001193125-18-221458.txt : 20180719 0001193125...   MSFT   \n",
       "\n",
       "                                            txt_link  \n",
       "0  https://www.sec.gov/Archives/edgar/data/789019...  \n",
       "1  https://www.sec.gov/Archives/edgar/data/789019...  \n",
       "2  https://www.sec.gov/Archives/edgar/data/789019...  \n",
       "3  https://www.sec.gov/Archives/edgar/data/789019...  \n",
       "4  https://www.sec.gov/Archives/edgar/data/789019...  "
      ]
     },
     "execution_count": 5,
     "metadata": {},
     "output_type": "execute_result"
    }
   ],
   "source": [
    "df = df.drop('Unnamed: 0',axis=1)\n",
    "df.head()"
   ]
  },
  {
   "cell_type": "code",
   "execution_count": 6,
   "metadata": {},
   "outputs": [
    {
     "data": {
      "text/plain": [
       "0"
      ]
     },
     "execution_count": 6,
     "metadata": {},
     "output_type": "execute_result"
    }
   ],
   "source": [
    "gc.collect()"
   ]
  },
  {
   "cell_type": "code",
   "execution_count": 7,
   "metadata": {},
   "outputs": [],
   "source": [
    "df['items'] = df['items'].map(lambda x: ast.literal_eval(x)) #将items转化成安全格式"
   ]
  },
  {
   "cell_type": "code",
   "execution_count": 85,
   "metadata": {},
   "outputs": [
    {
     "data": {
      "text/plain": [
       "RangeIndex(start=0, stop=3873, step=1)"
      ]
     },
     "execution_count": 85,
     "metadata": {},
     "output_type": "execute_result"
    }
   ],
   "source": [
    "df = df.reset_index() #重新编排索引\n",
    "df.index"
   ]
  },
  {
   "cell_type": "code",
   "execution_count": 9,
   "metadata": {},
   "outputs": [],
   "source": [
    "def str_to_time(time):#写个函数将string的时间变成时间格式\n",
    "    return datetime.datetime.strptime(time,\"%Y-%m-%d %H:%M:%S\")"
   ]
  },
  {
   "cell_type": "code",
   "execution_count": 10,
   "metadata": {},
   "outputs": [
    {
     "data": {
      "text/html": [
       "<div>\n",
       "<style scoped>\n",
       "    .dataframe tbody tr th:only-of-type {\n",
       "        vertical-align: middle;\n",
       "    }\n",
       "\n",
       "    .dataframe tbody tr th {\n",
       "        vertical-align: top;\n",
       "    }\n",
       "\n",
       "    .dataframe thead th {\n",
       "        text-align: right;\n",
       "    }\n",
       "</style>\n",
       "<table border=\"1\" class=\"dataframe\">\n",
       "  <thead>\n",
       "    <tr style=\"text-align: right;\">\n",
       "      <th></th>\n",
       "      <th>GICS Sector</th>\n",
       "      <th>GICS Sub Industry</th>\n",
       "      <th>cik</th>\n",
       "      <th>doc_name</th>\n",
       "      <th>items</th>\n",
       "      <th>release_date</th>\n",
       "      <th>text</th>\n",
       "      <th>ticker</th>\n",
       "      <th>txt_link</th>\n",
       "    </tr>\n",
       "  </thead>\n",
       "  <tbody>\n",
       "    <tr>\n",
       "      <th>0</th>\n",
       "      <td>Information Technology</td>\n",
       "      <td>Information Technology</td>\n",
       "      <td>789019.0</td>\n",
       "      <td>0001193125-19-022553.txt</td>\n",
       "      <td>[Item 2.02, Item 9.01]</td>\n",
       "      <td>2019-01-30 16:03:36</td>\n",
       "      <td>0001193125-19-022553.txt : 20190130 0001193125...</td>\n",
       "      <td>MSFT</td>\n",
       "      <td>https://www.sec.gov/Archives/edgar/data/789019...</td>\n",
       "    </tr>\n",
       "    <tr>\n",
       "      <th>1</th>\n",
       "      <td>Information Technology</td>\n",
       "      <td>Information Technology</td>\n",
       "      <td>789019.0</td>\n",
       "      <td>0001193125-18-337951.txt</td>\n",
       "      <td>[Item 5.07]</td>\n",
       "      <td>2018-11-29 15:29:57</td>\n",
       "      <td>0001193125-18-337951.txt : 20181129 0001193125...</td>\n",
       "      <td>MSFT</td>\n",
       "      <td>https://www.sec.gov/Archives/edgar/data/789019...</td>\n",
       "    </tr>\n",
       "    <tr>\n",
       "      <th>2</th>\n",
       "      <td>Information Technology</td>\n",
       "      <td>Information Technology</td>\n",
       "      <td>789019.0</td>\n",
       "      <td>0001193125-18-306365.txt</td>\n",
       "      <td>[Item 2.02, Item 9.01]</td>\n",
       "      <td>2018-10-24 16:03:06</td>\n",
       "      <td>0001193125-18-306365.txt : 20181024 0001193125...</td>\n",
       "      <td>MSFT</td>\n",
       "      <td>https://www.sec.gov/Archives/edgar/data/789019...</td>\n",
       "    </tr>\n",
       "    <tr>\n",
       "      <th>3</th>\n",
       "      <td>Information Technology</td>\n",
       "      <td>Information Technology</td>\n",
       "      <td>789019.0</td>\n",
       "      <td>0001193125-18-277602.txt</td>\n",
       "      <td>[Item 5.02, Item 9.01]</td>\n",
       "      <td>2018-09-19 16:15:58</td>\n",
       "      <td>0001193125-18-277602.txt : 20180919 0001193125...</td>\n",
       "      <td>MSFT</td>\n",
       "      <td>https://www.sec.gov/Archives/edgar/data/789019...</td>\n",
       "    </tr>\n",
       "    <tr>\n",
       "      <th>4</th>\n",
       "      <td>Information Technology</td>\n",
       "      <td>Information Technology</td>\n",
       "      <td>789019.0</td>\n",
       "      <td>0001193125-18-221458.txt</td>\n",
       "      <td>[Item 2.02, Item 9.01]</td>\n",
       "      <td>2018-07-19 16:02:35</td>\n",
       "      <td>0001193125-18-221458.txt : 20180719 0001193125...</td>\n",
       "      <td>MSFT</td>\n",
       "      <td>https://www.sec.gov/Archives/edgar/data/789019...</td>\n",
       "    </tr>\n",
       "  </tbody>\n",
       "</table>\n",
       "</div>"
      ],
      "text/plain": [
       "              GICS Sector       GICS Sub Industry       cik  \\\n",
       "0  Information Technology  Information Technology  789019.0   \n",
       "1  Information Technology  Information Technology  789019.0   \n",
       "2  Information Technology  Information Technology  789019.0   \n",
       "3  Information Technology  Information Technology  789019.0   \n",
       "4  Information Technology  Information Technology  789019.0   \n",
       "\n",
       "                   doc_name                   items        release_date  \\\n",
       "0  0001193125-19-022553.txt  [Item 2.02, Item 9.01] 2019-01-30 16:03:36   \n",
       "1  0001193125-18-337951.txt             [Item 5.07] 2018-11-29 15:29:57   \n",
       "2  0001193125-18-306365.txt  [Item 2.02, Item 9.01] 2018-10-24 16:03:06   \n",
       "3  0001193125-18-277602.txt  [Item 5.02, Item 9.01] 2018-09-19 16:15:58   \n",
       "4  0001193125-18-221458.txt  [Item 2.02, Item 9.01] 2018-07-19 16:02:35   \n",
       "\n",
       "                                                text ticker  \\\n",
       "0  0001193125-19-022553.txt : 20190130 0001193125...   MSFT   \n",
       "1  0001193125-18-337951.txt : 20181129 0001193125...   MSFT   \n",
       "2  0001193125-18-306365.txt : 20181024 0001193125...   MSFT   \n",
       "3  0001193125-18-277602.txt : 20180919 0001193125...   MSFT   \n",
       "4  0001193125-18-221458.txt : 20180719 0001193125...   MSFT   \n",
       "\n",
       "                                            txt_link  \n",
       "0  https://www.sec.gov/Archives/edgar/data/789019...  \n",
       "1  https://www.sec.gov/Archives/edgar/data/789019...  \n",
       "2  https://www.sec.gov/Archives/edgar/data/789019...  \n",
       "3  https://www.sec.gov/Archives/edgar/data/789019...  \n",
       "4  https://www.sec.gov/Archives/edgar/data/789019...  "
      ]
     },
     "execution_count": 10,
     "metadata": {},
     "output_type": "execute_result"
    }
   ],
   "source": [
    "df['release_date'] = df['release_date'].apply(str_to_time)\n",
    "df.head()"
   ]
  },
  {
   "cell_type": "code",
   "execution_count": 97,
   "metadata": {},
   "outputs": [],
   "source": [
    "\n",
    "#删除没有日期的数据（布尔值）\n",
    "df = df.loc[~(df['release_date'] >= pd.datetime(year=2019,month=5,day=1))]\n",
    "df = df.drop_duplicates(subset=\"doc_name\")#drop掉文件名重复的数据\n"
   ]
  },
  {
   "cell_type": "markdown",
   "metadata": {},
   "source": [
    "再次检查index是否正确"
   ]
  },
  {
   "cell_type": "code",
   "execution_count": 11,
   "metadata": {},
   "outputs": [
    {
     "data": {
      "text/plain": [
       "RangeIndex(start=0, stop=3845, step=1)"
      ]
     },
     "execution_count": 11,
     "metadata": {},
     "output_type": "execute_result"
    }
   ],
   "source": [
    "df.index"
   ]
  },
  {
   "cell_type": "code",
   "execution_count": 100,
   "metadata": {},
   "outputs": [],
   "source": [
    "df = df.drop('index',axis=1)"
   ]
  },
  {
   "cell_type": "code",
   "execution_count": 101,
   "metadata": {},
   "outputs": [
    {
     "data": {
      "text/html": [
       "<div>\n",
       "<style scoped>\n",
       "    .dataframe tbody tr th:only-of-type {\n",
       "        vertical-align: middle;\n",
       "    }\n",
       "\n",
       "    .dataframe tbody tr th {\n",
       "        vertical-align: top;\n",
       "    }\n",
       "\n",
       "    .dataframe thead th {\n",
       "        text-align: right;\n",
       "    }\n",
       "</style>\n",
       "<table border=\"1\" class=\"dataframe\">\n",
       "  <thead>\n",
       "    <tr style=\"text-align: right;\">\n",
       "      <th></th>\n",
       "      <th>GICS Sector</th>\n",
       "      <th>GICS Sub Industry</th>\n",
       "      <th>cik</th>\n",
       "      <th>doc_name</th>\n",
       "      <th>items</th>\n",
       "      <th>release_date</th>\n",
       "      <th>text</th>\n",
       "      <th>ticker</th>\n",
       "      <th>txt_link</th>\n",
       "    </tr>\n",
       "  </thead>\n",
       "  <tbody>\n",
       "    <tr>\n",
       "      <th>0</th>\n",
       "      <td>Information Technology</td>\n",
       "      <td>Information Technology</td>\n",
       "      <td>789019.0</td>\n",
       "      <td>0001193125-19-022553.txt</td>\n",
       "      <td>[Item 2.02, Item 9.01]</td>\n",
       "      <td>2019-01-30 16:03:36</td>\n",
       "      <td>0001193125-19-022553.txt : 20190130 0001193125...</td>\n",
       "      <td>MSFT</td>\n",
       "      <td>https://www.sec.gov/Archives/edgar/data/789019...</td>\n",
       "    </tr>\n",
       "    <tr>\n",
       "      <th>1</th>\n",
       "      <td>Information Technology</td>\n",
       "      <td>Information Technology</td>\n",
       "      <td>789019.0</td>\n",
       "      <td>0001193125-18-337951.txt</td>\n",
       "      <td>[Item 5.07]</td>\n",
       "      <td>2018-11-29 15:29:57</td>\n",
       "      <td>0001193125-18-337951.txt : 20181129 0001193125...</td>\n",
       "      <td>MSFT</td>\n",
       "      <td>https://www.sec.gov/Archives/edgar/data/789019...</td>\n",
       "    </tr>\n",
       "    <tr>\n",
       "      <th>2</th>\n",
       "      <td>Information Technology</td>\n",
       "      <td>Information Technology</td>\n",
       "      <td>789019.0</td>\n",
       "      <td>0001193125-18-306365.txt</td>\n",
       "      <td>[Item 2.02, Item 9.01]</td>\n",
       "      <td>2018-10-24 16:03:06</td>\n",
       "      <td>0001193125-18-306365.txt : 20181024 0001193125...</td>\n",
       "      <td>MSFT</td>\n",
       "      <td>https://www.sec.gov/Archives/edgar/data/789019...</td>\n",
       "    </tr>\n",
       "    <tr>\n",
       "      <th>3</th>\n",
       "      <td>Information Technology</td>\n",
       "      <td>Information Technology</td>\n",
       "      <td>789019.0</td>\n",
       "      <td>0001193125-18-277602.txt</td>\n",
       "      <td>[Item 5.02, Item 9.01]</td>\n",
       "      <td>2018-09-19 16:15:58</td>\n",
       "      <td>0001193125-18-277602.txt : 20180919 0001193125...</td>\n",
       "      <td>MSFT</td>\n",
       "      <td>https://www.sec.gov/Archives/edgar/data/789019...</td>\n",
       "    </tr>\n",
       "    <tr>\n",
       "      <th>4</th>\n",
       "      <td>Information Technology</td>\n",
       "      <td>Information Technology</td>\n",
       "      <td>789019.0</td>\n",
       "      <td>0001193125-18-221458.txt</td>\n",
       "      <td>[Item 2.02, Item 9.01]</td>\n",
       "      <td>2018-07-19 16:02:35</td>\n",
       "      <td>0001193125-18-221458.txt : 20180719 0001193125...</td>\n",
       "      <td>MSFT</td>\n",
       "      <td>https://www.sec.gov/Archives/edgar/data/789019...</td>\n",
       "    </tr>\n",
       "  </tbody>\n",
       "</table>\n",
       "</div>"
      ],
      "text/plain": [
       "              GICS Sector       GICS Sub Industry       cik  \\\n",
       "0  Information Technology  Information Technology  789019.0   \n",
       "1  Information Technology  Information Technology  789019.0   \n",
       "2  Information Technology  Information Technology  789019.0   \n",
       "3  Information Technology  Information Technology  789019.0   \n",
       "4  Information Technology  Information Technology  789019.0   \n",
       "\n",
       "                   doc_name                   items        release_date  \\\n",
       "0  0001193125-19-022553.txt  [Item 2.02, Item 9.01] 2019-01-30 16:03:36   \n",
       "1  0001193125-18-337951.txt             [Item 5.07] 2018-11-29 15:29:57   \n",
       "2  0001193125-18-306365.txt  [Item 2.02, Item 9.01] 2018-10-24 16:03:06   \n",
       "3  0001193125-18-277602.txt  [Item 5.02, Item 9.01] 2018-09-19 16:15:58   \n",
       "4  0001193125-18-221458.txt  [Item 2.02, Item 9.01] 2018-07-19 16:02:35   \n",
       "\n",
       "                                                text ticker  \\\n",
       "0  0001193125-19-022553.txt : 20190130 0001193125...   MSFT   \n",
       "1  0001193125-18-337951.txt : 20181129 0001193125...   MSFT   \n",
       "2  0001193125-18-306365.txt : 20181024 0001193125...   MSFT   \n",
       "3  0001193125-18-277602.txt : 20180919 0001193125...   MSFT   \n",
       "4  0001193125-18-221458.txt : 20180719 0001193125...   MSFT   \n",
       "\n",
       "                                            txt_link  \n",
       "0  https://www.sec.gov/Archives/edgar/data/789019...  \n",
       "1  https://www.sec.gov/Archives/edgar/data/789019...  \n",
       "2  https://www.sec.gov/Archives/edgar/data/789019...  \n",
       "3  https://www.sec.gov/Archives/edgar/data/789019...  \n",
       "4  https://www.sec.gov/Archives/edgar/data/789019...  "
      ]
     },
     "execution_count": 101,
     "metadata": {},
     "output_type": "execute_result"
    }
   ],
   "source": [
    "df.head()"
   ]
  },
  {
   "cell_type": "markdown",
   "metadata": {},
   "source": [
    "#### 文本数据爬取完成"
   ]
  },
  {
   "cell_type": "code",
   "execution_count": 12,
   "metadata": {},
   "outputs": [],
   "source": [
    "df.to_pickle('Pickles\\\\sec_df.pkl')"
   ]
  },
  {
   "cell_type": "code",
   "execution_count": null,
   "metadata": {},
   "outputs": [],
   "source": []
  }
 ],
 "metadata": {
  "kernelspec": {
   "display_name": "Python 3",
   "language": "python",
   "name": "python3"
  },
  "language_info": {
   "codemirror_mode": {
    "name": "ipython",
    "version": 3
   },
   "file_extension": ".py",
   "mimetype": "text/x-python",
   "name": "python",
   "nbconvert_exporter": "python",
   "pygments_lexer": "ipython3",
   "version": "3.6.7"
  }
 },
 "nbformat": 4,
 "nbformat_minor": 2
}
