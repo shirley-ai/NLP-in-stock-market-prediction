{
 "cells": [
  {
   "cell_type": "markdown",
   "metadata": {},
   "source": [
    "### 本篇代码用于处理文本数据，得到合适的格式方便建模"
   ]
  },
  {
   "cell_type": "code",
   "execution_count": 1,
   "metadata": {
    "scrolled": true
   },
   "outputs": [],
   "source": [
    "import pandas as pd\n",
    "import numpy as np\n",
    "import tensorflow\n",
    "import ast\n",
    "import re\n",
    "import matplotlib.pyplot as plt\n",
    "import seaborn as sns"
   ]
  },
  {
   "cell_type": "code",
   "execution_count": 2,
   "metadata": {},
   "outputs": [
    {
     "data": {
      "text/html": [
       "<div>\n",
       "<style scoped>\n",
       "    .dataframe tbody tr th:only-of-type {\n",
       "        vertical-align: middle;\n",
       "    }\n",
       "\n",
       "    .dataframe tbody tr th {\n",
       "        vertical-align: top;\n",
       "    }\n",
       "\n",
       "    .dataframe thead th {\n",
       "        text-align: right;\n",
       "    }\n",
       "</style>\n",
       "<table border=\"1\" class=\"dataframe\">\n",
       "  <thead>\n",
       "    <tr style=\"text-align: right;\">\n",
       "      <th></th>\n",
       "      <th>GICS Sector</th>\n",
       "      <th>GICS Sub Industry</th>\n",
       "      <th>cik</th>\n",
       "      <th>doc_name</th>\n",
       "      <th>items</th>\n",
       "      <th>release_date</th>\n",
       "      <th>text</th>\n",
       "      <th>ticker</th>\n",
       "      <th>txt_link</th>\n",
       "      <th>rm_week</th>\n",
       "      <th>rm_month</th>\n",
       "      <th>rm_qtr</th>\n",
       "      <th>rm_year</th>\n",
       "      <th>vix</th>\n",
       "      <th>price_change</th>\n",
       "      <th>signal</th>\n",
       "    </tr>\n",
       "  </thead>\n",
       "  <tbody>\n",
       "    <tr>\n",
       "      <th>0</th>\n",
       "      <td>Information Technology</td>\n",
       "      <td>Information Technology</td>\n",
       "      <td>789019.0</td>\n",
       "      <td>0001193125-19-022553.txt</td>\n",
       "      <td>[Item 2.02, Item 9.01]</td>\n",
       "      <td>2019-01-30 16:03:36</td>\n",
       "      <td>0001193125-19-022553.txt : 20190130 0001193125...</td>\n",
       "      <td>MSFT</td>\n",
       "      <td>https://www.sec.gov/Archives/edgar/data/789019...</td>\n",
       "      <td>-3.80</td>\n",
       "      <td>0.61</td>\n",
       "      <td>2.12</td>\n",
       "      <td>20.47</td>\n",
       "      <td>17.66</td>\n",
       "      <td>-1.82</td>\n",
       "      <td>down</td>\n",
       "    </tr>\n",
       "    <tr>\n",
       "      <th>1</th>\n",
       "      <td>Information Technology</td>\n",
       "      <td>Information Technology</td>\n",
       "      <td>789019.0</td>\n",
       "      <td>0001193125-18-337951.txt</td>\n",
       "      <td>[Item 5.07]</td>\n",
       "      <td>2018-11-29 15:29:57</td>\n",
       "      <td>0001193125-18-337951.txt : 20181129 0001193125...</td>\n",
       "      <td>MSFT</td>\n",
       "      <td>https://www.sec.gov/Archives/edgar/data/789019...</td>\n",
       "      <td>6.77</td>\n",
       "      <td>0.11</td>\n",
       "      <td>-0.01</td>\n",
       "      <td>23.76</td>\n",
       "      <td>18.65</td>\n",
       "      <td>-0.95</td>\n",
       "      <td>stay</td>\n",
       "    </tr>\n",
       "    <tr>\n",
       "      <th>2</th>\n",
       "      <td>Information Technology</td>\n",
       "      <td>Information Technology</td>\n",
       "      <td>789019.0</td>\n",
       "      <td>0001193125-18-306365.txt</td>\n",
       "      <td>[Item 2.02, Item 9.01]</td>\n",
       "      <td>2018-10-24 16:03:06</td>\n",
       "      <td>0001193125-18-306365.txt : 20181024 0001193125...</td>\n",
       "      <td>MSFT</td>\n",
       "      <td>https://www.sec.gov/Archives/edgar/data/789019...</td>\n",
       "      <td>-0.91</td>\n",
       "      <td>-1.60</td>\n",
       "      <td>1.60</td>\n",
       "      <td>37.85</td>\n",
       "      <td>25.23</td>\n",
       "      <td>4.71</td>\n",
       "      <td>up</td>\n",
       "    </tr>\n",
       "    <tr>\n",
       "      <th>3</th>\n",
       "      <td>Information Technology</td>\n",
       "      <td>Information Technology</td>\n",
       "      <td>789019.0</td>\n",
       "      <td>0001193125-18-277602.txt</td>\n",
       "      <td>[Item 5.02, Item 9.01]</td>\n",
       "      <td>2018-09-19 16:15:58</td>\n",
       "      <td>0001193125-18-277602.txt : 20180919 0001193125...</td>\n",
       "      <td>MSFT</td>\n",
       "      <td>https://www.sec.gov/Archives/edgar/data/789019...</td>\n",
       "      <td>1.02</td>\n",
       "      <td>2.87</td>\n",
       "      <td>9.60</td>\n",
       "      <td>42.83</td>\n",
       "      <td>11.75</td>\n",
       "      <td>1.35</td>\n",
       "      <td>up</td>\n",
       "    </tr>\n",
       "    <tr>\n",
       "      <th>4</th>\n",
       "      <td>Information Technology</td>\n",
       "      <td>Information Technology</td>\n",
       "      <td>789019.0</td>\n",
       "      <td>0001193125-18-221458.txt</td>\n",
       "      <td>[Item 2.02, Item 9.01]</td>\n",
       "      <td>2018-07-19 16:02:35</td>\n",
       "      <td>0001193125-18-221458.txt : 20180719 0001193125...</td>\n",
       "      <td>MSFT</td>\n",
       "      <td>https://www.sec.gov/Archives/edgar/data/789019...</td>\n",
       "      <td>0.66</td>\n",
       "      <td>5.09</td>\n",
       "      <td>8.96</td>\n",
       "      <td>38.96</td>\n",
       "      <td>12.87</td>\n",
       "      <td>5.21</td>\n",
       "      <td>up</td>\n",
       "    </tr>\n",
       "  </tbody>\n",
       "</table>\n",
       "</div>"
      ],
      "text/plain": [
       "              GICS Sector       GICS Sub Industry       cik  \\\n",
       "0  Information Technology  Information Technology  789019.0   \n",
       "1  Information Technology  Information Technology  789019.0   \n",
       "2  Information Technology  Information Technology  789019.0   \n",
       "3  Information Technology  Information Technology  789019.0   \n",
       "4  Information Technology  Information Technology  789019.0   \n",
       "\n",
       "                   doc_name                   items        release_date  \\\n",
       "0  0001193125-19-022553.txt  [Item 2.02, Item 9.01] 2019-01-30 16:03:36   \n",
       "1  0001193125-18-337951.txt             [Item 5.07] 2018-11-29 15:29:57   \n",
       "2  0001193125-18-306365.txt  [Item 2.02, Item 9.01] 2018-10-24 16:03:06   \n",
       "3  0001193125-18-277602.txt  [Item 5.02, Item 9.01] 2018-09-19 16:15:58   \n",
       "4  0001193125-18-221458.txt  [Item 2.02, Item 9.01] 2018-07-19 16:02:35   \n",
       "\n",
       "                                                text ticker  \\\n",
       "0  0001193125-19-022553.txt : 20190130 0001193125...   MSFT   \n",
       "1  0001193125-18-337951.txt : 20181129 0001193125...   MSFT   \n",
       "2  0001193125-18-306365.txt : 20181024 0001193125...   MSFT   \n",
       "3  0001193125-18-277602.txt : 20180919 0001193125...   MSFT   \n",
       "4  0001193125-18-221458.txt : 20180719 0001193125...   MSFT   \n",
       "\n",
       "                                            txt_link  rm_week  rm_month  \\\n",
       "0  https://www.sec.gov/Archives/edgar/data/789019...    -3.80      0.61   \n",
       "1  https://www.sec.gov/Archives/edgar/data/789019...     6.77      0.11   \n",
       "2  https://www.sec.gov/Archives/edgar/data/789019...    -0.91     -1.60   \n",
       "3  https://www.sec.gov/Archives/edgar/data/789019...     1.02      2.87   \n",
       "4  https://www.sec.gov/Archives/edgar/data/789019...     0.66      5.09   \n",
       "\n",
       "   rm_qtr  rm_year    vix  price_change signal  \n",
       "0    2.12    20.47  17.66         -1.82   down  \n",
       "1   -0.01    23.76  18.65         -0.95   stay  \n",
       "2    1.60    37.85  25.23          4.71     up  \n",
       "3    9.60    42.83  11.75          1.35     up  \n",
       "4    8.96    38.96  12.87          5.21     up  "
      ]
     },
     "execution_count": 2,
     "metadata": {},
     "output_type": "execute_result"
    }
   ],
   "source": [
    "df = pd.read_pickle(\"Pickles/text_and_finance.pkl\")\n",
    "df.head()"
   ]
  },
  {
   "cell_type": "markdown",
   "metadata": {},
   "source": [
    "## 主要步骤\n",
    "1. Remove extra whitespace\n",
    "2. Tokenize\n",
    "3. Remove punctuation, stopwords, convert to lower case\n",
    "4. Lemmatize\n",
    "5. Load pre-trained word embeddings"
   ]
  },
  {
   "cell_type": "code",
   "execution_count": 3,
   "metadata": {
    "scrolled": true
   },
   "outputs": [],
   "source": [
    "\n",
    "from nltk.corpus import stopwords\n",
    "stop_words = stopwords.words(\"english\")\n",
    "from nltk.stem import WordNetLemmatizer\n",
    "from nltk.tokenize import word_tokenize\n",
    "wordnet_lemmatizer = WordNetLemmatizer()\n",
    "import string\n",
    "punctuations = string.punctuation\n",
    "import matplotlib.pyplot as plt\n",
    "import seaborn as sns\n",
    "\n",
    "import dask.dataframe as dd\n",
    "from dask.multiprocessing import get\n",
    "from dask.diagnostics import ProgressBar"
   ]
  },
  {
   "cell_type": "code",
   "execution_count": 4,
   "metadata": {},
   "outputs": [],
   "source": [
    "pd.options.mode.chained_assignment = None"
   ]
  },
  {
   "cell_type": "markdown",
   "metadata": {},
   "source": [
    "定义函数一次性处理文本数据，利用多线程加速"
   ]
  },
  {
   "cell_type": "code",
   "execution_count": 9,
   "metadata": {},
   "outputs": [],
   "source": [
    "\n",
    "def nltk_tokenizer(text):\n",
    "    try:\n",
    "        tokens = [word for word in word_tokenize(text) if word.isalpha()] #tokenize并只保留字母单词\n",
    "        tokens = list(filter(lambda t: t not in punctuations, tokens)) #去掉标点\n",
    "        tokens = list(filter(lambda t: t.lower() not in stop_words, tokens)) #去掉停用词，变成小写\n",
    "        filtered_tokens = []\n",
    "        for token in tokens:\n",
    "            if re.search('[a-zA-Z]', token):\n",
    "                filtered_tokens.append(token)\n",
    "        filtered_tokens = list(\n",
    "            map(lambda token: wordnet_lemmatizer.lemmatize(token.lower()), filtered_tokens)) #lemmatize\n",
    "        filtered_tokens = list(filter(lambda t: t not in punctuations, filtered_tokens))\n",
    "        return filtered_tokens\n",
    "    except Exception as e:\n",
    "        raise e\n",
    "\n",
    "def dask_tokenizer(df):\n",
    "    df['processed_text'] = df['text'].map(nltk_tokenizer)\n",
    "    df['text_len'] = df['processed_text'].map(lambda x: len(x))\n",
    "    return df"
   ]
  },
  {
   "cell_type": "code",
   "execution_count": 10,
   "metadata": {
    "scrolled": false
   },
   "outputs": [
    {
     "name": "stdout",
     "output_type": "stream",
     "text": [
      "[########################################] | 100% Completed | 37min 42.8s\n"
     ]
    }
   ],
   "source": [
    "pbar = ProgressBar()\n",
    "pbar.register()\n",
    "ddata = dd.from_pandas(df, npartitions=20)\n",
    "df = ddata.map_partitions(dask_tokenizer).compute()"
   ]
  },
  {
   "cell_type": "code",
   "execution_count": 11,
   "metadata": {
    "scrolled": true
   },
   "outputs": [
    {
     "data": {
      "text/html": [
       "<div>\n",
       "<style scoped>\n",
       "    .dataframe tbody tr th:only-of-type {\n",
       "        vertical-align: middle;\n",
       "    }\n",
       "\n",
       "    .dataframe tbody tr th {\n",
       "        vertical-align: top;\n",
       "    }\n",
       "\n",
       "    .dataframe thead th {\n",
       "        text-align: right;\n",
       "    }\n",
       "</style>\n",
       "<table border=\"1\" class=\"dataframe\">\n",
       "  <thead>\n",
       "    <tr style=\"text-align: right;\">\n",
       "      <th></th>\n",
       "      <th>GICS Sector</th>\n",
       "      <th>GICS Sub Industry</th>\n",
       "      <th>cik</th>\n",
       "      <th>doc_name</th>\n",
       "      <th>items</th>\n",
       "      <th>release_date</th>\n",
       "      <th>text</th>\n",
       "      <th>ticker</th>\n",
       "      <th>txt_link</th>\n",
       "      <th>rm_week</th>\n",
       "      <th>rm_month</th>\n",
       "      <th>rm_qtr</th>\n",
       "      <th>rm_year</th>\n",
       "      <th>vix</th>\n",
       "      <th>price_change</th>\n",
       "      <th>signal</th>\n",
       "      <th>processed_text</th>\n",
       "      <th>text_len</th>\n",
       "    </tr>\n",
       "  </thead>\n",
       "  <tbody>\n",
       "    <tr>\n",
       "      <th>0</th>\n",
       "      <td>Information Technology</td>\n",
       "      <td>Information Technology</td>\n",
       "      <td>789019.0</td>\n",
       "      <td>0001193125-19-022553.txt</td>\n",
       "      <td>[Item 2.02, Item 9.01]</td>\n",
       "      <td>2019-01-30 16:03:36</td>\n",
       "      <td>0001193125-19-022553.txt : 20190130 0001193125...</td>\n",
       "      <td>MSFT</td>\n",
       "      <td>https://www.sec.gov/Archives/edgar/data/789019...</td>\n",
       "      <td>-3.80</td>\n",
       "      <td>0.61</td>\n",
       "      <td>2.12</td>\n",
       "      <td>20.47</td>\n",
       "      <td>17.66</td>\n",
       "      <td>-1.82</td>\n",
       "      <td>down</td>\n",
       "      <td>[accession, number, conformed, submission, typ...</td>\n",
       "      <td>980</td>\n",
       "    </tr>\n",
       "    <tr>\n",
       "      <th>1</th>\n",
       "      <td>Information Technology</td>\n",
       "      <td>Information Technology</td>\n",
       "      <td>789019.0</td>\n",
       "      <td>0001193125-18-337951.txt</td>\n",
       "      <td>[Item 5.07]</td>\n",
       "      <td>2018-11-29 15:29:57</td>\n",
       "      <td>0001193125-18-337951.txt : 20181129 0001193125...</td>\n",
       "      <td>MSFT</td>\n",
       "      <td>https://www.sec.gov/Archives/edgar/data/789019...</td>\n",
       "      <td>6.77</td>\n",
       "      <td>0.11</td>\n",
       "      <td>-0.01</td>\n",
       "      <td>23.76</td>\n",
       "      <td>18.65</td>\n",
       "      <td>-0.95</td>\n",
       "      <td>stay</td>\n",
       "      <td>[accession, number, conformed, submission, typ...</td>\n",
       "      <td>279</td>\n",
       "    </tr>\n",
       "    <tr>\n",
       "      <th>2</th>\n",
       "      <td>Information Technology</td>\n",
       "      <td>Information Technology</td>\n",
       "      <td>789019.0</td>\n",
       "      <td>0001193125-18-306365.txt</td>\n",
       "      <td>[Item 2.02, Item 9.01]</td>\n",
       "      <td>2018-10-24 16:03:06</td>\n",
       "      <td>0001193125-18-306365.txt : 20181024 0001193125...</td>\n",
       "      <td>MSFT</td>\n",
       "      <td>https://www.sec.gov/Archives/edgar/data/789019...</td>\n",
       "      <td>-0.91</td>\n",
       "      <td>-1.60</td>\n",
       "      <td>1.60</td>\n",
       "      <td>37.85</td>\n",
       "      <td>25.23</td>\n",
       "      <td>4.71</td>\n",
       "      <td>up</td>\n",
       "      <td>[accession, number, conformed, submission, typ...</td>\n",
       "      <td>838</td>\n",
       "    </tr>\n",
       "    <tr>\n",
       "      <th>3</th>\n",
       "      <td>Information Technology</td>\n",
       "      <td>Information Technology</td>\n",
       "      <td>789019.0</td>\n",
       "      <td>0001193125-18-277602.txt</td>\n",
       "      <td>[Item 5.02, Item 9.01]</td>\n",
       "      <td>2018-09-19 16:15:58</td>\n",
       "      <td>0001193125-18-277602.txt : 20180919 0001193125...</td>\n",
       "      <td>MSFT</td>\n",
       "      <td>https://www.sec.gov/Archives/edgar/data/789019...</td>\n",
       "      <td>1.02</td>\n",
       "      <td>2.87</td>\n",
       "      <td>9.60</td>\n",
       "      <td>42.83</td>\n",
       "      <td>11.75</td>\n",
       "      <td>1.35</td>\n",
       "      <td>up</td>\n",
       "      <td>[accession, number, conformed, submission, typ...</td>\n",
       "      <td>474</td>\n",
       "    </tr>\n",
       "    <tr>\n",
       "      <th>4</th>\n",
       "      <td>Information Technology</td>\n",
       "      <td>Information Technology</td>\n",
       "      <td>789019.0</td>\n",
       "      <td>0001193125-18-221458.txt</td>\n",
       "      <td>[Item 2.02, Item 9.01]</td>\n",
       "      <td>2018-07-19 16:02:35</td>\n",
       "      <td>0001193125-18-221458.txt : 20180719 0001193125...</td>\n",
       "      <td>MSFT</td>\n",
       "      <td>https://www.sec.gov/Archives/edgar/data/789019...</td>\n",
       "      <td>0.66</td>\n",
       "      <td>5.09</td>\n",
       "      <td>8.96</td>\n",
       "      <td>38.96</td>\n",
       "      <td>12.87</td>\n",
       "      <td>5.21</td>\n",
       "      <td>up</td>\n",
       "      <td>[accession, number, conformed, submission, typ...</td>\n",
       "      <td>1332</td>\n",
       "    </tr>\n",
       "  </tbody>\n",
       "</table>\n",
       "</div>"
      ],
      "text/plain": [
       "              GICS Sector       GICS Sub Industry       cik  \\\n",
       "0  Information Technology  Information Technology  789019.0   \n",
       "1  Information Technology  Information Technology  789019.0   \n",
       "2  Information Technology  Information Technology  789019.0   \n",
       "3  Information Technology  Information Technology  789019.0   \n",
       "4  Information Technology  Information Technology  789019.0   \n",
       "\n",
       "                   doc_name                   items        release_date  \\\n",
       "0  0001193125-19-022553.txt  [Item 2.02, Item 9.01] 2019-01-30 16:03:36   \n",
       "1  0001193125-18-337951.txt             [Item 5.07] 2018-11-29 15:29:57   \n",
       "2  0001193125-18-306365.txt  [Item 2.02, Item 9.01] 2018-10-24 16:03:06   \n",
       "3  0001193125-18-277602.txt  [Item 5.02, Item 9.01] 2018-09-19 16:15:58   \n",
       "4  0001193125-18-221458.txt  [Item 2.02, Item 9.01] 2018-07-19 16:02:35   \n",
       "\n",
       "                                                text ticker  \\\n",
       "0  0001193125-19-022553.txt : 20190130 0001193125...   MSFT   \n",
       "1  0001193125-18-337951.txt : 20181129 0001193125...   MSFT   \n",
       "2  0001193125-18-306365.txt : 20181024 0001193125...   MSFT   \n",
       "3  0001193125-18-277602.txt : 20180919 0001193125...   MSFT   \n",
       "4  0001193125-18-221458.txt : 20180719 0001193125...   MSFT   \n",
       "\n",
       "                                            txt_link  rm_week  rm_month  \\\n",
       "0  https://www.sec.gov/Archives/edgar/data/789019...    -3.80      0.61   \n",
       "1  https://www.sec.gov/Archives/edgar/data/789019...     6.77      0.11   \n",
       "2  https://www.sec.gov/Archives/edgar/data/789019...    -0.91     -1.60   \n",
       "3  https://www.sec.gov/Archives/edgar/data/789019...     1.02      2.87   \n",
       "4  https://www.sec.gov/Archives/edgar/data/789019...     0.66      5.09   \n",
       "\n",
       "   rm_qtr  rm_year    vix  price_change signal  \\\n",
       "0    2.12    20.47  17.66         -1.82   down   \n",
       "1   -0.01    23.76  18.65         -0.95   stay   \n",
       "2    1.60    37.85  25.23          4.71     up   \n",
       "3    9.60    42.83  11.75          1.35     up   \n",
       "4    8.96    38.96  12.87          5.21     up   \n",
       "\n",
       "                                      processed_text  text_len  \n",
       "0  [accession, number, conformed, submission, typ...       980  \n",
       "1  [accession, number, conformed, submission, typ...       279  \n",
       "2  [accession, number, conformed, submission, typ...       838  \n",
       "3  [accession, number, conformed, submission, typ...       474  \n",
       "4  [accession, number, conformed, submission, typ...      1332  "
      ]
     },
     "execution_count": 11,
     "metadata": {},
     "output_type": "execute_result"
    }
   ],
   "source": [
    "df.head()"
   ]
  },
  {
   "cell_type": "code",
   "execution_count": 12,
   "metadata": {},
   "outputs": [],
   "source": [
    "df.to_csv(\"Data/lemmatized_text.csv\",chunksize=1000)"
   ]
  },
  {
   "cell_type": "code",
   "execution_count": 14,
   "metadata": {
    "scrolled": true
   },
   "outputs": [],
   "source": [
    "\n",
    "df['items'] = df['items'].map(lambda items: [' '.join(x.split()) for x in items])"
   ]
  },
  {
   "cell_type": "code",
   "execution_count": 13,
   "metadata": {},
   "outputs": [],
   "source": [
    "df.to_pickle(\"Pickles\\\\lemmatized_text.pkl\")"
   ]
  },
  {
   "cell_type": "markdown",
   "metadata": {},
   "source": [
    "查看文本长度分布，发现几万以上的多是乱码，0.9分位可取"
   ]
  },
  {
   "cell_type": "code",
   "execution_count": 5,
   "metadata": {},
   "outputs": [],
   "source": [
    "df = pd.read_pickle(\"Pickles\\\\lemmatized.pkl\")"
   ]
  },
  {
   "cell_type": "code",
   "execution_count": 10,
   "metadata": {},
   "outputs": [
    {
     "data": {
      "text/plain": [
       "count    3.845000e+03\n",
       "mean     1.308959e+04\n",
       "std      4.885380e+04\n",
       "min      1.260000e+02\n",
       "25%      6.960000e+02\n",
       "50%      1.855000e+03\n",
       "75%      7.332000e+03\n",
       "max      1.366310e+06\n",
       "Name: text_len, dtype: float64"
      ]
     },
     "execution_count": 10,
     "metadata": {},
     "output_type": "execute_result"
    }
   ],
   "source": [
    "df['text_len'].describe()"
   ]
  },
  {
   "cell_type": "code",
   "execution_count": 20,
   "metadata": {},
   "outputs": [
    {
     "data": {
      "text/plain": [
       "23089"
      ]
     },
     "execution_count": 20,
     "metadata": {},
     "output_type": "execute_result"
    }
   ],
   "source": [
    "int(df['text_len'].quantile(.9))"
   ]
  },
  {
   "cell_type": "code",
   "execution_count": 7,
   "metadata": {},
   "outputs": [
    {
     "data": {
      "text/plain": [
       "3845"
      ]
     },
     "execution_count": 7,
     "metadata": {},
     "output_type": "execute_result"
    }
   ],
   "source": [
    "len(df)"
   ]
  },
  {
   "cell_type": "markdown",
   "metadata": {},
   "source": [
    "取文本长度为0.9分位，剩余样本3460个"
   ]
  },
  {
   "cell_type": "code",
   "execution_count": 26,
   "metadata": {},
   "outputs": [
    {
     "data": {
      "text/plain": [
       "3460"
      ]
     },
     "execution_count": 26,
     "metadata": {},
     "output_type": "execute_result"
    }
   ],
   "source": [
    "df = df.loc[df['text_len']<23089]\n",
    "len(df)"
   ]
  },
  {
   "cell_type": "code",
   "execution_count": 32,
   "metadata": {},
   "outputs": [],
   "source": [
    "from datetime import datetime"
   ]
  },
  {
   "cell_type": "code",
   "execution_count": 46,
   "metadata": {},
   "outputs": [],
   "source": [
    "a = datetime(2015,1,1)#取2015年1月1日到2019年4月1日"
   ]
  },
  {
   "cell_type": "code",
   "execution_count": 47,
   "metadata": {},
   "outputs": [],
   "source": [
    "df = df.loc[df['release_date']>=a]"
   ]
  },
  {
   "cell_type": "markdown",
   "metadata": {},
   "source": [
    "最终样本数量3426个"
   ]
  },
  {
   "cell_type": "code",
   "execution_count": 48,
   "metadata": {},
   "outputs": [
    {
     "data": {
      "text/plain": [
       "3426"
      ]
     },
     "execution_count": 48,
     "metadata": {},
     "output_type": "execute_result"
    }
   ],
   "source": [
    "len(df)"
   ]
  },
  {
   "cell_type": "code",
   "execution_count": 52,
   "metadata": {},
   "outputs": [],
   "source": [
    "df.to_pickle(\"Pickles\\\\processed_data.pkl\")"
   ]
  },
  {
   "cell_type": "markdown",
   "metadata": {},
   "source": [
    "#### 得到数据的基本特征描述"
   ]
  },
  {
   "cell_type": "code",
   "execution_count": 51,
   "metadata": {},
   "outputs": [
    {
     "data": {
      "image/png": "[encoded data removed]",
      "text/plain": [
       "<Figure size 432x288 with 1 Axes>"
      ]
     },
     "metadata": {
      "needs_background": "light"
     },
     "output_type": "display_data"
    }
   ],
   "source": [
    "sns.countplot(y=df['GICS Sector'])\n",
    "plt.savefig(\"Graphs/sectors.png\",format=\"png\")\n",
    "plt.show()"
   ]
  },
  {
   "cell_type": "code",
   "execution_count": 50,
   "metadata": {
    "scrolled": false
   },
   "outputs": [
    {
     "data": {
      "image/png": "[encoded data removed]",
      "text/plain": [
       "<Figure size 432x288 with 1 Axes>"
      ]
     },
     "metadata": {
      "needs_background": "light"
     },
     "output_type": "display_data"
    }
   ],
   "source": [
    "#Count plot of signals\n",
    "sns.countplot(df['signal'])\n",
    "plt.savefig(\"Graphs/signal.png\",format=\"png\")\n",
    "plt.show()"
   ]
  },
  {
   "cell_type": "code",
   "execution_count": 49,
   "metadata": {},
   "outputs": [
    {
     "data": {
      "image/png": "[encoded data removed]",
      "text/plain": [
       "<Figure size 432x288 with 1 Axes>"
      ]
     },
     "metadata": {
      "needs_background": "light"
     },
     "output_type": "display_data"
    }
   ],
   "source": [
    "#df['release_date'] = df['release_date'].map(lambda x: pd.to_datetime(x))\n",
    "sns.countplot(pd.DatetimeIndex(df['release_date']).year)\n",
    "plt.savefig(\"Graphs/year.png\",format=\"png\")\n",
    "plt.show()"
   ]
  },
  {
   "cell_type": "code",
   "execution_count": 2,
   "metadata": {},
   "outputs": [],
   "source": [
    "df = pd.read_pickle(\"Pickles\\\\processed_data.pkl\")"
   ]
  },
  {
   "cell_type": "code",
   "execution_count": 3,
   "metadata": {},
   "outputs": [
    {
     "data": {
      "text/html": [
       "<div>\n",
       "<style scoped>\n",
       "    .dataframe tbody tr th:only-of-type {\n",
       "        vertical-align: middle;\n",
       "    }\n",
       "\n",
       "    .dataframe tbody tr th {\n",
       "        vertical-align: top;\n",
       "    }\n",
       "\n",
       "    .dataframe thead th {\n",
       "        text-align: right;\n",
       "    }\n",
       "</style>\n",
       "<table border=\"1\" class=\"dataframe\">\n",
       "  <thead>\n",
       "    <tr style=\"text-align: right;\">\n",
       "      <th></th>\n",
       "      <th>cik</th>\n",
       "      <th>rm_week</th>\n",
       "      <th>rm_month</th>\n",
       "      <th>rm_qtr</th>\n",
       "      <th>rm_year</th>\n",
       "      <th>vix</th>\n",
       "      <th>price_change</th>\n",
       "      <th>text_len</th>\n",
       "      <th>sentiment</th>\n",
       "    </tr>\n",
       "  </thead>\n",
       "  <tbody>\n",
       "    <tr>\n",
       "      <th>count</th>\n",
       "      <td>3.426000e+03</td>\n",
       "      <td>3241.000000</td>\n",
       "      <td>3242.000000</td>\n",
       "      <td>3236.000000</td>\n",
       "      <td>3181.000000</td>\n",
       "      <td>3426.000000</td>\n",
       "      <td>3244.000000</td>\n",
       "      <td>3426.000000</td>\n",
       "      <td>3426.000000</td>\n",
       "    </tr>\n",
       "    <tr>\n",
       "      <th>mean</th>\n",
       "      <td>6.381226e+05</td>\n",
       "      <td>0.142299</td>\n",
       "      <td>0.925469</td>\n",
       "      <td>2.490637</td>\n",
       "      <td>11.589249</td>\n",
       "      <td>14.667697</td>\n",
       "      <td>4.492127</td>\n",
       "      <td>3644.012259</td>\n",
       "      <td>-0.259193</td>\n",
       "    </tr>\n",
       "    <tr>\n",
       "      <th>std</th>\n",
       "      <td>5.144178e+05</td>\n",
       "      <td>2.658491</td>\n",
       "      <td>5.370084</td>\n",
       "      <td>9.500858</td>\n",
       "      <td>25.874663</td>\n",
       "      <td>4.220049</td>\n",
       "      <td>20.308287</td>\n",
       "      <td>4923.191543</td>\n",
       "      <td>0.484291</td>\n",
       "    </tr>\n",
       "    <tr>\n",
       "      <th>min</th>\n",
       "      <td>1.800000e+03</td>\n",
       "      <td>-16.280000</td>\n",
       "      <td>-31.020000</td>\n",
       "      <td>-37.230000</td>\n",
       "      <td>-62.970000</td>\n",
       "      <td>9.010000</td>\n",
       "      <td>-53.480000</td>\n",
       "      <td>126.000000</td>\n",
       "      <td>-1.000000</td>\n",
       "    </tr>\n",
       "    <tr>\n",
       "      <th>25%</th>\n",
       "      <td>8.042400e+04</td>\n",
       "      <td>-1.090000</td>\n",
       "      <td>-2.117500</td>\n",
       "      <td>-3.415000</td>\n",
       "      <td>-3.780000</td>\n",
       "      <td>11.492500</td>\n",
       "      <td>0.190000</td>\n",
       "      <td>598.250000</td>\n",
       "      <td>-0.596703</td>\n",
       "    </tr>\n",
       "    <tr>\n",
       "      <th>50%</th>\n",
       "      <td>7.327170e+05</td>\n",
       "      <td>0.200000</td>\n",
       "      <td>0.960000</td>\n",
       "      <td>2.540000</td>\n",
       "      <td>9.420000</td>\n",
       "      <td>13.485000</td>\n",
       "      <td>2.610000</td>\n",
       "      <td>1607.000000</td>\n",
       "      <td>-0.285714</td>\n",
       "    </tr>\n",
       "    <tr>\n",
       "      <th>75%</th>\n",
       "      <td>1.065280e+06</td>\n",
       "      <td>1.440000</td>\n",
       "      <td>3.910000</td>\n",
       "      <td>8.020000</td>\n",
       "      <td>22.810000</td>\n",
       "      <td>16.622500</td>\n",
       "      <td>5.562500</td>\n",
       "      <td>3889.000000</td>\n",
       "      <td>0.000000</td>\n",
       "    </tr>\n",
       "    <tr>\n",
       "      <th>max</th>\n",
       "      <td>1.730168e+06</td>\n",
       "      <td>36.460000</td>\n",
       "      <td>37.390000</td>\n",
       "      <td>62.610000</td>\n",
       "      <td>290.940000</td>\n",
       "      <td>37.320000</td>\n",
       "      <td>233.260000</td>\n",
       "      <td>23070.000000</td>\n",
       "      <td>1.000000</td>\n",
       "    </tr>\n",
       "  </tbody>\n",
       "</table>\n",
       "</div>"
      ],
      "text/plain": [
       "                cik      rm_week     rm_month       rm_qtr      rm_year  \\\n",
       "count  3.426000e+03  3241.000000  3242.000000  3236.000000  3181.000000   \n",
       "mean   6.381226e+05     0.142299     0.925469     2.490637    11.589249   \n",
       "std    5.144178e+05     2.658491     5.370084     9.500858    25.874663   \n",
       "min    1.800000e+03   -16.280000   -31.020000   -37.230000   -62.970000   \n",
       "25%    8.042400e+04    -1.090000    -2.117500    -3.415000    -3.780000   \n",
       "50%    7.327170e+05     0.200000     0.960000     2.540000     9.420000   \n",
       "75%    1.065280e+06     1.440000     3.910000     8.020000    22.810000   \n",
       "max    1.730168e+06    36.460000    37.390000    62.610000   290.940000   \n",
       "\n",
       "               vix  price_change      text_len    sentiment  \n",
       "count  3426.000000   3244.000000   3426.000000  3426.000000  \n",
       "mean     14.667697      4.492127   3644.012259    -0.259193  \n",
       "std       4.220049     20.308287   4923.191543     0.484291  \n",
       "min       9.010000    -53.480000    126.000000    -1.000000  \n",
       "25%      11.492500      0.190000    598.250000    -0.596703  \n",
       "50%      13.485000      2.610000   1607.000000    -0.285714  \n",
       "75%      16.622500      5.562500   3889.000000     0.000000  \n",
       "max      37.320000    233.260000  23070.000000     1.000000  "
      ]
     },
     "execution_count": 3,
     "metadata": {},
     "output_type": "execute_result"
    }
   ],
   "source": [
    "df.describe()"
   ]
  },
  {
   "cell_type": "markdown",
   "metadata": {},
   "source": [
    "处理缺失值"
   ]
  },
  {
   "cell_type": "code",
   "execution_count": 5,
   "metadata": {},
   "outputs": [],
   "source": [
    "df = df.fillna(0)"
   ]
  },
  {
   "cell_type": "code",
   "execution_count": 6,
   "metadata": {},
   "outputs": [
    {
     "data": {
      "text/html": [
       "<div>\n",
       "<style scoped>\n",
       "    .dataframe tbody tr th:only-of-type {\n",
       "        vertical-align: middle;\n",
       "    }\n",
       "\n",
       "    .dataframe tbody tr th {\n",
       "        vertical-align: top;\n",
       "    }\n",
       "\n",
       "    .dataframe thead th {\n",
       "        text-align: right;\n",
       "    }\n",
       "</style>\n",
       "<table border=\"1\" class=\"dataframe\">\n",
       "  <thead>\n",
       "    <tr style=\"text-align: right;\">\n",
       "      <th></th>\n",
       "      <th>cik</th>\n",
       "      <th>rm_week</th>\n",
       "      <th>rm_month</th>\n",
       "      <th>rm_qtr</th>\n",
       "      <th>rm_year</th>\n",
       "      <th>vix</th>\n",
       "      <th>price_change</th>\n",
       "      <th>text_len</th>\n",
       "      <th>sentiment</th>\n",
       "    </tr>\n",
       "  </thead>\n",
       "  <tbody>\n",
       "    <tr>\n",
       "      <th>count</th>\n",
       "      <td>3.426000e+03</td>\n",
       "      <td>3426.000000</td>\n",
       "      <td>3426.000000</td>\n",
       "      <td>3426.000000</td>\n",
       "      <td>3426.000000</td>\n",
       "      <td>3426.000000</td>\n",
       "      <td>3426.000000</td>\n",
       "      <td>3426.000000</td>\n",
       "      <td>3426.000000</td>\n",
       "    </tr>\n",
       "    <tr>\n",
       "      <th>mean</th>\n",
       "      <td>6.381226e+05</td>\n",
       "      <td>0.134615</td>\n",
       "      <td>0.875765</td>\n",
       "      <td>2.352510</td>\n",
       "      <td>10.760479</td>\n",
       "      <td>14.667697</td>\n",
       "      <td>4.253491</td>\n",
       "      <td>3644.012259</td>\n",
       "      <td>-0.259193</td>\n",
       "    </tr>\n",
       "    <tr>\n",
       "      <th>std</th>\n",
       "      <td>5.144178e+05</td>\n",
       "      <td>2.585896</td>\n",
       "      <td>5.228011</td>\n",
       "      <td>9.251155</td>\n",
       "      <td>25.110309</td>\n",
       "      <td>4.220049</td>\n",
       "      <td>19.787017</td>\n",
       "      <td>4923.191543</td>\n",
       "      <td>0.484291</td>\n",
       "    </tr>\n",
       "    <tr>\n",
       "      <th>min</th>\n",
       "      <td>1.800000e+03</td>\n",
       "      <td>-16.280000</td>\n",
       "      <td>-31.020000</td>\n",
       "      <td>-37.230000</td>\n",
       "      <td>-62.970000</td>\n",
       "      <td>9.010000</td>\n",
       "      <td>-53.480000</td>\n",
       "      <td>126.000000</td>\n",
       "      <td>-1.000000</td>\n",
       "    </tr>\n",
       "    <tr>\n",
       "      <th>25%</th>\n",
       "      <td>8.042400e+04</td>\n",
       "      <td>-0.987500</td>\n",
       "      <td>-1.895000</td>\n",
       "      <td>-2.990000</td>\n",
       "      <td>-2.737500</td>\n",
       "      <td>11.492500</td>\n",
       "      <td>0.000000</td>\n",
       "      <td>598.250000</td>\n",
       "      <td>-0.596703</td>\n",
       "    </tr>\n",
       "    <tr>\n",
       "      <th>50%</th>\n",
       "      <td>7.327170e+05</td>\n",
       "      <td>0.070000</td>\n",
       "      <td>0.610000</td>\n",
       "      <td>2.015000</td>\n",
       "      <td>7.540000</td>\n",
       "      <td>13.485000</td>\n",
       "      <td>2.345000</td>\n",
       "      <td>1607.000000</td>\n",
       "      <td>-0.285714</td>\n",
       "    </tr>\n",
       "    <tr>\n",
       "      <th>75%</th>\n",
       "      <td>1.065280e+06</td>\n",
       "      <td>1.357500</td>\n",
       "      <td>3.740000</td>\n",
       "      <td>7.550000</td>\n",
       "      <td>21.667500</td>\n",
       "      <td>16.622500</td>\n",
       "      <td>5.290000</td>\n",
       "      <td>3889.000000</td>\n",
       "      <td>0.000000</td>\n",
       "    </tr>\n",
       "    <tr>\n",
       "      <th>max</th>\n",
       "      <td>1.730168e+06</td>\n",
       "      <td>36.460000</td>\n",
       "      <td>37.390000</td>\n",
       "      <td>62.610000</td>\n",
       "      <td>290.940000</td>\n",
       "      <td>37.320000</td>\n",
       "      <td>233.260000</td>\n",
       "      <td>23070.000000</td>\n",
       "      <td>1.000000</td>\n",
       "    </tr>\n",
       "  </tbody>\n",
       "</table>\n",
       "</div>"
      ],
      "text/plain": [
       "                cik      rm_week     rm_month       rm_qtr      rm_year  \\\n",
       "count  3.426000e+03  3426.000000  3426.000000  3426.000000  3426.000000   \n",
       "mean   6.381226e+05     0.134615     0.875765     2.352510    10.760479   \n",
       "std    5.144178e+05     2.585896     5.228011     9.251155    25.110309   \n",
       "min    1.800000e+03   -16.280000   -31.020000   -37.230000   -62.970000   \n",
       "25%    8.042400e+04    -0.987500    -1.895000    -2.990000    -2.737500   \n",
       "50%    7.327170e+05     0.070000     0.610000     2.015000     7.540000   \n",
       "75%    1.065280e+06     1.357500     3.740000     7.550000    21.667500   \n",
       "max    1.730168e+06    36.460000    37.390000    62.610000   290.940000   \n",
       "\n",
       "               vix  price_change      text_len    sentiment  \n",
       "count  3426.000000   3426.000000   3426.000000  3426.000000  \n",
       "mean     14.667697      4.253491   3644.012259    -0.259193  \n",
       "std       4.220049     19.787017   4923.191543     0.484291  \n",
       "min       9.010000    -53.480000    126.000000    -1.000000  \n",
       "25%      11.492500      0.000000    598.250000    -0.596703  \n",
       "50%      13.485000      2.345000   1607.000000    -0.285714  \n",
       "75%      16.622500      5.290000   3889.000000     0.000000  \n",
       "max      37.320000    233.260000  23070.000000     1.000000  "
      ]
     },
     "execution_count": 6,
     "metadata": {},
     "output_type": "execute_result"
    }
   ],
   "source": [
    "df.describe()"
   ]
  },
  {
   "cell_type": "code",
   "execution_count": 7,
   "metadata": {},
   "outputs": [],
   "source": [
    "df.to_pickle(\"Pickles\\\\processed_data.pkl\")"
   ]
  },
  {
   "cell_type": "code",
   "execution_count": null,
   "metadata": {},
   "outputs": [],
   "source": []
  }
 ],
 "metadata": {
  "kernelspec": {
   "display_name": "Python 3",
   "language": "python",
   "name": "python3"
  },
  "language_info": {
   "codemirror_mode": {
    "name": "ipython",
    "version": 3
   },
   "file_extension": ".py",
   "mimetype": "text/x-python",
   "name": "python",
   "nbconvert_exporter": "python",
   "pygments_lexer": "ipython3",
   "version": "3.6.7"
  }
 },
 "nbformat": 4,
 "nbformat_minor": 2
}
